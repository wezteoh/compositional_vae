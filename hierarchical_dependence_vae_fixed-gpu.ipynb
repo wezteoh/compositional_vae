{
 "cells": [
  {
   "cell_type": "code",
   "execution_count": 1,
   "metadata": {
    "collapsed": true
   },
   "outputs": [],
   "source": [
    "import numpy as np\n",
    "import matplotlib.pyplot as plt\n",
    "%matplotlib inline"
   ]
  },
  {
   "cell_type": "code",
   "execution_count": 2,
   "metadata": {},
   "outputs": [],
   "source": [
    "%load_ext autoreload\n",
    "%autoreload 2"
   ]
  },
  {
   "cell_type": "code",
   "execution_count": 3,
   "metadata": {
    "collapsed": true
   },
   "outputs": [],
   "source": [
    "from torch import nn, optim\n",
    "from torch.autograd import Variable\n",
    "from torch.nn import functional as F"
   ]
  },
  {
   "cell_type": "code",
   "execution_count": 4,
   "metadata": {
    "collapsed": true
   },
   "outputs": [],
   "source": [
    "import torchvision.datasets as dset\n",
    "import torchvision.transforms as transforms\n",
    "import torch.utils.data"
   ]
  },
  {
   "cell_type": "code",
   "execution_count": 17,
   "metadata": {
    "collapsed": true
   },
   "outputs": [],
   "source": [
    "CUDA = torch.cuda.is_available()"
   ]
  },
  {
   "cell_type": "code",
   "execution_count": 5,
   "metadata": {
    "collapsed": true
   },
   "outputs": [],
   "source": [
    "#transform\n",
    "data_transforms = transforms.Compose([\n",
    "        transforms.ToTensor(),\n",
    "        lambda x: x>0.5,\n",
    "        lambda x: x.float(),\n",
    "    ])"
   ]
  },
  {
   "cell_type": "code",
   "execution_count": 6,
   "metadata": {
    "collapsed": true
   },
   "outputs": [],
   "source": [
    "# dataset loading\n",
    "bsize = 100\n",
    "train_loader = torch.utils.data.DataLoader(\n",
    "    dset.MNIST('data', train=True, download=True, transform=data_transforms), batch_size=bsize, shuffle=True)\n",
    "test_loader = torch.utils.data.DataLoader(\n",
    "    dset.MNIST('data', train=False, download=True, transform=data_transforms), batch_size=bsize, shuffle=True)"
   ]
  },
  {
   "cell_type": "code",
   "execution_count": 91,
   "metadata": {
    "collapsed": true
   },
   "outputs": [],
   "source": [
    "# hyperparameters\n",
    "N = 5\n",
    "k = 2\n",
    "tau = 1."
   ]
  },
  {
   "cell_type": "code",
   "execution_count": 92,
   "metadata": {
    "collapsed": true
   },
   "outputs": [],
   "source": [
    "# TODO: UPDATE TO BINARY GUMBEL (REFER TO L0-REG PAPER)\n",
    "# gumbel-softmax\n",
    "def sample_gumbel(shape, eps=1e-20):\n",
    "    U = torch.rand(shape)\n",
    "    v = Variable(torch.log(-torch.log(U + eps) + eps))\n",
    "    if CUDA:\n",
    "        v = v.cuda()\n",
    "    return -v\n",
    "\n",
    "def gumbel_softmax_sample(logits, temperature):\n",
    "    y = logits + sample_gumbel(logits.size())\n",
    "    return F.softmax(y / temperature, dim=-1)\n",
    "\n",
    "def gumbel_softmax(logits, temperature):\n",
    "    \"\"\"\n",
    "    input: [*, n_class]\n",
    "    return: [*, n_class] an one-hot vector\n",
    "    \"\"\"\n",
    "    y = gumbel_softmax_sample(logits, temperature)\n",
    "    shape = y.size()\n",
    "    _, ind = y.max(dim=-1)\n",
    "    y_hard = torch.zeros_like(y).view(-1, shape[-1])\n",
    "    y_hard.scatter_(1, ind.view(-1, 1), 1)\n",
    "    y_hard = y_hard.view(*shape)\n",
    "    return (y_hard - y).detach() + y"
   ]
  },
  {
   "cell_type": "code",
   "execution_count": 93,
   "metadata": {
    "collapsed": true
   },
   "outputs": [],
   "source": [
    "class Encoder(nn.Module):\n",
    "    def __init__(self):\n",
    "        super(Encoder, self).__init__()\n",
    "        self.fc1 = nn.Linear(784, 512)\n",
    "        self.fc2 = nn.Linear(512, 128)\n",
    "        self.relu = nn.ReLU()\n",
    "        \n",
    "    def forward(self, x):\n",
    "        h1 = self.relu(self.fc1(x))\n",
    "        l = self.relu(self.fc2(h1))\n",
    "        return l"
   ]
  },
  {
   "cell_type": "code",
   "execution_count": 94,
   "metadata": {
    "collapsed": true
   },
   "outputs": [],
   "source": [
    "class Tunnel(nn.Module):\n",
    "    def __init__(self):\n",
    "        super(Tunnel, self).__init__()\n",
    "        self.fc1 = nn.Linear(128, 128)\n",
    "        self.relu = nn.ReLU()\n",
    "        \n",
    "    def forward(self, x):\n",
    "        l = self.relu(self.fc1(x))\n",
    "        return l"
   ]
  },
  {
   "cell_type": "code",
   "execution_count": 95,
   "metadata": {
    "collapsed": true
   },
   "outputs": [],
   "source": [
    "class Output(nn.Module):\n",
    "    def __init__(self):\n",
    "        super(Output, self).__init__()\n",
    "        self.fc1 = nn.Linear(128, 2)\n",
    "        self.relu = nn.ReLU()\n",
    "        \n",
    "    def forward(self, x):\n",
    "        h1 = self.relu(self.fc1(x))\n",
    "        l = h1.view(-1,2)\n",
    "        return l"
   ]
  },
  {
   "cell_type": "code",
   "execution_count": 96,
   "metadata": {
    "collapsed": true
   },
   "outputs": [],
   "source": [
    "class Gate(nn.Module):\n",
    "    def __init__(self):\n",
    "        super(Gate, self).__init__()\n",
    "        self.fc1 = nn.Linear(1, 128)\n",
    "        \n",
    "    def forward(self, x):\n",
    "        return F.sigmoid(self.fc1(x))"
   ]
  },
  {
   "cell_type": "code",
   "execution_count": 97,
   "metadata": {
    "collapsed": true
   },
   "outputs": [],
   "source": [
    "def prob(outputs):\n",
    "    outputs = [F.softmax(out, dim=-1) for out in outputs]\n",
    "    return torch.cat(outputs, dim=1).view(-1, N, k)\n",
    "\n",
    "def sample(l):\n",
    "    gs = gumbel_softmax(l, tau)\n",
    "    return gs.narrow(1,0,1)\n",
    "\n",
    "# def signal(outputs):\n",
    "#     outputs = [sample(out).narrow(1,0,1) for out in outputs]\n",
    "#     return torch.cat(outputs, dim=1)\n",
    "    "
   ]
  },
  {
   "cell_type": "code",
   "execution_count": 98,
   "metadata": {
    "collapsed": true
   },
   "outputs": [],
   "source": [
    "class Decoder(nn.Module):  \n",
    "    def __init__(self):\n",
    "        super(Decoder, self).__init__()\n",
    "        self.fc1 = nn.Linear(N, 128)\n",
    "        self.fc2 = nn.Linear(128, 256)\n",
    "        self.fc3 = nn.Linear(256, 512)      \n",
    "        self.fc4 = nn.Linear(512, 784)\n",
    "        self.relu = nn.ReLU()\n",
    "        \n",
    "    def forward(self, x):\n",
    "        h1 = self.relu(self.fc1(x))\n",
    "        h2 = self.relu(self.fc2(h1))\n",
    "        h3 = self.relu(self.fc3(h2))\n",
    "        h4 = self.fc4(h3)\n",
    "        o = h4.view(-1,784)\n",
    "        return F.sigmoid(o)"
   ]
  },
  {
   "cell_type": "code",
   "execution_count": 113,
   "metadata": {
    "collapsed": true
   },
   "outputs": [],
   "source": [
    "E = Encoder()\n",
    "D = Decoder()\n",
    "O0 = Output()\n",
    "Os = [Output() for _ in range(N-1)]\n",
    "Ts = [Tunnel() for _ in range(N-1)]\n",
    "T1s = [Tunnel() for _ in range(N-1)]\n",
    "Gs = [Gate() for _ in range(N-1)]"
   ]
  },
  {
   "cell_type": "code",
   "execution_count": 114,
   "metadata": {
    "collapsed": true
   },
   "outputs": [],
   "source": [
    "if CUDA:\n",
    "    E.cuda()\n",
    "    D.cuda()\n",
    "    O0.cuda()\n",
    "    [e.cuda() for e in Os]\n",
    "    [e.cuda() for e in Ts]\n",
    "    [e.cuda() for e in T1s]\n",
    "    [e.cuda() for e in Gs]"
   ]
  },
  {
   "cell_type": "code",
   "execution_count": 115,
   "metadata": {
    "collapsed": true
   },
   "outputs": [],
   "source": [
    "import os\n",
    "os.system('mkdir -p checkpoint')\n",
    "PATH = 'checkpoint/hd_vae'\n",
    "def save_model():\n",
    "    torch.save(E.state_dict(), \"{}_E\".format(PATH))\n",
    "    torch.save(D.state_dict(), \"{}_D\".format(PATH))\n",
    "    torch.save(O0.state_dict(), \"{}_O0\".format(PATH))\n",
    "    \n",
    "    def save_list(models, name):\n",
    "        for i in range(len(models)):\n",
    "            torch.save(models[i].state_dict(), \"{}_{}_{}\".format(PATH, name, i))\n",
    "    \n",
    "    save_list(Os, 'Os')\n",
    "    save_list(Ts, 'Ts')\n",
    "    save_list(T1s, 'T1s')\n",
    "    save_list(Gs, 'Gs')\n",
    "    \n",
    "#save_model()"
   ]
  },
  {
   "cell_type": "code",
   "execution_count": 116,
   "metadata": {},
   "outputs": [],
   "source": [
    "from itertools import product\n",
    "    \n",
    "log_two_pow_n = Variable(torch.Tensor([2**N]).log(), requires_grad=False)\n",
    "if CUDA:\n",
    "    log_two_pow_n = log_two_pow_n.cuda()\n",
    "\n",
    "def get_dependent_prior_loss(x):\n",
    "    acc = Variable(torch.zeros(2**N))\n",
    "    if CUDA:\n",
    "        acc = acc.cuda()\n",
    "    acc_i = 0\n",
    "    for _path in product(range(2), repeat=N):\n",
    "        path = Variable(torch.Tensor(_path), requires_grad=False)\n",
    "        if CUDA:\n",
    "            path = path.cuda()\n",
    "        sofar = E(x)\n",
    "        outputs = [O0(sofar)]\n",
    "\n",
    "        for n in range(len(Ts)):\n",
    "            sofar = Ts[n](sofar)*Gs[n](path[n]) # Kind of doing \"teacher forcing\"\n",
    "            outputs.append(Os[n](sofar))\n",
    "\n",
    "        q = prob(outputs)\n",
    "\n",
    "        _idx = path.data\n",
    "        select_mat = Variable(torch.stack([1-_idx, _idx]).t(), requires_grad=False)\n",
    "        if CUDA:\n",
    "            select_mat = select_mat.cuda()\n",
    "        select_mat = select_mat.expand(torch.Size([x.shape[0]]) + select_mat.shape)\n",
    "        probs = q.mul(select_mat).sum(-1) # shape (batch x N)\n",
    "        log_q = (probs+1e-20).log().sum(-1) # shape (batch)\n",
    "        kl_term = log_q.exp().mul(log_two_pow_n + log_q) # shape (batch)\n",
    "        kl_term = kl_term.mean() # shape (1) - take sum over minibatch\n",
    "\n",
    "        acc[acc_i] = kl_term\n",
    "        acc_i += 1\n",
    "\n",
    "    return acc.sum()"
   ]
  },
  {
   "cell_type": "code",
   "execution_count": 117,
   "metadata": {},
   "outputs": [
    {
     "data": {
      "text/plain": [
       "Variable containing:\n",
       "1.00000e-04 *\n",
       "  4.0340\n",
       "[torch.cuda.FloatTensor of size 1 (GPU 0)]"
      ]
     },
     "execution_count": 117,
     "metadata": {},
     "output_type": "execute_result"
    }
   ],
   "source": [
    "# TESTING\n",
    "# Hacky! Getting a data point.\n",
    "for batch_idx, (data, _) in enumerate(train_loader):\n",
    "    data = Variable(data)\n",
    "    if CUDA:\n",
    "        data = data.cuda()\n",
    "    x = data.view(-1,784)\n",
    "    x = x[0:4]\n",
    "    break\n",
    "    \n",
    "get_dependent_prior_loss(x)"
   ]
  },
  {
   "cell_type": "code",
   "execution_count": 118,
   "metadata": {},
   "outputs": [
    {
     "data": {
      "text/plain": [
       "Variable containing:\n",
       "    0     0     0  ...      0     0     0\n",
       "    0     0     0  ...      0     0     0\n",
       "    0     0     0  ...      0     0     0\n",
       "    0     0     0  ...      0     0     0\n",
       "[torch.cuda.FloatTensor of size 4x784 (GPU 0)]"
      ]
     },
     "execution_count": 118,
     "metadata": {},
     "output_type": "execute_result"
    }
   ],
   "source": [
    "x"
   ]
  },
  {
   "cell_type": "code",
   "execution_count": 119,
   "metadata": {
    "collapsed": true
   },
   "outputs": [],
   "source": [
    "# TODO\n",
    "# objective\n",
    "def loss_function(recon_x, x, q):\n",
    "    BCE = F.binary_cross_entropy(recon_x, x, size_average=False)/bsize # TODO eddie: changed from size_average=False\n",
    "    # Assuming independent latent\n",
    "#     KLD = torch.sum(q*(torch.log(q+1E-20)-np.log(1/k)))\n",
    "\n",
    "    # Assuming dependent latent\n",
    "    KLD = get_dependent_prior_loss(x)\n",
    "    return BCE, KLD"
   ]
  },
  {
   "cell_type": "code",
   "execution_count": 120,
   "metadata": {
    "collapsed": true
   },
   "outputs": [],
   "source": [
    "params = [\n",
    "    {'params':E.parameters()},\n",
    "    {'params':D.parameters()},\n",
    "    {'params':O0.parameters()},\n",
    "] + [{'params':o.parameters()} for o in Os] \\\n",
    "  + [{'params':t.parameters()} for t in Ts] + [{'params': g.parameters()} for g in Gs]\n",
    "optimizer = optim.Adam(params, lr=1e-4)"
   ]
  },
  {
   "cell_type": "code",
   "execution_count": 121,
   "metadata": {
    "collapsed": true
   },
   "outputs": [],
   "source": [
    "best_loss_sofar = 9999"
   ]
  },
  {
   "cell_type": "code",
   "execution_count": 122,
   "metadata": {},
   "outputs": [],
   "source": [
    "def train(epoch):\n",
    "    global best_loss_sofar\n",
    "    train_bce_loss = 0\n",
    "    train_kld_loss = 0\n",
    "    for batch_idx, (data, _) in enumerate(train_loader):\n",
    "        data = Variable(data)\n",
    "        if CUDA:\n",
    "            data = data.cuda()\n",
    "        x = data.view(-1,784)\n",
    "        optimizer.zero_grad()\n",
    "        sofar = E(x)\n",
    "        outputs = [O0(sofar)]\n",
    "        samples = [sample(outputs[-1])]\n",
    "        for n in range(len(Ts)):\n",
    "            sofar = Ts[n](sofar)*Gs[n](samples[-1])\n",
    "            outputs.append(Os[n](sofar))\n",
    "            samples.append(sample(outputs[-1]))\n",
    "        bits = torch.cat(samples, dim=1)\n",
    "        q = prob(outputs)\n",
    "        recon_x = D(bits)\n",
    "        BCE, KLD = loss_function(recon_x, x, q)\n",
    "        loss = BCE + KLD\n",
    "        loss.backward()\n",
    "        optimizer.step()\n",
    "        \n",
    "        train_bce_loss += BCE.data[0]\n",
    "        train_kld_loss += KLD.data[0]\n",
    "        \n",
    "#         if batch_idx % 200 == 0:\n",
    "#             print('Train Epoch: {} [{}/{} ({:.0f}%)]\\tBCE loss: {:.6f}\\tKLD loss: {:.6f}'.format(\n",
    "#                 epoch+1, batch_idx * len(data), len(train_loader.dataset),\n",
    "#                 100. * batch_idx / len(train_loader),\n",
    "#                 BCE.data[0] / len(data),\n",
    "#                 KLD.data[0] / len(data)))\n",
    "            \n",
    "    avg_bce_loss = train_bce_loss / len(train_loader.dataset)\n",
    "    avg_kld_loss = train_kld_loss / len(train_loader.dataset)\n",
    "    avg_loss = avg_bce_loss + avg_kld_loss\n",
    "    print('====> Epoch: {} Average BCE loss: {:.4f}, Average KLD loss: {:.4f}, Total: {:.4f}'.format(\n",
    "          epoch+1, avg_bce_loss, avg_kld_loss, avg_loss))\n",
    "    \n",
    "    if avg_loss < best_loss_sofar:\n",
    "        print(\"Loss {} is better than previous best {}, saving model\".format(avg_loss, best_loss_sofar))\n",
    "        save_model()\n",
    "        best_loss_sofar = avg_loss"
   ]
  },
  {
   "cell_type": "code",
   "execution_count": 123,
   "metadata": {
    "scrolled": false
   },
   "outputs": [
    {
     "name": "stdout",
     "output_type": "stream",
     "text": [
      "====> Epoch: 1 Average BCE loss: 2.3686, Average KLD loss: 0.0124, Total: 2.3809\n",
      "Loss 2.380908188727977 is better than previous best 9999, saving model\n",
      "====> Epoch: 2 Average BCE loss: 2.0511, Average KLD loss: 0.0140, Total: 2.0650\n",
      "Loss 2.06503392410477 is better than previous best 2.380908188727977, saving model\n",
      "====> Epoch: 3 Average BCE loss: 2.0102, Average KLD loss: 0.0139, Total: 2.0241\n",
      "Loss 2.0240975508371988 is better than previous best 2.06503392410477, saving model\n",
      "====> Epoch: 4 Average BCE loss: 2.0020, Average KLD loss: 0.0139, Total: 2.0159\n",
      "Loss 2.0158843368351462 is better than previous best 2.0240975508371988, saving model\n",
      "====> Epoch: 5 Average BCE loss: 2.0003, Average KLD loss: 0.0139, Total: 2.0141\n",
      "Loss 2.014137371867895 is better than previous best 2.0158843368351462, saving model\n",
      "====> Epoch: 6 Average BCE loss: 1.9986, Average KLD loss: 0.0139, Total: 2.0125\n",
      "Loss 2.012489681071043 is better than previous best 2.014137371867895, saving model\n",
      "====> Epoch: 7 Average BCE loss: 1.9979, Average KLD loss: 0.0139, Total: 2.0118\n",
      "Loss 2.0117626210014024 is better than previous best 2.012489681071043, saving model\n",
      "====> Epoch: 8 Average BCE loss: 1.9973, Average KLD loss: 0.0139, Total: 2.0111\n",
      "Loss 2.011144838718573 is better than previous best 2.0117626210014024, saving model\n",
      "====> Epoch: 9 Average BCE loss: 1.9979, Average KLD loss: 0.0139, Total: 2.0117\n",
      "====> Epoch: 10 Average BCE loss: 1.9968, Average KLD loss: 0.0139, Total: 2.0106\n",
      "Loss 2.0106342870116234 is better than previous best 2.011144838718573, saving model\n",
      "====> Epoch: 11 Average BCE loss: 1.9969, Average KLD loss: 0.0139, Total: 2.0107\n",
      "====> Epoch: 12 Average BCE loss: 1.9970, Average KLD loss: 0.0139, Total: 2.0109\n",
      "====> Epoch: 13 Average BCE loss: 1.9968, Average KLD loss: 0.0139, Total: 2.0107\n",
      "====> Epoch: 14 Average BCE loss: 1.9963, Average KLD loss: 0.0139, Total: 2.0102\n",
      "Loss 2.010194463264942 is better than previous best 2.0106342870116234, saving model\n",
      "====> Epoch: 15 Average BCE loss: 1.9966, Average KLD loss: 0.0139, Total: 2.0104\n",
      "====> Epoch: 16 Average BCE loss: 1.9941, Average KLD loss: 0.0132, Total: 2.0073\n",
      "Loss 2.0073322632710138 is better than previous best 2.010194463264942, saving model\n",
      "====> Epoch: 17 Average BCE loss: 1.9776, Average KLD loss: 0.0071, Total: 1.9847\n",
      "Loss 1.9847026662568252 is better than previous best 2.0073322632710138, saving model\n",
      "====> Epoch: 18 Average BCE loss: 1.9757, Average KLD loss: 0.0070, Total: 1.9827\n",
      "Loss 1.9826930572519699 is better than previous best 1.9847026662568252, saving model\n",
      "====> Epoch: 19 Average BCE loss: 1.9745, Average KLD loss: 0.0070, Total: 1.9815\n",
      "Loss 1.981488522012035 is better than previous best 1.9826930572519699, saving model\n",
      "====> Epoch: 20 Average BCE loss: 1.9744, Average KLD loss: 0.0070, Total: 1.9813\n",
      "Loss 1.9813109246532121 is better than previous best 1.981488522012035, saving model\n",
      "====> Epoch: 21 Average BCE loss: 1.9739, Average KLD loss: 0.0070, Total: 1.9808\n",
      "Loss 1.9808140101840097 is better than previous best 1.9813109246532121, saving model\n",
      "====> Epoch: 22 Average BCE loss: 1.9734, Average KLD loss: 0.0070, Total: 1.9803\n",
      "Loss 1.980312996332844 is better than previous best 1.9808140101840097, saving model\n",
      "====> Epoch: 23 Average BCE loss: 1.9705, Average KLD loss: 0.0070, Total: 1.9775\n",
      "Loss 1.9774712710012992 is better than previous best 1.980312996332844, saving model\n",
      "====> Epoch: 24 Average BCE loss: 1.9657, Average KLD loss: 0.0070, Total: 1.9727\n",
      "Loss 1.9726922246088583 is better than previous best 1.9774712710012992, saving model\n",
      "====> Epoch: 25 Average BCE loss: 1.9628, Average KLD loss: 0.0069, Total: 1.9698\n",
      "Loss 1.9697642448157073 is better than previous best 1.9726922246088583, saving model\n",
      "====> Epoch: 26 Average BCE loss: 1.9631, Average KLD loss: 0.0070, Total: 1.9700\n",
      "====> Epoch: 27 Average BCE loss: 1.9613, Average KLD loss: 0.0070, Total: 1.9683\n",
      "Loss 1.9682619610130787 is better than previous best 1.9697642448157073, saving model\n",
      "====> Epoch: 28 Average BCE loss: 1.9605, Average KLD loss: 0.0070, Total: 1.9675\n",
      "Loss 1.967485988030831 is better than previous best 1.9682619610130787, saving model\n",
      "====> Epoch: 29 Average BCE loss: 1.9591, Average KLD loss: 0.0070, Total: 1.9661\n",
      "Loss 1.9661049361517031 is better than previous best 1.967485988030831, saving model\n",
      "====> Epoch: 30 Average BCE loss: 1.9575, Average KLD loss: 0.0070, Total: 1.9644\n",
      "Loss 1.9644348470250765 is better than previous best 1.9661049361517031, saving model\n",
      "====> Epoch: 31 Average BCE loss: 1.9589, Average KLD loss: 0.0069, Total: 1.9659\n",
      "====> Epoch: 32 Average BCE loss: 1.9571, Average KLD loss: 0.0070, Total: 1.9641\n",
      "Loss 1.9640693453639746 is better than previous best 1.9644348470250765, saving model\n",
      "====> Epoch: 33 Average BCE loss: 1.9568, Average KLD loss: 0.0069, Total: 1.9637\n",
      "Loss 1.963722679715355 is better than previous best 1.9640693453639746, saving model\n",
      "====> Epoch: 34 Average BCE loss: 1.9448, Average KLD loss: 0.0073, Total: 1.9522\n",
      "Loss 1.9521570585588615 is better than previous best 1.963722679715355, saving model\n",
      "====> Epoch: 35 Average BCE loss: 1.9218, Average KLD loss: 0.0086, Total: 1.9304\n",
      "Loss 1.9304414543281 is better than previous best 1.9521570585588615, saving model\n",
      "====> Epoch: 36 Average BCE loss: 1.9175, Average KLD loss: 0.0089, Total: 1.9264\n",
      "Loss 1.9264484934777022 is better than previous best 1.9304414543281, saving model\n",
      "====> Epoch: 37 Average BCE loss: 1.9170, Average KLD loss: 0.0092, Total: 1.9262\n",
      "Loss 1.9261690941224496 is better than previous best 1.9264484934777022, saving model\n",
      "====> Epoch: 38 Average BCE loss: 1.9149, Average KLD loss: 0.0094, Total: 1.9243\n",
      "Loss 1.9243337318430345 is better than previous best 1.9261690941224496, saving model\n",
      "====> Epoch: 39 Average BCE loss: 1.9161, Average KLD loss: 0.0094, Total: 1.9254\n",
      "====> Epoch: 40 Average BCE loss: 1.8854, Average KLD loss: 0.0129, Total: 1.8983\n",
      "Loss 1.898311193561554 is better than previous best 1.9243337318430345, saving model\n",
      "====> Epoch: 41 Average BCE loss: 1.8677, Average KLD loss: 0.0135, Total: 1.8812\n",
      "Loss 1.8812420033355552 is better than previous best 1.898311193561554, saving model\n",
      "====> Epoch: 42 Average BCE loss: 1.8599, Average KLD loss: 0.0134, Total: 1.8733\n",
      "Loss 1.8733417476038137 is better than previous best 1.8812420033355552, saving model\n",
      "====> Epoch: 43 Average BCE loss: 1.8547, Average KLD loss: 0.0133, Total: 1.8680\n",
      "Loss 1.867979410459598 is better than previous best 1.8733417476038137, saving model\n",
      "====> Epoch: 44 Average BCE loss: 1.8521, Average KLD loss: 0.0126, Total: 1.8647\n",
      "Loss 1.8647379817048708 is better than previous best 1.867979410459598, saving model\n",
      "====> Epoch: 45 Average BCE loss: 1.8500, Average KLD loss: 0.0119, Total: 1.8618\n",
      "Loss 1.8618446863869826 is better than previous best 1.8647379817048708, saving model\n",
      "====> Epoch: 46 Average BCE loss: 1.8493, Average KLD loss: 0.0113, Total: 1.8606\n",
      "Loss 1.8606010872900485 is better than previous best 1.8618446863869826, saving model\n",
      "====> Epoch: 47 Average BCE loss: 1.8488, Average KLD loss: 0.0109, Total: 1.8598\n",
      "Loss 1.8597526870111625 is better than previous best 1.8606010872900485, saving model\n",
      "====> Epoch: 48 Average BCE loss: 1.8477, Average KLD loss: 0.0108, Total: 1.8585\n",
      "Loss 1.8585300840318202 is better than previous best 1.8597526870111625, saving model\n",
      "====> Epoch: 49 Average BCE loss: 1.8457, Average KLD loss: 0.0108, Total: 1.8565\n",
      "Loss 1.8565370886097352 is better than previous best 1.8585300840318202, saving model\n",
      "====> Epoch: 50 Average BCE loss: 1.8458, Average KLD loss: 0.0105, Total: 1.8563\n",
      "Loss 1.8563089783102276 is better than previous best 1.8565370886097352, saving model\n",
      "====> Epoch: 51 Average BCE loss: 1.8437, Average KLD loss: 0.0104, Total: 1.8541\n",
      "Loss 1.8541256937036912 is better than previous best 1.8563089783102276, saving model\n",
      "====> Epoch: 52 Average BCE loss: 1.8456, Average KLD loss: 0.0102, Total: 1.8558\n",
      "====> Epoch: 53 Average BCE loss: 1.8438, Average KLD loss: 0.0101, Total: 1.8539\n",
      "Loss 1.8539160017361245 is better than previous best 1.8541256937036912, saving model\n",
      "====> Epoch: 54 Average BCE loss: 1.8436, Average KLD loss: 0.0099, Total: 1.8535\n",
      "Loss 1.8535187096605699 is better than previous best 1.8539160017361245, saving model\n"
     ]
    },
    {
     "name": "stdout",
     "output_type": "stream",
     "text": [
      "====> Epoch: 55 Average BCE loss: 1.8433, Average KLD loss: 0.0100, Total: 1.8534\n",
      "Loss 1.8533651951432228 is better than previous best 1.8535187096605699, saving model\n",
      "====> Epoch: 56 Average BCE loss: 1.8421, Average KLD loss: 0.0099, Total: 1.8520\n",
      "Loss 1.8519986951490244 is better than previous best 1.8533651951432228, saving model\n",
      "====> Epoch: 57 Average BCE loss: 1.8446, Average KLD loss: 0.0098, Total: 1.8544\n",
      "====> Epoch: 58 Average BCE loss: 1.8444, Average KLD loss: 0.0096, Total: 1.8540\n",
      "====> Epoch: 59 Average BCE loss: 1.8413, Average KLD loss: 0.0096, Total: 1.8509\n",
      "Loss 1.8509089320898056 is better than previous best 1.8519986951490244, saving model\n",
      "====> Epoch: 60 Average BCE loss: 1.8430, Average KLD loss: 0.0096, Total: 1.8526\n",
      "====> Epoch: 61 Average BCE loss: 1.8431, Average KLD loss: 0.0094, Total: 1.8525\n",
      "====> Epoch: 62 Average BCE loss: 1.8441, Average KLD loss: 0.0094, Total: 1.8535\n",
      "====> Epoch: 63 Average BCE loss: 1.8432, Average KLD loss: 0.0093, Total: 1.8525\n",
      "====> Epoch: 64 Average BCE loss: 1.8427, Average KLD loss: 0.0092, Total: 1.8519\n",
      "====> Epoch: 65 Average BCE loss: 1.8432, Average KLD loss: 0.0092, Total: 1.8525\n",
      "====> Epoch: 66 Average BCE loss: 1.8438, Average KLD loss: 0.0092, Total: 1.8530\n",
      "====> Epoch: 67 Average BCE loss: 1.7895, Average KLD loss: 0.0130, Total: 1.8025\n",
      "Loss 1.8024900996178388 is better than previous best 1.8509089320898056, saving model\n",
      "====> Epoch: 68 Average BCE loss: 1.7727, Average KLD loss: 0.0121, Total: 1.7848\n",
      "Loss 1.7847867536902426 is better than previous best 1.8024900996178388, saving model\n",
      "====> Epoch: 69 Average BCE loss: 1.7693, Average KLD loss: 0.0109, Total: 1.7802\n",
      "Loss 1.7802101605524618 is better than previous best 1.7847867536902426, saving model\n",
      "====> Epoch: 70 Average BCE loss: 1.7692, Average KLD loss: 0.0106, Total: 1.7798\n",
      "Loss 1.779826821666956 is better than previous best 1.7802101605524618, saving model\n",
      "====> Epoch: 71 Average BCE loss: 1.7699, Average KLD loss: 0.0105, Total: 1.7804\n",
      "====> Epoch: 72 Average BCE loss: 1.7715, Average KLD loss: 0.0104, Total: 1.7819\n",
      "====> Epoch: 73 Average BCE loss: 1.7714, Average KLD loss: 0.0104, Total: 1.7817\n",
      "====> Epoch: 74 Average BCE loss: 1.7717, Average KLD loss: 0.0101, Total: 1.7818\n",
      "====> Epoch: 75 Average BCE loss: 1.7706, Average KLD loss: 0.0097, Total: 1.7804\n",
      "====> Epoch: 76 Average BCE loss: 1.7705, Average KLD loss: 0.0095, Total: 1.7800\n",
      "====> Epoch: 77 Average BCE loss: 1.7702, Average KLD loss: 0.0093, Total: 1.7795\n",
      "Loss 1.779518576495846 is better than previous best 1.779826821666956, saving model\n",
      "====> Epoch: 78 Average BCE loss: 1.7703, Average KLD loss: 0.0092, Total: 1.7795\n",
      "Loss 1.7794557670215765 is better than previous best 1.779518576495846, saving model\n",
      "====> Epoch: 79 Average BCE loss: 1.7697, Average KLD loss: 0.0090, Total: 1.7787\n",
      "Loss 1.778683614975214 is better than previous best 1.7794557670215765, saving model\n",
      "====> Epoch: 80 Average BCE loss: 1.7706, Average KLD loss: 0.0090, Total: 1.7796\n",
      "====> Epoch: 81 Average BCE loss: 1.7692, Average KLD loss: 0.0087, Total: 1.7779\n",
      "Loss 1.777881088433663 is better than previous best 1.778683614975214, saving model\n",
      "====> Epoch: 82 Average BCE loss: 1.7687, Average KLD loss: 0.0087, Total: 1.7773\n",
      "Loss 1.7773446292191744 is better than previous best 1.777881088433663, saving model\n",
      "====> Epoch: 83 Average BCE loss: 1.7677, Average KLD loss: 0.0086, Total: 1.7763\n",
      "Loss 1.776290731237332 is better than previous best 1.7773446292191744, saving model\n",
      "====> Epoch: 84 Average BCE loss: 1.7698, Average KLD loss: 0.0086, Total: 1.7783\n",
      "====> Epoch: 85 Average BCE loss: 1.7688, Average KLD loss: 0.0085, Total: 1.7773\n",
      "====> Epoch: 86 Average BCE loss: 1.7694, Average KLD loss: 0.0085, Total: 1.7779\n",
      "====> Epoch: 87 Average BCE loss: 1.7688, Average KLD loss: 0.0085, Total: 1.7773\n",
      "====> Epoch: 88 Average BCE loss: 1.7695, Average KLD loss: 0.0084, Total: 1.7779\n",
      "====> Epoch: 89 Average BCE loss: 1.7698, Average KLD loss: 0.0084, Total: 1.7782\n",
      "====> Epoch: 90 Average BCE loss: 1.7706, Average KLD loss: 0.0084, Total: 1.7789\n",
      "====> Epoch: 91 Average BCE loss: 1.7677, Average KLD loss: 0.0084, Total: 1.7761\n",
      "Loss 1.7761255714784066 is better than previous best 1.776290731237332, saving model\n",
      "====> Epoch: 92 Average BCE loss: 1.7697, Average KLD loss: 0.0083, Total: 1.7781\n",
      "====> Epoch: 93 Average BCE loss: 1.7685, Average KLD loss: 0.0082, Total: 1.7767\n",
      "====> Epoch: 94 Average BCE loss: 1.7708, Average KLD loss: 0.0082, Total: 1.7791\n",
      "====> Epoch: 95 Average BCE loss: 1.7695, Average KLD loss: 0.0082, Total: 1.7777\n",
      "====> Epoch: 96 Average BCE loss: 1.7705, Average KLD loss: 0.0082, Total: 1.7787\n",
      "====> Epoch: 97 Average BCE loss: 1.7693, Average KLD loss: 0.0082, Total: 1.7775\n",
      "====> Epoch: 98 Average BCE loss: 1.7681, Average KLD loss: 0.0082, Total: 1.7762\n",
      "====> Epoch: 99 Average BCE loss: 1.7716, Average KLD loss: 0.0081, Total: 1.7797\n",
      "====> Epoch: 100 Average BCE loss: 1.7694, Average KLD loss: 0.0082, Total: 1.7776\n",
      "====> Epoch: 101 Average BCE loss: 1.7699, Average KLD loss: 0.0082, Total: 1.7781\n",
      "====> Epoch: 102 Average BCE loss: 1.7719, Average KLD loss: 0.0082, Total: 1.7801\n",
      "====> Epoch: 103 Average BCE loss: 1.7718, Average KLD loss: 0.0082, Total: 1.7799\n",
      "====> Epoch: 104 Average BCE loss: 1.7727, Average KLD loss: 0.0081, Total: 1.7808\n",
      "====> Epoch: 105 Average BCE loss: 1.7703, Average KLD loss: 0.0081, Total: 1.7785\n",
      "====> Epoch: 106 Average BCE loss: 1.7727, Average KLD loss: 0.0081, Total: 1.7808\n",
      "====> Epoch: 107 Average BCE loss: 1.7722, Average KLD loss: 0.0080, Total: 1.7802\n",
      "====> Epoch: 108 Average BCE loss: 1.7714, Average KLD loss: 0.0081, Total: 1.7795\n",
      "====> Epoch: 109 Average BCE loss: 1.7752, Average KLD loss: 0.0080, Total: 1.7833\n",
      "====> Epoch: 110 Average BCE loss: 1.7732, Average KLD loss: 0.0080, Total: 1.7812\n",
      "====> Epoch: 111 Average BCE loss: 1.7738, Average KLD loss: 0.0080, Total: 1.7818\n",
      "====> Epoch: 112 Average BCE loss: 1.7727, Average KLD loss: 0.0081, Total: 1.7808\n",
      "====> Epoch: 113 Average BCE loss: 1.7744, Average KLD loss: 0.0080, Total: 1.7824\n",
      "====> Epoch: 114 Average BCE loss: 1.7733, Average KLD loss: 0.0079, Total: 1.7813\n",
      "====> Epoch: 115 Average BCE loss: 1.7729, Average KLD loss: 0.0080, Total: 1.7810\n",
      "====> Epoch: 116 Average BCE loss: 1.7756, Average KLD loss: 0.0080, Total: 1.7835\n",
      "====> Epoch: 117 Average BCE loss: 1.7746, Average KLD loss: 0.0079, Total: 1.7825\n",
      "====> Epoch: 118 Average BCE loss: 1.7714, Average KLD loss: 0.0081, Total: 1.7795\n",
      "====> Epoch: 119 Average BCE loss: 1.7748, Average KLD loss: 0.0079, Total: 1.7827\n",
      "====> Epoch: 120 Average BCE loss: 1.7729, Average KLD loss: 0.0080, Total: 1.7809\n",
      "====> Epoch: 121 Average BCE loss: 1.7748, Average KLD loss: 0.0080, Total: 1.7827\n",
      "====> Epoch: 122 Average BCE loss: 1.7718, Average KLD loss: 0.0081, Total: 1.7798\n",
      "====> Epoch: 123 Average BCE loss: 1.7725, Average KLD loss: 0.0080, Total: 1.7805\n",
      "====> Epoch: 124 Average BCE loss: 1.7729, Average KLD loss: 0.0080, Total: 1.7809\n",
      "====> Epoch: 125 Average BCE loss: 1.7719, Average KLD loss: 0.0080, Total: 1.7800\n",
      "====> Epoch: 126 Average BCE loss: 1.7724, Average KLD loss: 0.0081, Total: 1.7805\n",
      "====> Epoch: 127 Average BCE loss: 1.7715, Average KLD loss: 0.0081, Total: 1.7796\n",
      "====> Epoch: 128 Average BCE loss: 1.7757, Average KLD loss: 0.0080, Total: 1.7836\n",
      "====> Epoch: 129 Average BCE loss: 1.7745, Average KLD loss: 0.0080, Total: 1.7825\n",
      "====> Epoch: 130 Average BCE loss: 1.7759, Average KLD loss: 0.0080, Total: 1.7839\n",
      "====> Epoch: 131 Average BCE loss: 1.7738, Average KLD loss: 0.0080, Total: 1.7818\n",
      "====> Epoch: 132 Average BCE loss: 1.7724, Average KLD loss: 0.0082, Total: 1.7807\n",
      "====> Epoch: 133 Average BCE loss: 1.7723, Average KLD loss: 0.0081, Total: 1.7804\n",
      "====> Epoch: 134 Average BCE loss: 1.7716, Average KLD loss: 0.0082, Total: 1.7798\n",
      "====> Epoch: 135 Average BCE loss: 1.7735, Average KLD loss: 0.0081, Total: 1.7816\n",
      "====> Epoch: 136 Average BCE loss: 1.7728, Average KLD loss: 0.0080, Total: 1.7808\n",
      "====> Epoch: 137 Average BCE loss: 1.7732, Average KLD loss: 0.0081, Total: 1.7813\n",
      "====> Epoch: 138 Average BCE loss: 1.7719, Average KLD loss: 0.0082, Total: 1.7800\n",
      "====> Epoch: 139 Average BCE loss: 1.7727, Average KLD loss: 0.0080, Total: 1.7807\n"
     ]
    },
    {
     "name": "stdout",
     "output_type": "stream",
     "text": [
      "====> Epoch: 140 Average BCE loss: 1.7748, Average KLD loss: 0.0080, Total: 1.7828\n",
      "====> Epoch: 141 Average BCE loss: 1.7731, Average KLD loss: 0.0080, Total: 1.7811\n",
      "====> Epoch: 142 Average BCE loss: 1.7768, Average KLD loss: 0.0079, Total: 1.7847\n",
      "====> Epoch: 143 Average BCE loss: 1.7739, Average KLD loss: 0.0080, Total: 1.7819\n",
      "====> Epoch: 144 Average BCE loss: 1.7762, Average KLD loss: 0.0080, Total: 1.7842\n",
      "====> Epoch: 145 Average BCE loss: 1.7764, Average KLD loss: 0.0080, Total: 1.7845\n",
      "====> Epoch: 146 Average BCE loss: 1.7750, Average KLD loss: 0.0080, Total: 1.7830\n",
      "====> Epoch: 147 Average BCE loss: 1.7768, Average KLD loss: 0.0080, Total: 1.7848\n",
      "====> Epoch: 148 Average BCE loss: 1.7772, Average KLD loss: 0.0081, Total: 1.7853\n",
      "====> Epoch: 149 Average BCE loss: 1.7760, Average KLD loss: 0.0080, Total: 1.7841\n",
      "====> Epoch: 150 Average BCE loss: 1.7799, Average KLD loss: 0.0080, Total: 1.7879\n",
      "====> Epoch: 151 Average BCE loss: 1.7734, Average KLD loss: 0.0080, Total: 1.7814\n",
      "====> Epoch: 152 Average BCE loss: 1.7773, Average KLD loss: 0.0079, Total: 1.7852\n",
      "====> Epoch: 153 Average BCE loss: 1.7778, Average KLD loss: 0.0080, Total: 1.7858\n",
      "====> Epoch: 154 Average BCE loss: 1.7757, Average KLD loss: 0.0080, Total: 1.7837\n",
      "====> Epoch: 155 Average BCE loss: 1.7779, Average KLD loss: 0.0079, Total: 1.7858\n",
      "====> Epoch: 156 Average BCE loss: 1.7804, Average KLD loss: 0.0080, Total: 1.7884\n",
      "====> Epoch: 157 Average BCE loss: 1.7856, Average KLD loss: 0.0080, Total: 1.7936\n",
      "====> Epoch: 158 Average BCE loss: 1.7860, Average KLD loss: 0.0079, Total: 1.7939\n",
      "====> Epoch: 159 Average BCE loss: 1.7863, Average KLD loss: 0.0079, Total: 1.7943\n",
      "====> Epoch: 160 Average BCE loss: 1.7882, Average KLD loss: 0.0080, Total: 1.7962\n",
      "====> Epoch: 161 Average BCE loss: 1.7860, Average KLD loss: 0.0080, Total: 1.7940\n",
      "====> Epoch: 162 Average BCE loss: 1.7894, Average KLD loss: 0.0080, Total: 1.7975\n",
      "====> Epoch: 163 Average BCE loss: 1.7946, Average KLD loss: 0.0081, Total: 1.8027\n",
      "====> Epoch: 164 Average BCE loss: 1.7913, Average KLD loss: 0.0081, Total: 1.7994\n",
      "====> Epoch: 165 Average BCE loss: 1.7933, Average KLD loss: 0.0080, Total: 1.8013\n",
      "====> Epoch: 166 Average BCE loss: 1.7936, Average KLD loss: 0.0081, Total: 1.8017\n",
      "====> Epoch: 167 Average BCE loss: 1.7922, Average KLD loss: 0.0081, Total: 1.8003\n",
      "====> Epoch: 168 Average BCE loss: 1.7936, Average KLD loss: 0.0080, Total: 1.8016\n",
      "====> Epoch: 169 Average BCE loss: 1.7947, Average KLD loss: 0.0080, Total: 1.8028\n",
      "====> Epoch: 170 Average BCE loss: 1.7954, Average KLD loss: 0.0080, Total: 1.8035\n",
      "====> Epoch: 171 Average BCE loss: 1.7975, Average KLD loss: 0.0079, Total: 1.8053\n",
      "====> Epoch: 172 Average BCE loss: 1.7985, Average KLD loss: 0.0079, Total: 1.8064\n",
      "====> Epoch: 173 Average BCE loss: 1.8005, Average KLD loss: 0.0079, Total: 1.8084\n",
      "====> Epoch: 174 Average BCE loss: 1.8027, Average KLD loss: 0.0079, Total: 1.8107\n",
      "====> Epoch: 175 Average BCE loss: 1.8037, Average KLD loss: 0.0078, Total: 1.8116\n",
      "====> Epoch: 176 Average BCE loss: 1.8026, Average KLD loss: 0.0078, Total: 1.8104\n",
      "====> Epoch: 177 Average BCE loss: 1.8037, Average KLD loss: 0.0077, Total: 1.8114\n",
      "====> Epoch: 178 Average BCE loss: 1.8024, Average KLD loss: 0.0078, Total: 1.8102\n",
      "====> Epoch: 179 Average BCE loss: 1.8052, Average KLD loss: 0.0077, Total: 1.8129\n",
      "====> Epoch: 180 Average BCE loss: 1.8059, Average KLD loss: 0.0077, Total: 1.8136\n",
      "====> Epoch: 181 Average BCE loss: 1.8048, Average KLD loss: 0.0077, Total: 1.8125\n",
      "====> Epoch: 182 Average BCE loss: 1.8058, Average KLD loss: 0.0077, Total: 1.8135\n",
      "====> Epoch: 183 Average BCE loss: 1.8075, Average KLD loss: 0.0077, Total: 1.8152\n",
      "====> Epoch: 184 Average BCE loss: 1.8087, Average KLD loss: 0.0077, Total: 1.8164\n",
      "====> Epoch: 185 Average BCE loss: 1.8098, Average KLD loss: 0.0076, Total: 1.8174\n",
      "====> Epoch: 186 Average BCE loss: 1.8078, Average KLD loss: 0.0078, Total: 1.8156\n",
      "====> Epoch: 187 Average BCE loss: 1.8046, Average KLD loss: 0.0077, Total: 1.8123\n",
      "====> Epoch: 188 Average BCE loss: 1.8080, Average KLD loss: 0.0077, Total: 1.8157\n",
      "====> Epoch: 189 Average BCE loss: 1.8090, Average KLD loss: 0.0077, Total: 1.8167\n",
      "====> Epoch: 190 Average BCE loss: 1.8092, Average KLD loss: 0.0078, Total: 1.8170\n",
      "====> Epoch: 191 Average BCE loss: 1.8114, Average KLD loss: 0.0077, Total: 1.8191\n",
      "====> Epoch: 192 Average BCE loss: 1.8094, Average KLD loss: 0.0077, Total: 1.8171\n",
      "====> Epoch: 193 Average BCE loss: 1.8112, Average KLD loss: 0.0077, Total: 1.8190\n",
      "====> Epoch: 194 Average BCE loss: 1.8110, Average KLD loss: 0.0078, Total: 1.8188\n",
      "====> Epoch: 195 Average BCE loss: 1.8127, Average KLD loss: 0.0077, Total: 1.8204\n",
      "====> Epoch: 196 Average BCE loss: 1.8143, Average KLD loss: 0.0077, Total: 1.8220\n",
      "====> Epoch: 197 Average BCE loss: 1.8116, Average KLD loss: 0.0077, Total: 1.8193\n",
      "====> Epoch: 198 Average BCE loss: 1.8131, Average KLD loss: 0.0076, Total: 1.8207\n",
      "====> Epoch: 199 Average BCE loss: 1.8125, Average KLD loss: 0.0077, Total: 1.8202\n",
      "====> Epoch: 200 Average BCE loss: 1.8126, Average KLD loss: 0.0077, Total: 1.8203\n",
      "====> Epoch: 201 Average BCE loss: 1.8133, Average KLD loss: 0.0077, Total: 1.8209\n",
      "====> Epoch: 202 Average BCE loss: 1.8141, Average KLD loss: 0.0077, Total: 1.8218\n",
      "====> Epoch: 203 Average BCE loss: 1.8155, Average KLD loss: 0.0076, Total: 1.8231\n",
      "====> Epoch: 204 Average BCE loss: 1.8169, Average KLD loss: 0.0076, Total: 1.8245\n",
      "====> Epoch: 205 Average BCE loss: 1.8167, Average KLD loss: 0.0076, Total: 1.8243\n",
      "====> Epoch: 206 Average BCE loss: 1.8170, Average KLD loss: 0.0076, Total: 1.8246\n",
      "====> Epoch: 207 Average BCE loss: 1.8172, Average KLD loss: 0.0076, Total: 1.8248\n",
      "====> Epoch: 208 Average BCE loss: 1.8167, Average KLD loss: 0.0076, Total: 1.8243\n",
      "====> Epoch: 209 Average BCE loss: 1.8172, Average KLD loss: 0.0076, Total: 1.8249\n",
      "====> Epoch: 210 Average BCE loss: 1.8191, Average KLD loss: 0.0077, Total: 1.8267\n",
      "====> Epoch: 211 Average BCE loss: 1.8187, Average KLD loss: 0.0076, Total: 1.8263\n",
      "====> Epoch: 212 Average BCE loss: 1.8188, Average KLD loss: 0.0077, Total: 1.8264\n",
      "====> Epoch: 213 Average BCE loss: 1.8174, Average KLD loss: 0.0076, Total: 1.8250\n",
      "====> Epoch: 214 Average BCE loss: 1.8230, Average KLD loss: 0.0076, Total: 1.8306\n",
      "====> Epoch: 215 Average BCE loss: 1.8236, Average KLD loss: 0.0075, Total: 1.8311\n",
      "====> Epoch: 216 Average BCE loss: 1.8254, Average KLD loss: 0.0076, Total: 1.8330\n",
      "====> Epoch: 217 Average BCE loss: 1.8235, Average KLD loss: 0.0076, Total: 1.8312\n",
      "====> Epoch: 218 Average BCE loss: 1.8290, Average KLD loss: 0.0076, Total: 1.8366\n",
      "====> Epoch: 219 Average BCE loss: 1.8268, Average KLD loss: 0.0076, Total: 1.8344\n",
      "====> Epoch: 220 Average BCE loss: 1.8268, Average KLD loss: 0.0076, Total: 1.8344\n",
      "====> Epoch: 221 Average BCE loss: 1.8268, Average KLD loss: 0.0076, Total: 1.8343\n",
      "====> Epoch: 222 Average BCE loss: 1.8314, Average KLD loss: 0.0076, Total: 1.8390\n",
      "====> Epoch: 223 Average BCE loss: 1.8308, Average KLD loss: 0.0076, Total: 1.8384\n",
      "====> Epoch: 224 Average BCE loss: 1.8314, Average KLD loss: 0.0076, Total: 1.8390\n",
      "====> Epoch: 225 Average BCE loss: 1.8308, Average KLD loss: 0.0076, Total: 1.8384\n",
      "====> Epoch: 226 Average BCE loss: 1.8312, Average KLD loss: 0.0075, Total: 1.8387\n",
      "====> Epoch: 227 Average BCE loss: 1.8332, Average KLD loss: 0.0075, Total: 1.8407\n",
      "====> Epoch: 228 Average BCE loss: 1.8336, Average KLD loss: 0.0075, Total: 1.8410\n",
      "====> Epoch: 229 Average BCE loss: 1.8346, Average KLD loss: 0.0075, Total: 1.8421\n",
      "====> Epoch: 230 Average BCE loss: 1.8385, Average KLD loss: 0.0076, Total: 1.8460\n",
      "====> Epoch: 231 Average BCE loss: 1.8372, Average KLD loss: 0.0075, Total: 1.8447\n",
      "====> Epoch: 232 Average BCE loss: 1.8380, Average KLD loss: 0.0075, Total: 1.8455\n",
      "====> Epoch: 233 Average BCE loss: 1.8391, Average KLD loss: 0.0074, Total: 1.8465\n",
      "====> Epoch: 234 Average BCE loss: 1.8385, Average KLD loss: 0.0074, Total: 1.8460\n",
      "====> Epoch: 235 Average BCE loss: 1.8385, Average KLD loss: 0.0074, Total: 1.8459\n",
      "====> Epoch: 236 Average BCE loss: 1.8385, Average KLD loss: 0.0074, Total: 1.8459\n",
      "====> Epoch: 237 Average BCE loss: 1.8356, Average KLD loss: 0.0074, Total: 1.8430\n",
      "====> Epoch: 238 Average BCE loss: 1.8352, Average KLD loss: 0.0074, Total: 1.8426\n"
     ]
    },
    {
     "name": "stdout",
     "output_type": "stream",
     "text": [
      "====> Epoch: 239 Average BCE loss: 1.8379, Average KLD loss: 0.0076, Total: 1.8455\n",
      "====> Epoch: 240 Average BCE loss: 1.8415, Average KLD loss: 0.0075, Total: 1.8491\n",
      "====> Epoch: 241 Average BCE loss: 1.8415, Average KLD loss: 0.0075, Total: 1.8490\n",
      "====> Epoch: 242 Average BCE loss: 1.8448, Average KLD loss: 0.0075, Total: 1.8523\n",
      "====> Epoch: 243 Average BCE loss: 1.8496, Average KLD loss: 0.0075, Total: 1.8571\n",
      "====> Epoch: 244 Average BCE loss: 1.8528, Average KLD loss: 0.0076, Total: 1.8604\n",
      "====> Epoch: 245 Average BCE loss: 1.8509, Average KLD loss: 0.0074, Total: 1.8583\n",
      "====> Epoch: 246 Average BCE loss: 1.8478, Average KLD loss: 0.0074, Total: 1.8552\n",
      "====> Epoch: 247 Average BCE loss: 1.8530, Average KLD loss: 0.0075, Total: 1.8604\n",
      "====> Epoch: 248 Average BCE loss: 1.8560, Average KLD loss: 0.0074, Total: 1.8634\n",
      "====> Epoch: 249 Average BCE loss: 1.8545, Average KLD loss: 0.0074, Total: 1.8619\n",
      "====> Epoch: 250 Average BCE loss: 1.8518, Average KLD loss: 0.0073, Total: 1.8591\n",
      "====> Epoch: 251 Average BCE loss: 1.8542, Average KLD loss: 0.0074, Total: 1.8617\n",
      "====> Epoch: 252 Average BCE loss: 1.8526, Average KLD loss: 0.0073, Total: 1.8600\n",
      "====> Epoch: 253 Average BCE loss: 1.8381, Average KLD loss: 0.0075, Total: 1.8456\n",
      "====> Epoch: 254 Average BCE loss: 1.8171, Average KLD loss: 0.0075, Total: 1.8246\n",
      "====> Epoch: 255 Average BCE loss: 1.8131, Average KLD loss: 0.0075, Total: 1.8207\n",
      "====> Epoch: 256 Average BCE loss: 1.8102, Average KLD loss: 0.0074, Total: 1.8176\n",
      "====> Epoch: 257 Average BCE loss: 1.8090, Average KLD loss: 0.0075, Total: 1.8165\n",
      "====> Epoch: 258 Average BCE loss: 1.8105, Average KLD loss: 0.0074, Total: 1.8178\n",
      "====> Epoch: 259 Average BCE loss: 1.7653, Average KLD loss: 0.0078, Total: 1.7731\n",
      "Loss 1.7730536164869863 is better than previous best 1.7761255714784066, saving model\n",
      "====> Epoch: 260 Average BCE loss: 1.7377, Average KLD loss: 0.0076, Total: 1.7453\n",
      "Loss 1.7452707787791888 is better than previous best 1.7730536164869863, saving model\n",
      "====> Epoch: 261 Average BCE loss: 1.7431, Average KLD loss: 0.0075, Total: 1.7506\n",
      "====> Epoch: 262 Average BCE loss: 1.7418, Average KLD loss: 0.0075, Total: 1.7493\n",
      "====> Epoch: 263 Average BCE loss: 1.7380, Average KLD loss: 0.0075, Total: 1.7455\n",
      "====> Epoch: 264 Average BCE loss: 1.7346, Average KLD loss: 0.0075, Total: 1.7421\n",
      "Loss 1.7420964669913053 is better than previous best 1.7452707787791888, saving model\n",
      "====> Epoch: 265 Average BCE loss: 1.7337, Average KLD loss: 0.0076, Total: 1.7413\n",
      "Loss 1.741284109063943 is better than previous best 1.7420964669913053, saving model\n",
      "====> Epoch: 266 Average BCE loss: 1.7327, Average KLD loss: 0.0077, Total: 1.7404\n",
      "Loss 1.7403708824286859 is better than previous best 1.741284109063943, saving model\n",
      "====> Epoch: 267 Average BCE loss: 1.7295, Average KLD loss: 0.0076, Total: 1.7371\n",
      "Loss 1.7371125599771737 is better than previous best 1.7403708824286859, saving model\n",
      "====> Epoch: 268 Average BCE loss: 1.7292, Average KLD loss: 0.0076, Total: 1.7368\n",
      "Loss 1.7367819099644821 is better than previous best 1.7371125599771737, saving model\n",
      "====> Epoch: 269 Average BCE loss: 1.7256, Average KLD loss: 0.0076, Total: 1.7332\n",
      "Loss 1.733164847612381 is better than previous best 1.7367819099644821, saving model\n",
      "====> Epoch: 270 Average BCE loss: 1.7257, Average KLD loss: 0.0077, Total: 1.7334\n",
      "====> Epoch: 271 Average BCE loss: 1.7242, Average KLD loss: 0.0076, Total: 1.7318\n",
      "Loss 1.731769495530923 is better than previous best 1.733164847612381, saving model\n",
      "====> Epoch: 272 Average BCE loss: 1.7236, Average KLD loss: 0.0076, Total: 1.7312\n",
      "Loss 1.7311583159257968 is better than previous best 1.731769495530923, saving model\n",
      "====> Epoch: 273 Average BCE loss: 1.7244, Average KLD loss: 0.0075, Total: 1.7319\n",
      "====> Epoch: 274 Average BCE loss: 1.7236, Average KLD loss: 0.0076, Total: 1.7311\n",
      "Loss 1.7311325867881378 is better than previous best 1.7311583159257968, saving model\n",
      "====> Epoch: 275 Average BCE loss: 1.7197, Average KLD loss: 0.0076, Total: 1.7273\n",
      "Loss 1.7273106370608013 is better than previous best 1.7311325867881378, saving model\n",
      "====> Epoch: 276 Average BCE loss: 1.7170, Average KLD loss: 0.0075, Total: 1.7246\n",
      "Loss 1.7245629659076531 is better than previous best 1.7273106370608013, saving model\n",
      "====> Epoch: 277 Average BCE loss: 1.7162, Average KLD loss: 0.0075, Total: 1.7237\n",
      "Loss 1.7237291113148132 is better than previous best 1.7245629659076531, saving model\n",
      "====> Epoch: 278 Average BCE loss: 1.7166, Average KLD loss: 0.0076, Total: 1.7241\n",
      "====> Epoch: 279 Average BCE loss: 1.7164, Average KLD loss: 0.0076, Total: 1.7240\n",
      "====> Epoch: 280 Average BCE loss: 1.7155, Average KLD loss: 0.0076, Total: 1.7231\n",
      "Loss 1.7231233017285663 is better than previous best 1.7237291113148132, saving model\n",
      "====> Epoch: 281 Average BCE loss: 1.7146, Average KLD loss: 0.0077, Total: 1.7223\n",
      "Loss 1.7222986389795938 is better than previous best 1.7231233017285663, saving model\n",
      "====> Epoch: 282 Average BCE loss: 1.7127, Average KLD loss: 0.0076, Total: 1.7203\n",
      "Loss 1.7202566294819117 is better than previous best 1.7222986389795938, saving model\n",
      "====> Epoch: 283 Average BCE loss: 1.7134, Average KLD loss: 0.0076, Total: 1.7211\n",
      "====> Epoch: 284 Average BCE loss: 1.7141, Average KLD loss: 0.0076, Total: 1.7217\n",
      "====> Epoch: 285 Average BCE loss: 1.7136, Average KLD loss: 0.0076, Total: 1.7212\n",
      "====> Epoch: 286 Average BCE loss: 1.7130, Average KLD loss: 0.0075, Total: 1.7205\n",
      "====> Epoch: 287 Average BCE loss: 1.7142, Average KLD loss: 0.0075, Total: 1.7216\n",
      "====> Epoch: 288 Average BCE loss: 1.7146, Average KLD loss: 0.0075, Total: 1.7221\n",
      "====> Epoch: 289 Average BCE loss: 1.7145, Average KLD loss: 0.0075, Total: 1.7220\n",
      "====> Epoch: 290 Average BCE loss: 1.7147, Average KLD loss: 0.0075, Total: 1.7222\n",
      "====> Epoch: 291 Average BCE loss: 1.7125, Average KLD loss: 0.0074, Total: 1.7199\n",
      "Loss 1.7199039192318917 is better than previous best 1.7202566294819117, saving model\n",
      "====> Epoch: 292 Average BCE loss: 1.7162, Average KLD loss: 0.0074, Total: 1.7236\n",
      "====> Epoch: 293 Average BCE loss: 1.7183, Average KLD loss: 0.0074, Total: 1.7257\n",
      "====> Epoch: 294 Average BCE loss: 1.7178, Average KLD loss: 0.0076, Total: 1.7254\n",
      "====> Epoch: 295 Average BCE loss: 1.7168, Average KLD loss: 0.0075, Total: 1.7243\n",
      "====> Epoch: 296 Average BCE loss: 1.7176, Average KLD loss: 0.0075, Total: 1.7251\n",
      "====> Epoch: 297 Average BCE loss: 1.7172, Average KLD loss: 0.0075, Total: 1.7248\n",
      "====> Epoch: 298 Average BCE loss: 1.7179, Average KLD loss: 0.0075, Total: 1.7253\n",
      "====> Epoch: 299 Average BCE loss: 1.7209, Average KLD loss: 0.0074, Total: 1.7283\n",
      "====> Epoch: 300 Average BCE loss: 1.7210, Average KLD loss: 0.0074, Total: 1.7284\n"
     ]
    },
    {
     "ename": "KeyboardInterrupt",
     "evalue": "",
     "output_type": "error",
     "traceback": [
      "\u001b[0;31m---------------------------------------------------------------------------\u001b[0m",
      "\u001b[0;31mKeyboardInterrupt\u001b[0m                         Traceback (most recent call last)",
      "\u001b[0;32m<timed exec>\u001b[0m in \u001b[0;36m<module>\u001b[0;34m()\u001b[0m\n",
      "\u001b[0;32m<ipython-input-122-b2f13a1ac563>\u001b[0m in \u001b[0;36mtrain\u001b[0;34m(epoch)\u001b[0m\n\u001b[1;32m     21\u001b[0m         \u001b[0mBCE\u001b[0m\u001b[0;34m,\u001b[0m \u001b[0mKLD\u001b[0m \u001b[0;34m=\u001b[0m \u001b[0mloss_function\u001b[0m\u001b[0;34m(\u001b[0m\u001b[0mrecon_x\u001b[0m\u001b[0;34m,\u001b[0m \u001b[0mx\u001b[0m\u001b[0;34m,\u001b[0m \u001b[0mq\u001b[0m\u001b[0;34m)\u001b[0m\u001b[0;34m\u001b[0m\u001b[0m\n\u001b[1;32m     22\u001b[0m         \u001b[0mloss\u001b[0m \u001b[0;34m=\u001b[0m \u001b[0mBCE\u001b[0m \u001b[0;34m+\u001b[0m \u001b[0mKLD\u001b[0m\u001b[0;34m\u001b[0m\u001b[0m\n\u001b[0;32m---> 23\u001b[0;31m         \u001b[0mloss\u001b[0m\u001b[0;34m.\u001b[0m\u001b[0mbackward\u001b[0m\u001b[0;34m(\u001b[0m\u001b[0;34m)\u001b[0m\u001b[0;34m\u001b[0m\u001b[0m\n\u001b[0m\u001b[1;32m     24\u001b[0m         \u001b[0moptimizer\u001b[0m\u001b[0;34m.\u001b[0m\u001b[0mstep\u001b[0m\u001b[0;34m(\u001b[0m\u001b[0;34m)\u001b[0m\u001b[0;34m\u001b[0m\u001b[0m\n\u001b[1;32m     25\u001b[0m \u001b[0;34m\u001b[0m\u001b[0m\n",
      "\u001b[0;32m/home/eddie/.local/lib/python3.5/site-packages/torch/autograd/variable.py\u001b[0m in \u001b[0;36mbackward\u001b[0;34m(self, gradient, retain_graph, create_graph, retain_variables)\u001b[0m\n\u001b[1;32m    165\u001b[0m                 \u001b[0mVariable\u001b[0m\u001b[0;34m.\u001b[0m\u001b[0;34m\u001b[0m\u001b[0m\n\u001b[1;32m    166\u001b[0m         \"\"\"\n\u001b[0;32m--> 167\u001b[0;31m         \u001b[0mtorch\u001b[0m\u001b[0;34m.\u001b[0m\u001b[0mautograd\u001b[0m\u001b[0;34m.\u001b[0m\u001b[0mbackward\u001b[0m\u001b[0;34m(\u001b[0m\u001b[0mself\u001b[0m\u001b[0;34m,\u001b[0m \u001b[0mgradient\u001b[0m\u001b[0;34m,\u001b[0m \u001b[0mretain_graph\u001b[0m\u001b[0;34m,\u001b[0m \u001b[0mcreate_graph\u001b[0m\u001b[0;34m,\u001b[0m \u001b[0mretain_variables\u001b[0m\u001b[0;34m)\u001b[0m\u001b[0;34m\u001b[0m\u001b[0m\n\u001b[0m\u001b[1;32m    168\u001b[0m \u001b[0;34m\u001b[0m\u001b[0m\n\u001b[1;32m    169\u001b[0m     \u001b[0;32mdef\u001b[0m \u001b[0mregister_hook\u001b[0m\u001b[0;34m(\u001b[0m\u001b[0mself\u001b[0m\u001b[0;34m,\u001b[0m \u001b[0mhook\u001b[0m\u001b[0;34m)\u001b[0m\u001b[0;34m:\u001b[0m\u001b[0;34m\u001b[0m\u001b[0m\n",
      "\u001b[0;32m/home/eddie/.local/lib/python3.5/site-packages/torch/autograd/__init__.py\u001b[0m in \u001b[0;36mbackward\u001b[0;34m(variables, grad_variables, retain_graph, create_graph, retain_variables)\u001b[0m\n\u001b[1;32m     97\u001b[0m \u001b[0;34m\u001b[0m\u001b[0m\n\u001b[1;32m     98\u001b[0m     Variable._execution_engine.run_backward(\n\u001b[0;32m---> 99\u001b[0;31m         variables, grad_variables, retain_graph)\n\u001b[0m\u001b[1;32m    100\u001b[0m \u001b[0;34m\u001b[0m\u001b[0m\n\u001b[1;32m    101\u001b[0m \u001b[0;34m\u001b[0m\u001b[0m\n",
      "\u001b[0;31mKeyboardInterrupt\u001b[0m: "
     ]
    }
   ],
   "source": [
    "%%time\n",
    "for epoch in range(5000):\n",
    "    train(epoch)"
   ]
  },
  {
   "cell_type": "code",
   "execution_count": 129,
   "metadata": {
    "collapsed": true
   },
   "outputs": [],
   "source": [
    "save_model()"
   ]
  },
  {
   "cell_type": "code",
   "execution_count": 124,
   "metadata": {},
   "outputs": [
    {
     "data": {
      "text/plain": [
       "Variable containing:\n",
       "( 0 ,.,.) = \n",
       "  5.3655e-04  9.9946e-01\n",
       "  9.9993e-01  6.8301e-05\n",
       "  5.0000e-01  5.0000e-01\n",
       "  9.9700e-01  2.9982e-03\n",
       "  5.0000e-01  5.0000e-01\n",
       "\n",
       "( 1 ,.,.) = \n",
       "  9.2188e-01  7.8120e-02\n",
       "  5.1239e-04  9.9949e-01\n",
       "  5.0000e-01  5.0000e-01\n",
       "  1.6578e-03  9.9834e-01\n",
       "  5.0000e-01  5.0000e-01\n",
       "\n",
       "( 2 ,.,.) = \n",
       "  2.3924e-03  9.9761e-01\n",
       "  9.9104e-01  8.9591e-03\n",
       "  5.0000e-01  5.0000e-01\n",
       "  6.4412e-01  3.5588e-01\n",
       "  5.0000e-01  5.0000e-01\n",
       "... \n",
       "\n",
       "(97 ,.,.) = \n",
       "  3.0953e-01  6.9047e-01\n",
       "  9.9846e-01  1.5369e-03\n",
       "  5.0000e-01  5.0000e-01\n",
       "  9.8760e-01  1.2396e-02\n",
       "  5.0000e-01  5.0000e-01\n",
       "\n",
       "(98 ,.,.) = \n",
       "  9.9989e-01  1.1406e-04\n",
       "  3.4793e-01  6.5207e-01\n",
       "  5.0000e-01  5.0000e-01\n",
       "  5.0000e-01  5.0000e-01\n",
       "  5.0000e-01  5.0000e-01\n",
       "\n",
       "(99 ,.,.) = \n",
       "  9.9998e-01  1.5706e-05\n",
       "  9.9994e-01  6.0578e-05\n",
       "  5.0000e-01  5.0000e-01\n",
       "  1.0000e+00  3.4921e-06\n",
       "  5.0000e-01  5.0000e-01\n",
       "[torch.cuda.FloatTensor of size 100x5x2 (GPU 0)]"
      ]
     },
     "execution_count": 124,
     "metadata": {},
     "output_type": "execute_result"
    }
   ],
   "source": [
    "q"
   ]
  },
  {
   "cell_type": "code",
   "execution_count": 125,
   "metadata": {},
   "outputs": [
    {
     "data": {
      "text/plain": [
       "Variable containing:\n",
       "    0     1     0     1     1\n",
       "    1     0     0     0     1\n",
       "    0     1     0     0     1\n",
       "    0     1     1     1     0\n",
       "    1     1     0     0     1\n",
       "    0     1     0     1     0\n",
       "    1     1     1     1     0\n",
       "    1     0     1     0     1\n",
       "    1     0     0     0     1\n",
       "    1     1     1     1     1\n",
       "    1     0     0     1     1\n",
       "    0     0     1     0     1\n",
       "    0     1     1     1     0\n",
       "    1     1     1     1     0\n",
       "    0     1     1     0     1\n",
       "    0     1     0     1     1\n",
       "    1     1     1     1     0\n",
       "    0     1     0     1     1\n",
       "    1     0     0     0     1\n",
       "    0     1     1     1     1\n",
       "    0     0     1     0     1\n",
       "    1     1     0     1     1\n",
       "    1     1     1     1     1\n",
       "    0     1     0     1     1\n",
       "    0     1     0     1     1\n",
       "    0     1     0     1     0\n",
       "    1     0     0     0     0\n",
       "    0     1     1     1     1\n",
       "    1     1     0     1     0\n",
       "    1     0     1     0     1\n",
       "    1     1     1     1     1\n",
       "    0     1     1     0     0\n",
       "    1     1     0     0     0\n",
       "    1     1     0     1     1\n",
       "    1     0     0     0     0\n",
       "    0     1     1     0     0\n",
       "    1     0     0     0     0\n",
       "    1     0     0     0     0\n",
       "    0     1     1     1     0\n",
       "    1     1     0     1     0\n",
       "    0     1     1     0     1\n",
       "    0     1     0     1     1\n",
       "    1     1     0     1     1\n",
       "    1     1     1     1     1\n",
       "    0     1     1     1     1\n",
       "    1     1     1     1     0\n",
       "    1     1     0     1     1\n",
       "    0     1     1     1     0\n",
       "    0     1     1     1     0\n",
       "    1     1     0     1     0\n",
       "    0     0     1     0     0\n",
       "    1     1     1     1     1\n",
       "    0     0     0     0     0\n",
       "    0     1     0     0     1\n",
       "    0     1     1     1     0\n",
       "    1     1     1     1     0\n",
       "    0     1     1     1     1\n",
       "    1     0     1     0     1\n",
       "    0     1     0     1     0\n",
       "    0     1     0     1     0\n",
       "    0     1     0     1     1\n",
       "    1     0     0     0     1\n",
       "    1     0     1     0     0\n",
       "    1     1     1     1     1\n",
       "    1     1     1     1     0\n",
       "    0     1     1     1     0\n",
       "    0     0     1     0     0\n",
       "    0     1     0     1     0\n",
       "    0     1     1     1     1\n",
       "    1     1     0     1     0\n",
       "    1     1     1     0     1\n",
       "    0     1     0     1     1\n",
       "    0     1     0     1     1\n",
       "    0     1     0     1     0\n",
       "    1     0     0     0     1\n",
       "    0     1     0     1     0\n",
       "    1     1     0     0     1\n",
       "    1     0     0     0     1\n",
       "    1     0     0     0     0\n",
       "    1     1     1     1     1\n",
       "    1     1     0     1     1\n",
       "    0     0     1     0     0\n",
       "    0     0     1     0     1\n",
       "    0     1     1     1     0\n",
       "    0     1     0     1     1\n",
       "    1     1     0     1     1\n",
       "    1     0     1     0     0\n",
       "    1     1     0     1     1\n",
       "    0     1     1     0     1\n",
       "    0     1     0     1     0\n",
       "    0     0     0     0     0\n",
       "    1     1     0     1     1\n",
       "    1     1     1     1     0\n",
       "    0     1     1     1     1\n",
       "    0     0     0     0     1\n",
       "    1     1     1     1     1\n",
       "    1     0     1     0     0\n",
       "    0     1     1     1     0\n",
       "    1     0     0     0     1\n",
       "    1     1     0     1     1\n",
       "[torch.cuda.FloatTensor of size 100x5 (GPU 0)]"
      ]
     },
     "execution_count": 125,
     "metadata": {},
     "output_type": "execute_result"
    }
   ],
   "source": [
    "bits"
   ]
  },
  {
   "cell_type": "code",
   "execution_count": 126,
   "metadata": {
    "collapsed": true
   },
   "outputs": [],
   "source": [
    "#test_set = dset.MNIST('data', train=False, download=True, transform=data_transforms)"
   ]
  },
  {
   "cell_type": "code",
   "execution_count": 127,
   "metadata": {
    "collapsed": true
   },
   "outputs": [],
   "source": [
    "# a = np.array([[0., 0., 0., 0.]])\n",
    "# w = D.forward(Variable(torch.from_numpy(a).type(torch.FloatTensor)))\n",
    "# plt.imshow(w.view(28,28).data.numpy())"
   ]
  },
  {
   "cell_type": "code",
   "execution_count": 128,
   "metadata": {
    "scrolled": true
   },
   "outputs": [
    {
     "data": {
      "image/png": "[encoded data removed]",
      "text/plain": [
       "<matplotlib.figure.Figure at 0x7f3060c38a20>"
      ]
     },
     "metadata": {},
     "output_type": "display_data"
    }
   ],
   "source": [
    "from itertools import product\n",
    "f, axes = plt.subplots(1, 2**N, sharey=True, figsize=(25,1))\n",
    "kk = 0\n",
    "for path in product(range(2), repeat=N):\n",
    "    v = Variable(torch.Tensor(path).type(torch.FloatTensor))\n",
    "    if CUDA:\n",
    "        v = v.cuda()\n",
    "    w = D.forward(v)\n",
    "    ax = axes[kk]\n",
    "    ax.set_title(path)\n",
    "    ax.imshow(w.view(28,28).cpu().data.numpy())\n",
    "    kk += 1"
   ]
  },
  {
   "cell_type": "code",
   "execution_count": null,
   "metadata": {
    "collapsed": true
   },
   "outputs": [],
   "source": []
  }
 ],
 "metadata": {
  "kernelspec": {
   "display_name": "Python 3",
   "language": "python",
   "name": "python3"
  },
  "language_info": {
   "codemirror_mode": {
    "name": "ipython",
    "version": 3
   },
   "file_extension": ".py",
   "mimetype": "text/x-python",
   "name": "python",
   "nbconvert_exporter": "python",
   "pygments_lexer": "ipython3",
   "version": "3.5.2"
  }
 },
 "nbformat": 4,
 "nbformat_minor": 2
}
