{
 "cells": [
  {
   "cell_type": "code",
   "execution_count": 1,
   "metadata": {},
   "outputs": [],
   "source": [
    "import numpy as np\n",
    "import matplotlib.pyplot as plt\n",
    "%matplotlib inline"
   ]
  },
  {
   "cell_type": "code",
   "execution_count": 2,
   "metadata": {},
   "outputs": [],
   "source": [
    "%load_ext autoreload\n",
    "%autoreload 2"
   ]
  },
  {
   "cell_type": "code",
   "execution_count": 3,
   "metadata": {},
   "outputs": [],
   "source": [
    "from torch import nn, optim\n",
    "from torch.autograd import Variable\n",
    "from torch.nn import functional as F"
   ]
  },
  {
   "cell_type": "code",
   "execution_count": 4,
   "metadata": {},
   "outputs": [],
   "source": [
    "import torchvision.datasets as dset\n",
    "import torchvision.transforms as transforms\n",
    "import torch.utils.data"
   ]
  },
  {
   "cell_type": "code",
   "execution_count": 5,
   "metadata": {},
   "outputs": [],
   "source": [
    "# find gpu\n",
    "cuda = torch.cuda.is_available()"
   ]
  },
  {
   "cell_type": "code",
   "execution_count": 6,
   "metadata": {},
   "outputs": [],
   "source": [
    "#transform\n",
    "data_transforms = transforms.Compose([\n",
    "        transforms.ToTensor(),\n",
    "        lambda x: x>0.5,\n",
    "        lambda x: x.float(),\n",
    "    ])"
   ]
  },
  {
   "cell_type": "code",
   "execution_count": 7,
   "metadata": {},
   "outputs": [],
   "source": [
    "# dataset loading\n",
    "bsize = 100\n",
    "train_loader = torch.utils.data.DataLoader(\n",
    "    dset.MNIST('data', train=True, download=True, transform=data_transforms), batch_size=bsize, shuffle=True)\n",
    "test_loader = torch.utils.data.DataLoader(\n",
    "    dset.MNIST('data', train=False, download=True, transform=data_transforms), batch_size=bsize, shuffle=True)"
   ]
  },
  {
   "cell_type": "code",
   "execution_count": 8,
   "metadata": {},
   "outputs": [],
   "source": [
    "# hyperparameters\n",
    "NUM_LEVELS = 4\n",
    "tau = 1."
   ]
  },
  {
   "cell_type": "code",
   "execution_count": 9,
   "metadata": {},
   "outputs": [],
   "source": [
    "class Encoder(nn.Module):\n",
    "    def __init__(self, num_levels = NUM_LEVELS):\n",
    "        super(Encoder, self).__init__()\n",
    "#         self.conv1 = nn.Conv2d(1, 6, 5)\n",
    "#         self.conv2 = nn.Conv2d(6, 16, 5)\n",
    "#         self.fc1 = nn.Linear(256, 64)\n",
    "        self.fc1 = nn.Linear(784, 256)\n",
    "        self.fc2 = nn.Linear(256, 128)\n",
    "        self.fc3 = nn.Linear(128, 64)\n",
    "        self.fc4 = nn.Linear(64, 64)\n",
    "        \n",
    "        \n",
    "        self.tunnels = nn.ModuleList([nn.Linear(64,64) for _ in range(num_levels-1)])\n",
    "        self.codings = nn.ModuleList([nn.Linear(64,1) for _ in range(num_levels)])     \n",
    "#         self.codings = nn.ModuleList([nn.Linear(64,2**(num_levels-1-_)) for _ in range(num_levels)])     \n",
    "        self.relu = nn.ReLU()\n",
    "        self.sigmoid = nn.Sigmoid()\n",
    "    \n",
    "#     def num_flat_features(self, x):\n",
    "#         size = x.size()[1:]  # all dimensions except the batch dimension\n",
    "#         num_features = 1\n",
    "#         for s in size:\n",
    "#             num_features *= s\n",
    "#         return num_features\n",
    "    \n",
    "    def forward(self, x):\n",
    "#         x= x.view(-1,1,28,28)\n",
    "#         x = F.max_pool2d(F.relu(self.conv1(x)), (2, 2))\n",
    "#         # If the size is a square you can only specify a single number\n",
    "#         x = F.max_pool2d(F.relu(self.conv2(x)), 2)\n",
    "#         x = x.view(-1, self.num_flat_features(x))\n",
    "#         sofar = self.relu(self.fc1(x))\n",
    "        \n",
    "        h = self.relu(self.fc1(x))\n",
    "        h = self.relu(self.fc2(h))\n",
    "        h = self.relu(self.fc3(h))\n",
    "        sofar = self.relu(self.fc4(h))\n",
    "        posteriors = [self.codings[0](sofar)]\n",
    "        for _ in range(len(self.tunnels)):\n",
    "            sofar = self.relu(self.tunnels[_](sofar))\n",
    "            posteriors.append(self.codings[_+1](sofar))\n",
    "#         posteriors.reverse()\n",
    "        return posteriors\n",
    "    \n",
    "class Decoder(nn.Module):\n",
    "    def __init__(self, num_levels=NUM_LEVELS):\n",
    "        super(Decoder, self).__init__()\n",
    "        self.fc1 = nn.Linear(num_levels, 64)\n",
    "        self.fc2 = nn.Linear(64,128)\n",
    "        self.fc3 = nn.Linear(128,256)\n",
    "        self.fc4 = nn.Linear(256,784)\n",
    "        self.relu = nn.ReLU()\n",
    "        self.sigmoid = nn.Sigmoid()\n",
    "        \n",
    "    def forward(self, code):\n",
    "        h = self.relu(self.fc1(code))\n",
    "        h = self.relu(self.fc2(h))\n",
    "        h = self.relu(self.fc3(h))\n",
    "        y = self.sigmoid(self.fc4(h))\n",
    "        return y\n",
    "\n",
    "# generative model network\n",
    "# used for generating cond latent distributions in training\n",
    "class Hierarchy(nn.Module):\n",
    "    def __init__(self, num_levels=NUM_LEVELS):\n",
    "        super(Hierarchy, self).__init__()\n",
    "        self.root_dist = nn.Parameter(torch.Tensor([0.0]))\n",
    "        self.downwards = nn.ModuleList([nn.Linear(1,1) for _ in range(num_levels-1)])\n",
    "        self.sigmoid = nn.Sigmoid()\n",
    "        \n",
    "    def forward(self, codes):\n",
    "        # cast to batch size dimension\n",
    "#         root_dist = torch.Tensor([0.5])\n",
    "#         if cuda:\n",
    "#             root_dist = root_dist.cuda()\n",
    "#         root_dist = Variable(root_dist, requires_grad=False).repeat(codes[0].size()[0],1)\n",
    "#         cond_priors = [root_dist]\n",
    "        cond_priors = [F.sigmoid(self.root_dist).repeat(codes[0].size()[0],1)]\n",
    "        for _ in range(len(codes)-1):\n",
    "            cond_priors.append(self.sigmoid(self.downwards[_](codes[_])))\n",
    "        \n",
    "        return cond_priors\n"
   ]
  },
  {
   "cell_type": "code",
   "execution_count": 10,
   "metadata": {},
   "outputs": [],
   "source": [
    "def sample_binary_concrete(inputs, temperature = tau):\n",
    "    U = Variable(torch.rand(inputs.shape), requires_grad=False)\n",
    "    return F.sigmoid((U.log() - (1-U).log() + inputs)/temperature)\n",
    "        \n",
    "def hard_sample_binary_concrete(inputs):\n",
    "    y = sample_binary_concrete(inputs)\n",
    "    y_hard = torch.round(y)\n",
    "    return (y_hard - y).detach() + y"
   ]
  },
  {
   "cell_type": "code",
   "execution_count": 11,
   "metadata": {},
   "outputs": [],
   "source": [
    "E = Encoder()\n",
    "D = Decoder()\n",
    "H = Hierarchy()\n",
    "if cuda:\n",
    "    E.cuda()\n",
    "    D.cuda()\n",
    "    H.cuda()"
   ]
  },
  {
   "cell_type": "code",
   "execution_count": 12,
   "metadata": {},
   "outputs": [],
   "source": [
    "optimizer = optim.Adam([\n",
    "                {'params':E.parameters()},\n",
    "                {'params': D.parameters()},\n",
    "                {'params': H.parameters()}\n",
    "            ], lr=1e-3)"
   ]
  },
  {
   "cell_type": "code",
   "execution_count": 13,
   "metadata": {},
   "outputs": [],
   "source": [
    "def train(epoch):\n",
    "    train_loss = 0\n",
    "    kld_loss = 0\n",
    "    rec_loss = 0\n",
    "    for batch_idx, (data, _) in enumerate(train_loader):\n",
    "        optimizer.zero_grad()\n",
    "        data = Variable(data, requires_grad=False)\n",
    "        x = data.view(-1,784)\n",
    "        posteriors = E(x)\n",
    "        codes = [hard_sample_binary_concrete(posterior) for posterior in posteriors]\n",
    "        cond_priors = H(codes)\n",
    "        codes = torch.cat(codes, dim=-1)\n",
    "        y = D(codes)\n",
    "        kld = KLD(cond_priors, posteriors)\n",
    "        rec = recon_loss(y, x)\n",
    "        loss = kld + rec\n",
    "        loss.backward()\n",
    "        optimizer.step()\n",
    "        train_loss += loss.data[0]\n",
    "        kld_loss += kld.data[0]\n",
    "        rec_loss += rec.data[0]\n",
    "#         plt.imshow(y[0].view(28,28).data.cpu().numpy())\n",
    "#         plt.show()\n",
    "        \n",
    "        optimizer.step()\n",
    "        if batch_idx % 100 == 0:\n",
    "            print('Train Epoch: {} [{}/{} ({:.0f}%)]\\tLoss: {:.6f}\\tKLD: {:.6f}\\trecon_loss:{:.6f}'.format(\n",
    "                epoch+1, batch_idx * len(data), len(train_loader.dataset),\n",
    "                batch_idx*100/ len(train_loader),\n",
    "                loss.data[0], kld.data[0], rec.data[0]))\n",
    "    print('====> Epoch: {} Average loss: {:.4f}\\tKLD: {:.6f}\\trecon_loss:{:.6f}'.format(\n",
    "          epoch+1, train_loss / len(train_loader), kld_loss/ len(train_loader), rec_loss/ len(train_loader)))\n",
    "    \n",
    "    "
   ]
  },
  {
   "cell_type": "code",
   "execution_count": 14,
   "metadata": {},
   "outputs": [],
   "source": [
    "def KLD(cond_priors, posteriors):\n",
    "    cond_priors = torch.cat(cond_priors, dim = -1)\n",
    "    posteriors = torch.cat(posteriors, dim = -1) \n",
    "    posteriors = F.sigmoid(posteriors)\n",
    "    const = 1E-20\n",
    "    kld_per_latent = posteriors * ((posteriors+const).log() - (cond_priors+const).log()) + \\\n",
    "                    (1-posteriors) * ((1-posteriors+const).log() - (1-cond_priors+const).log())\n",
    "#     kld_per_latent = posteriors * ((posteriors+const).log() - np.log(0.5)) + \\\n",
    "#                      (1-posteriors) * ((1-posteriors+const).log() - np.log(0.5))\n",
    "                                      \n",
    "    return kld_per_latent.sum(dim=-1).mean()\n",
    "    \n",
    "\n",
    "def recon_loss(y, true_y):\n",
    "    return F.binary_cross_entropy(y, true_y, size_average=False)/y.size()[0]"
   ]
  },
  {
   "cell_type": "code",
   "execution_count": 15,
   "metadata": {},
   "outputs": [
    {
     "name": "stdout",
     "output_type": "stream",
     "text": [
      "Train Epoch: 1 [0/60000 (0%)]\tLoss: 543.061829\tKLD: 0.092494\trecon_loss:542.969360\n",
      "Train Epoch: 1 [10000/60000 (17%)]\tLoss: 211.364059\tKLD: 0.689759\trecon_loss:210.674301\n",
      "Train Epoch: 1 [20000/60000 (33%)]\tLoss: 195.348877\tKLD: 1.393849\trecon_loss:193.955032\n",
      "Train Epoch: 1 [30000/60000 (50%)]\tLoss: 190.529785\tKLD: 1.214446\trecon_loss:189.315338\n",
      "Train Epoch: 1 [40000/60000 (67%)]\tLoss: 189.811127\tKLD: 1.377187\trecon_loss:188.433945\n",
      "Train Epoch: 1 [50000/60000 (83%)]\tLoss: 180.977905\tKLD: 1.348164\trecon_loss:179.629745\n",
      "====> Epoch: 1 Average loss: 201.5539\tKLD: 1.184000\trecon_loss:200.369941\n",
      "Train Epoch: 2 [0/60000 (0%)]\tLoss: 192.139679\tKLD: 1.242995\trecon_loss:190.896683\n",
      "Train Epoch: 2 [10000/60000 (17%)]\tLoss: 181.352493\tKLD: 1.203874\trecon_loss:180.148621\n",
      "Train Epoch: 2 [20000/60000 (33%)]\tLoss: 175.462860\tKLD: 1.749571\trecon_loss:173.713287\n",
      "Train Epoch: 2 [30000/60000 (50%)]\tLoss: 178.284851\tKLD: 1.664954\trecon_loss:176.619904\n",
      "Train Epoch: 2 [40000/60000 (67%)]\tLoss: 179.858292\tKLD: 1.706936\trecon_loss:178.151352\n",
      "Train Epoch: 2 [50000/60000 (83%)]\tLoss: 186.267288\tKLD: 1.522090\trecon_loss:184.745193\n",
      "====> Epoch: 2 Average loss: 186.5697\tKLD: 1.511322\trecon_loss:185.058329\n",
      "Train Epoch: 3 [0/60000 (0%)]\tLoss: 178.400284\tKLD: 1.545640\trecon_loss:176.854645\n",
      "Train Epoch: 3 [10000/60000 (17%)]\tLoss: 191.665237\tKLD: 1.419621\trecon_loss:190.245621\n",
      "Train Epoch: 3 [20000/60000 (33%)]\tLoss: 186.731262\tKLD: 1.420840\trecon_loss:185.310425\n",
      "Train Epoch: 3 [30000/60000 (50%)]\tLoss: 188.490555\tKLD: 1.355584\trecon_loss:187.134964\n",
      "Train Epoch: 3 [40000/60000 (67%)]\tLoss: 194.967194\tKLD: 1.273389\trecon_loss:193.693802\n",
      "Train Epoch: 3 [50000/60000 (83%)]\tLoss: 181.411865\tKLD: 1.594126\trecon_loss:179.817734\n",
      "====> Epoch: 3 Average loss: 183.9606\tKLD: 1.467114\trecon_loss:182.493454\n",
      "Train Epoch: 4 [0/60000 (0%)]\tLoss: 184.068970\tKLD: 1.433095\trecon_loss:182.635880\n",
      "Train Epoch: 4 [10000/60000 (17%)]\tLoss: 175.907120\tKLD: 1.382483\trecon_loss:174.524643\n",
      "Train Epoch: 4 [20000/60000 (33%)]\tLoss: 178.815186\tKLD: 1.581393\trecon_loss:177.233795\n",
      "Train Epoch: 4 [30000/60000 (50%)]\tLoss: 172.617737\tKLD: 1.594710\trecon_loss:171.023026\n",
      "Train Epoch: 4 [40000/60000 (67%)]\tLoss: 183.202438\tKLD: 1.385042\trecon_loss:181.817398\n",
      "Train Epoch: 4 [50000/60000 (83%)]\tLoss: 185.061707\tKLD: 1.227306\trecon_loss:183.834396\n",
      "====> Epoch: 4 Average loss: 184.5582\tKLD: 1.343166\trecon_loss:183.215012\n",
      "Train Epoch: 5 [0/60000 (0%)]\tLoss: 180.587540\tKLD: 1.312761\trecon_loss:179.274780\n",
      "Train Epoch: 5 [10000/60000 (17%)]\tLoss: 186.704636\tKLD: 1.149394\trecon_loss:185.555237\n",
      "Train Epoch: 5 [20000/60000 (33%)]\tLoss: 182.652481\tKLD: 1.315378\trecon_loss:181.337097\n",
      "Train Epoch: 5 [30000/60000 (50%)]\tLoss: 189.642929\tKLD: 1.080525\trecon_loss:188.562408\n",
      "Train Epoch: 5 [40000/60000 (67%)]\tLoss: 195.212616\tKLD: 0.736388\trecon_loss:194.476227\n",
      "Train Epoch: 5 [50000/60000 (83%)]\tLoss: 185.242493\tKLD: 1.049135\trecon_loss:184.193359\n",
      "====> Epoch: 5 Average loss: 188.2353\tKLD: 1.054797\trecon_loss:187.180517\n",
      "Train Epoch: 6 [0/60000 (0%)]\tLoss: 184.490555\tKLD: 1.158935\trecon_loss:183.331619\n",
      "Train Epoch: 6 [10000/60000 (17%)]\tLoss: 195.854218\tKLD: 0.679328\trecon_loss:195.174896\n",
      "Train Epoch: 6 [20000/60000 (33%)]\tLoss: 190.257355\tKLD: 0.854338\trecon_loss:189.403015\n",
      "Train Epoch: 6 [30000/60000 (50%)]\tLoss: 193.758591\tKLD: 0.733940\trecon_loss:193.024643\n",
      "Train Epoch: 6 [40000/60000 (67%)]\tLoss: 189.478287\tKLD: 0.729837\trecon_loss:188.748444\n",
      "Train Epoch: 6 [50000/60000 (83%)]\tLoss: 193.411835\tKLD: 0.797385\trecon_loss:192.614456\n",
      "====> Epoch: 6 Average loss: 193.5086\tKLD: 0.780911\trecon_loss:192.727655\n",
      "Train Epoch: 7 [0/60000 (0%)]\tLoss: 193.433212\tKLD: 0.602925\trecon_loss:192.830292\n",
      "Train Epoch: 7 [10000/60000 (17%)]\tLoss: 197.284470\tKLD: 0.434710\trecon_loss:196.849762\n",
      "Train Epoch: 7 [20000/60000 (33%)]\tLoss: 199.056885\tKLD: 0.330936\trecon_loss:198.725952\n",
      "Train Epoch: 7 [30000/60000 (50%)]\tLoss: 190.430145\tKLD: 0.513376\trecon_loss:189.916763\n",
      "Train Epoch: 7 [40000/60000 (67%)]\tLoss: 203.607513\tKLD: 0.502311\trecon_loss:203.105209\n",
      "Train Epoch: 7 [50000/60000 (83%)]\tLoss: 206.547226\tKLD: 0.258005\trecon_loss:206.289215\n",
      "====> Epoch: 7 Average loss: 199.5491\tKLD: 0.443479\trecon_loss:199.105575\n",
      "Train Epoch: 8 [0/60000 (0%)]\tLoss: 199.766144\tKLD: 0.212294\trecon_loss:199.553848\n",
      "Train Epoch: 8 [10000/60000 (17%)]\tLoss: 203.945389\tKLD: 0.196731\trecon_loss:203.748657\n",
      "Train Epoch: 8 [20000/60000 (33%)]\tLoss: 205.111496\tKLD: 0.138258\trecon_loss:204.973236\n",
      "Train Epoch: 8 [30000/60000 (50%)]\tLoss: 211.675140\tKLD: 0.103940\trecon_loss:211.571198\n",
      "Train Epoch: 8 [40000/60000 (67%)]\tLoss: 199.313812\tKLD: 0.114437\trecon_loss:199.199371\n",
      "Train Epoch: 8 [50000/60000 (83%)]\tLoss: 208.898392\tKLD: 0.101573\trecon_loss:208.796814\n",
      "====> Epoch: 8 Average loss: 204.2878\tKLD: 0.165277\trecon_loss:204.122568\n",
      "Train Epoch: 9 [0/60000 (0%)]\tLoss: 208.619110\tKLD: 0.144456\trecon_loss:208.474655\n",
      "Train Epoch: 9 [10000/60000 (17%)]\tLoss: 205.203400\tKLD: 0.095409\trecon_loss:205.107986\n",
      "Train Epoch: 9 [20000/60000 (33%)]\tLoss: 213.007248\tKLD: 0.084725\trecon_loss:212.922516\n",
      "Train Epoch: 9 [30000/60000 (50%)]\tLoss: 216.476898\tKLD: 0.042059\trecon_loss:216.434845\n",
      "Train Epoch: 9 [40000/60000 (67%)]\tLoss: 201.488998\tKLD: 0.038405\trecon_loss:201.450592\n",
      "Train Epoch: 9 [50000/60000 (83%)]\tLoss: 204.291382\tKLD: 0.074156\trecon_loss:204.217224\n",
      "====> Epoch: 9 Average loss: 205.4377\tKLD: 0.072642\trecon_loss:205.365050\n",
      "Train Epoch: 10 [0/60000 (0%)]\tLoss: 209.587311\tKLD: 0.066619\trecon_loss:209.520691\n",
      "Train Epoch: 10 [10000/60000 (17%)]\tLoss: 204.356720\tKLD: 0.111408\trecon_loss:204.245316\n",
      "Train Epoch: 10 [20000/60000 (33%)]\tLoss: 199.116470\tKLD: 0.035063\trecon_loss:199.081406\n",
      "Train Epoch: 10 [30000/60000 (50%)]\tLoss: 202.397247\tKLD: 0.029749\trecon_loss:202.367493\n",
      "Train Epoch: 10 [40000/60000 (67%)]\tLoss: 202.484863\tKLD: 0.036129\trecon_loss:202.448730\n",
      "Train Epoch: 10 [50000/60000 (83%)]\tLoss: 200.689011\tKLD: 0.075359\trecon_loss:200.613647\n",
      "====> Epoch: 10 Average loss: 204.9307\tKLD: 0.083737\trecon_loss:204.846931\n"
     ]
    }
   ],
   "source": [
    "# training\n",
    "torch.manual_seed(142)\n",
    "epochs = 10\n",
    "for epoch in range(epochs):\n",
    "    train(epoch)"
   ]
  },
  {
   "cell_type": "code",
   "execution_count": 16,
   "metadata": {},
   "outputs": [
    {
     "data": {
      "image/png": "[encoded data removed]",
      "text/plain": [
       "<matplotlib.figure.Figure at 0x7fb3c9e875c0>"
      ]
     },
     "metadata": {},
     "output_type": "display_data"
    }
   ],
   "source": [
    "f, axes = plt.subplots(1, 10, sharey=True, figsize=(10,1))\n",
    "plt.subplots_adjust(left=None, bottom=None, right=1.9, top=None,\n",
    "                wspace=None, hspace=None)\n",
    "for i in range(10):\n",
    "    l = [hard_sample_binary_concrete(H.root_dist.unsqueeze(0))]\n",
    "    for d in H.downwards:\n",
    "        l.append(hard_sample_binary_concrete(d(l[-1])))\n",
    "    l = torch.cat(l, dim=-1)\n",
    "    recovery = D(l).view(28,28).data.cpu().numpy()\n",
    "    ax = axes[i]\n",
    "    ax.set_title(l.cpu().data.numpy())\n",
    "    ax.imshow(recovery)\n",
    "    i += 1\n",
    "plt.show()"
   ]
  },
  {
   "cell_type": "code",
   "execution_count": 17,
   "metadata": {},
   "outputs": [
    {
     "data": {
      "image/png": "[encoded data removed]",
      "text/plain": [
       "<matplotlib.figure.Figure at 0x7fb3c9e87b70>"
      ]
     },
     "metadata": {},
     "output_type": "display_data"
    }
   ],
   "source": [
    "f, axes = plt.subplots(1, 10, sharey=True, figsize=(10,1))\n",
    "plt.subplots_adjust(left=None, bottom=None, right=1.9, top=None,\n",
    "                wspace=None, hspace=None)\n",
    "for i in range(10):\n",
    "    l = [hard_sample_binary_concrete(H.root_dist.unsqueeze(0))]\n",
    "    for d in H.downwards:\n",
    "        l.append(hard_sample_binary_concrete(d(l[-1])))\n",
    "    l = torch.cat(l, dim=-1)\n",
    "    recovery = D(l).view(28,28).data.cpu().numpy()\n",
    "    ax = axes[i]\n",
    "    ax.set_title(l.cpu().data.numpy())\n",
    "    ax.imshow(recovery)\n",
    "    i += 1\n",
    "plt.show()"
   ]
  },
  {
   "cell_type": "code",
   "execution_count": 18,
   "metadata": {},
   "outputs": [
    {
     "ename": "KeyError",
     "evalue": "0",
     "output_type": "error",
     "traceback": [
      "\u001b[0;31m---------------------------------------------------------------------------\u001b[0m",
      "\u001b[0;31mKeyError\u001b[0m                                  Traceback (most recent call last)",
      "\u001b[0;32m<ipython-input-18-725061ff35b0>\u001b[0m in \u001b[0;36m<module>\u001b[0;34m()\u001b[0m\n\u001b[1;32m     12\u001b[0m         \u001b[0mblah\u001b[0m\u001b[0;34m[\u001b[0m\u001b[0midx\u001b[0m\u001b[0;34m]\u001b[0m \u001b[0;34m=\u001b[0m \u001b[0mblah\u001b[0m\u001b[0;34m.\u001b[0m\u001b[0mget\u001b[0m\u001b[0;34m(\u001b[0m\u001b[0midx\u001b[0m\u001b[0;34m,\u001b[0m \u001b[0;34m[\u001b[0m\u001b[0;34m]\u001b[0m\u001b[0;34m)\u001b[0m\u001b[0;34m\u001b[0m\u001b[0m\n\u001b[1;32m     13\u001b[0m         \u001b[0mblah\u001b[0m\u001b[0;34m[\u001b[0m\u001b[0midx\u001b[0m\u001b[0;34m]\u001b[0m\u001b[0;34m.\u001b[0m\u001b[0mappend\u001b[0m\u001b[0;34m(\u001b[0m\u001b[0mrecovery\u001b[0m\u001b[0;34m)\u001b[0m\u001b[0;34m\u001b[0m\u001b[0m\n\u001b[0;32m---> 14\u001b[0;31m \u001b[0mplt\u001b[0m\u001b[0;34m.\u001b[0m\u001b[0mimshow\u001b[0m\u001b[0;34m(\u001b[0m\u001b[0mnp\u001b[0m\u001b[0;34m.\u001b[0m\u001b[0mmean\u001b[0m\u001b[0;34m(\u001b[0m\u001b[0mnp\u001b[0m\u001b[0;34m.\u001b[0m\u001b[0marray\u001b[0m\u001b[0;34m(\u001b[0m\u001b[0mblah\u001b[0m\u001b[0;34m[\u001b[0m\u001b[0;36m0\u001b[0m\u001b[0;34m]\u001b[0m\u001b[0;34m)\u001b[0m\u001b[0;34m,\u001b[0m \u001b[0;36m0\u001b[0m\u001b[0;34m)\u001b[0m\u001b[0;34m)\u001b[0m\u001b[0;34m\u001b[0m\u001b[0m\n\u001b[0m\u001b[1;32m     15\u001b[0m \u001b[0mplt\u001b[0m\u001b[0;34m.\u001b[0m\u001b[0mshow\u001b[0m\u001b[0;34m(\u001b[0m\u001b[0;34m)\u001b[0m\u001b[0;34m\u001b[0m\u001b[0m\n\u001b[1;32m     16\u001b[0m \u001b[0mplt\u001b[0m\u001b[0;34m.\u001b[0m\u001b[0mimshow\u001b[0m\u001b[0;34m(\u001b[0m\u001b[0mnp\u001b[0m\u001b[0;34m.\u001b[0m\u001b[0mmean\u001b[0m\u001b[0;34m(\u001b[0m\u001b[0mnp\u001b[0m\u001b[0;34m.\u001b[0m\u001b[0marray\u001b[0m\u001b[0;34m(\u001b[0m\u001b[0mblah\u001b[0m\u001b[0;34m[\u001b[0m\u001b[0;36m1\u001b[0m\u001b[0;34m]\u001b[0m\u001b[0;34m)\u001b[0m\u001b[0;34m,\u001b[0m \u001b[0;36m0\u001b[0m\u001b[0;34m)\u001b[0m\u001b[0;34m)\u001b[0m\u001b[0;34m\u001b[0m\u001b[0m\n",
      "\u001b[0;31mKeyError\u001b[0m: 0"
     ]
    }
   ],
   "source": [
    "blah = {}\n",
    "for k in range(500):\n",
    "    fixed = hard_sample_binary_concrete(H.root_dist.unsqueeze(0))\n",
    "    idx = int(fixed.cpu().data.numpy()[0][0])\n",
    "    for i in range(10):\n",
    "        h = fixed\n",
    "        l = [h]\n",
    "        for d in H.downwards:\n",
    "            l.append(hard_sample_binary_concrete(d(l[-1])))\n",
    "        l = torch.cat(l, dim=-1)\n",
    "        recovery = D(l).view(28,28).data.cpu().numpy()\n",
    "        blah[idx] = blah.get(idx, [])\n",
    "        blah[idx].append(recovery)\n",
    "plt.imshow(np.mean(np.array(blah[0]), 0))\n",
    "plt.show()\n",
    "plt.imshow(np.mean(np.array(blah[1]), 0))\n",
    "plt.show()"
   ]
  },
  {
   "cell_type": "code",
   "execution_count": null,
   "metadata": {},
   "outputs": [],
   "source": [
    "for k in range(10):\n",
    "    f, axes = plt.subplots(1, 10, sharey=True, figsize=(10,1))\n",
    "    plt.subplots_adjust(left=None, bottom=None, right=1.9, top=None,\n",
    "                    wspace=None, hspace=None)\n",
    "    fixed = hard_sample_binary_concrete(H.root_dist.unsqueeze(0))\n",
    "    print(fixed)\n",
    "    for i in range(10):\n",
    "        h = fixed\n",
    "        l = [h]\n",
    "        for d in H.downwards:\n",
    "            l.append(hard_sample_binary_concrete(d(l[-1])))\n",
    "        l = torch.cat(l, dim=-1)\n",
    "        recovery = D(l).view(28,28).data.cpu().numpy()\n",
    "        ax = axes[i]\n",
    "        ax.set_title(l.cpu().data.numpy())\n",
    "        ax.imshow(recovery)\n",
    "    plt.show()"
   ]
  },
  {
   "cell_type": "code",
   "execution_count": null,
   "metadata": {},
   "outputs": [],
   "source": [
    "H.downwards"
   ]
  },
  {
   "cell_type": "code",
   "execution_count": null,
   "metadata": {},
   "outputs": [],
   "source": [
    "a"
   ]
  },
  {
   "cell_type": "code",
   "execution_count": null,
   "metadata": {
    "scrolled": false
   },
   "outputs": [],
   "source": [
    "for k in range(10):\n",
    "    f, axes = plt.subplots(1, 10, sharey=True, figsize=(10,1))\n",
    "    plt.subplots_adjust(left=None, bottom=None, right=1.9, top=None,\n",
    "                    wspace=None, hspace=None)\n",
    "    a= [hard_sample_binary_concrete(H.root_dist.unsqueeze(0))]\n",
    "    for d in list(H.downwards)[:14]:\n",
    "        a.append(hard_sample_binary_concrete(d(a[-1])))\n",
    "    print(a)\n",
    "    for i in range(10):\n",
    "        l=a.copy()\n",
    "        for d in list(H.downwards)[14:]:\n",
    "            l.append(hard_sample_binary_concrete(d(l[-1])))\n",
    "        l = torch.cat(l, dim=-1)\n",
    "        recovery = D(l).view(28,28).data.cpu().numpy()\n",
    "        ax = axes[i]\n",
    "        ax.set_title(l.cpu().data.numpy())\n",
    "        ax.imshow(recovery)\n",
    "        i += 1\n",
    "    plt.show()"
   ]
  },
  {
   "cell_type": "code",
   "execution_count": null,
   "metadata": {},
   "outputs": [],
   "source": [
    "for k in range(10):\n",
    "    f, axes = plt.subplots(1, 10, sharey=True, figsize=(10,1))\n",
    "    plt.subplots_adjust(left=None, bottom=None, right=1.9, top=None,\n",
    "                    wspace=None, hspace=None)\n",
    "    fixed = hard_sample_binary_concrete(H.root_dist.unsqueeze(0))\n",
    "    print(fixed)\n",
    "    for d in list(H.downwards)[:2]:\n",
    "        fixed = hard_sample_binary_concrete(d(fixed))\n",
    "    for i in range(10):\n",
    "        h = fixed\n",
    "        for d in list(H.downwards)[2:]:\n",
    "            h = hard_sample_binary_concrete(d(h))\n",
    "        recovery = D(h).view(28,28).data.cpu().numpy()\n",
    "        ax = axes[i]\n",
    "        ax.set_title(h.cpu().data.numpy())\n",
    "        ax.imshow(recovery)\n",
    "        i += 1\n",
    "    plt.show()"
   ]
  },
  {
   "cell_type": "code",
   "execution_count": null,
   "metadata": {
    "scrolled": false
   },
   "outputs": [],
   "source": [
    "a = torch.FloatTensor((0,0,0,0,0,0,0,0))\n",
    "for i in range(8):\n",
    "#     a = torch.FloatTensor((0,0,0,0,0,0,0,0))\n",
    "    a[i] = 1.\n",
    "    t = Variable(a).unsqueeze(0)\n",
    "    recovery = D(t).view(28,28).data.cpu().numpy()\n",
    "    plt.imshow(recovery)\n",
    "    plt.show()"
   ]
  },
  {
   "cell_type": "code",
   "execution_count": null,
   "metadata": {
    "scrolled": false
   },
   "outputs": [],
   "source": [
    "F.sigmoid(H.downwards[0](Variable(torch.Tensor([0.])).unsqueeze(0)))"
   ]
  },
  {
   "cell_type": "code",
   "execution_count": null,
   "metadata": {},
   "outputs": [],
   "source": [
    "print(F.sigmoid(H.downwards[1](Variable(torch.Tensor([0., 0.]))).unsqueeze(0)))\n",
    "print(F.sigmoid(H.downwards[1](Variable(torch.Tensor([1., 0.]))).unsqueeze(0)))\n",
    "print(F.sigmoid(H.downwards[1](Variable(torch.Tensor([1., 1.]))).unsqueeze(0)))\n",
    "print(F.sigmoid(H.downwards[1](Variable(torch.Tensor([0., 1.]))).unsqueeze(0)))"
   ]
  },
  {
   "cell_type": "code",
   "execution_count": null,
   "metadata": {},
   "outputs": [],
   "source": []
  }
 ],
 "metadata": {
  "kernelspec": {
   "display_name": "Python 3",
   "language": "python",
   "name": "python3"
  },
  "language_info": {
   "codemirror_mode": {
    "name": "ipython",
    "version": 3
   },
   "file_extension": ".py",
   "mimetype": "text/x-python",
   "name": "python",
   "nbconvert_exporter": "python",
   "pygments_lexer": "ipython3",
   "version": "3.6.4"
  }
 },
 "nbformat": 4,
 "nbformat_minor": 2
}
