{
 "cells": [
  {
   "cell_type": "code",
   "execution_count": 70,
   "metadata": {},
   "outputs": [],
   "source": [
    "import numpy as np\n",
    "import matplotlib.pyplot as plt\n",
    "%matplotlib inline"
   ]
  },
  {
   "cell_type": "code",
   "execution_count": 71,
   "metadata": {},
   "outputs": [
    {
     "name": "stdout",
     "output_type": "stream",
     "text": [
      "The autoreload extension is already loaded. To reload it, use:\n",
      "  %reload_ext autoreload\n"
     ]
    }
   ],
   "source": [
    "%load_ext autoreload\n",
    "%autoreload 2"
   ]
  },
  {
   "cell_type": "code",
   "execution_count": 72,
   "metadata": {},
   "outputs": [],
   "source": [
    "from torch import nn, optim\n",
    "from torch.autograd import Variable\n",
    "from torch.nn import functional as F"
   ]
  },
  {
   "cell_type": "code",
   "execution_count": 73,
   "metadata": {},
   "outputs": [],
   "source": [
    "import torchvision.datasets as dset\n",
    "import torchvision.transforms as transforms\n",
    "import torch.utils.data"
   ]
  },
  {
   "cell_type": "code",
   "execution_count": 74,
   "metadata": {},
   "outputs": [],
   "source": [
    "#transform\n",
    "data_transforms = transforms.Compose([\n",
    "        transforms.ToTensor(),\n",
    "        lambda x: x>0.5,\n",
    "        lambda x: x.float(),\n",
    "    ])"
   ]
  },
  {
   "cell_type": "code",
   "execution_count": 75,
   "metadata": {},
   "outputs": [],
   "source": [
    "# dataset loading\n",
    "bsize = 100\n",
    "train_loader = torch.utils.data.DataLoader(\n",
    "    dset.MNIST('data', train=True, download=True, transform=data_transforms), batch_size=bsize, shuffle=True)\n",
    "test_loader = torch.utils.data.DataLoader(\n",
    "    dset.MNIST('data', train=False, download=True, transform=data_transforms), batch_size=bsize, shuffle=True)"
   ]
  },
  {
   "cell_type": "code",
   "execution_count": 76,
   "metadata": {},
   "outputs": [],
   "source": [
    "# hyperparameters\n",
    "N = 5\n",
    "k = 2\n",
    "tau = 1."
   ]
  },
  {
   "cell_type": "code",
   "execution_count": 77,
   "metadata": {},
   "outputs": [],
   "source": [
    "# TODO: UPDATE TO BINARY GUMBEL (REFER TO L0-REG PAPER)\n",
    "# gumbel-softmax\n",
    "def sample_gumbel(shape, eps=1e-20):\n",
    "    U = torch.rand(shape)\n",
    "    return -Variable(torch.log(-torch.log(U + eps) + eps))\n",
    "\n",
    "def gumbel_softmax_sample(logits, temperature):\n",
    "    y = logits + sample_gumbel(logits.size())\n",
    "    return F.softmax(y / temperature, dim=-1)\n",
    "\n",
    "def gumbel_softmax(logits, temperature):\n",
    "    \"\"\"\n",
    "    input: [*, n_class]\n",
    "    return: [*, n_class] an one-hot vector\n",
    "    \"\"\"\n",
    "    y = gumbel_softmax_sample(logits, temperature)\n",
    "    shape = y.size()\n",
    "    _, ind = y.max(dim=-1)\n",
    "    y_hard = torch.zeros_like(y).view(-1, shape[-1])\n",
    "    y_hard.scatter_(1, ind.view(-1, 1), 1)\n",
    "    y_hard = y_hard.view(*shape)\n",
    "    return (y_hard - y).detach() + y"
   ]
  },
  {
   "cell_type": "code",
   "execution_count": 78,
   "metadata": {},
   "outputs": [],
   "source": [
    "class Encoder(nn.Module):\n",
    "    def __init__(self):\n",
    "        super(Encoder, self).__init__()\n",
    "        self.fc1 = nn.Linear(784, 512)\n",
    "        self.fc2 = nn.Linear(512, 128)\n",
    "        self.relu = nn.ReLU()\n",
    "        \n",
    "    def forward(self, x):\n",
    "        h1 = self.relu(self.fc1(x))\n",
    "        l = self.relu(self.fc2(h1))\n",
    "        return l"
   ]
  },
  {
   "cell_type": "code",
   "execution_count": 79,
   "metadata": {},
   "outputs": [],
   "source": [
    "class Tunnel(nn.Module):\n",
    "    def __init__(self):\n",
    "        super(Tunnel, self).__init__()\n",
    "        self.fc1 = nn.Linear(128, 128)\n",
    "        self.relu = nn.ReLU()\n",
    "        \n",
    "    def forward(self, x):\n",
    "        l = self.relu(self.fc1(x))\n",
    "        return l"
   ]
  },
  {
   "cell_type": "code",
   "execution_count": 80,
   "metadata": {},
   "outputs": [],
   "source": [
    "class Output(nn.Module):\n",
    "    def __init__(self):\n",
    "        super(Output, self).__init__()\n",
    "        self.fc1 = nn.Linear(128, 2)\n",
    "        self.relu = nn.ReLU()\n",
    "        \n",
    "    def forward(self, x):\n",
    "        h1 = self.relu(self.fc1(x))\n",
    "        l = h1.view(-1,2)\n",
    "        return l"
   ]
  },
  {
   "cell_type": "code",
   "execution_count": 81,
   "metadata": {},
   "outputs": [],
   "source": [
    "class Gate(nn.Module):\n",
    "    def __init__(self):\n",
    "        super(Gate, self).__init__()\n",
    "        self.fc1 = nn.Linear(1, 128)\n",
    "        \n",
    "    def forward(self, x):\n",
    "        return F.sigmoid(self.fc1(x))"
   ]
  },
  {
   "cell_type": "code",
   "execution_count": 82,
   "metadata": {},
   "outputs": [],
   "source": [
    "def prob(outputs):\n",
    "    outputs = [F.softmax(out, dim=-1) for out in outputs]\n",
    "    return torch.cat(outputs, dim=1).view(-1, N, k)\n",
    "\n",
    "def sample(l):\n",
    "    gs = gumbel_softmax(l, tau)\n",
    "    return gs.narrow(1,0,1)\n",
    "\n",
    "# def signal(outputs):\n",
    "#     outputs = [sample(out).narrow(1,0,1) for out in outputs]\n",
    "#     return torch.cat(outputs, dim=1)\n",
    "    "
   ]
  },
  {
   "cell_type": "code",
   "execution_count": 83,
   "metadata": {},
   "outputs": [],
   "source": [
    "class Decoder(nn.Module):  \n",
    "    def __init__(self):\n",
    "        super(Decoder, self).__init__()\n",
    "        self.fc1 = nn.Linear(N, 128)\n",
    "        self.fc2 = nn.Linear(128, 256)\n",
    "        self.fc3 = nn.Linear(256, 512)      \n",
    "        self.fc4 = nn.Linear(512, 784)\n",
    "        self.relu = nn.ReLU()\n",
    "        \n",
    "    def forward(self, x):\n",
    "        h1 = self.relu(self.fc1(x))\n",
    "        h2 = self.relu(self.fc2(h1))\n",
    "        h3 = self.relu(self.fc3(h2))\n",
    "        h4 = self.fc4(h3)\n",
    "        o = h4.view(-1,784)\n",
    "        return F.sigmoid(o)"
   ]
  },
  {
   "cell_type": "code",
   "execution_count": 84,
   "metadata": {},
   "outputs": [],
   "source": [
    "E = Encoder()\n",
    "D = Decoder()\n",
    "O0 = Output()\n",
    "Os = [Output() for _ in range(N-1)]\n",
    "Ts = [Tunnel() for _ in range(N-1)]\n",
    "T1s = [Tunnel() for _ in range(N-1)]\n",
    "Gs = [Gate() for _ in range(N-1)]"
   ]
  },
  {
   "cell_type": "code",
   "execution_count": 85,
   "metadata": {},
   "outputs": [],
   "source": [
    "# TODO\n",
    "# objective\n",
    "def loss_function(recon_x, x, q):\n",
    "    BCE = F.binary_cross_entropy(recon_x, x, size_average=False)\n",
    "    \n",
    "    KLD = torch.sum(q*(torch.log(q+1E-20)-np.log(1/k)))\n",
    "\n",
    "    return BCE + KLD"
   ]
  },
  {
   "cell_type": "code",
   "execution_count": 86,
   "metadata": {},
   "outputs": [
    {
     "name": "stdout",
     "output_type": "stream",
     "text": [
      "Train Epoch: 1 [0/60000 (0%)]\tLoss: 543.824258\n",
      "Train Epoch: 1 [20000/60000 (33%)]\tLoss: 212.043066\n",
      "Train Epoch: 1 [40000/60000 (67%)]\tLoss: 209.960508\n",
      "====> Epoch: 1 Average loss: 237.4263\n",
      "Train Epoch: 2 [0/60000 (0%)]\tLoss: 200.073711\n",
      "Train Epoch: 2 [20000/60000 (33%)]\tLoss: 210.621973\n",
      "Train Epoch: 2 [40000/60000 (67%)]\tLoss: 200.514531\n",
      "====> Epoch: 2 Average loss: 435.8400\n",
      "Train Epoch: 3 [0/60000 (0%)]\tLoss: 195.787324\n",
      "Train Epoch: 3 [20000/60000 (33%)]\tLoss: 196.366875\n",
      "Train Epoch: 3 [40000/60000 (67%)]\tLoss: 187.523184\n",
      "====> Epoch: 3 Average loss: 632.5493\n",
      "Train Epoch: 4 [0/60000 (0%)]\tLoss: 201.939668\n",
      "Train Epoch: 4 [20000/60000 (33%)]\tLoss: 204.224277\n",
      "Train Epoch: 4 [40000/60000 (67%)]\tLoss: 189.992441\n",
      "====> Epoch: 4 Average loss: 827.1895\n",
      "Train Epoch: 5 [0/60000 (0%)]\tLoss: 201.836172\n",
      "Train Epoch: 5 [20000/60000 (33%)]\tLoss: 193.780488\n",
      "Train Epoch: 5 [40000/60000 (67%)]\tLoss: 193.960449\n",
      "====> Epoch: 5 Average loss: 1019.8386\n",
      "Train Epoch: 6 [0/60000 (0%)]\tLoss: 190.596387\n",
      "Train Epoch: 6 [20000/60000 (33%)]\tLoss: 187.056953\n",
      "Train Epoch: 6 [40000/60000 (67%)]\tLoss: 189.743633\n",
      "====> Epoch: 6 Average loss: 1209.6806\n",
      "Train Epoch: 7 [0/60000 (0%)]\tLoss: 184.128730\n",
      "Train Epoch: 7 [20000/60000 (33%)]\tLoss: 175.111113\n",
      "Train Epoch: 7 [40000/60000 (67%)]\tLoss: 180.364883\n",
      "====> Epoch: 7 Average loss: 1392.7883\n",
      "Train Epoch: 8 [0/60000 (0%)]\tLoss: 178.790371\n",
      "Train Epoch: 8 [20000/60000 (33%)]\tLoss: 181.317129\n",
      "Train Epoch: 8 [40000/60000 (67%)]\tLoss: 172.843633\n",
      "====> Epoch: 8 Average loss: 1574.8374\n",
      "Train Epoch: 9 [0/60000 (0%)]\tLoss: 175.697031\n",
      "Train Epoch: 9 [20000/60000 (33%)]\tLoss: 177.209648\n",
      "Train Epoch: 9 [40000/60000 (67%)]\tLoss: 178.864785\n",
      "====> Epoch: 9 Average loss: 1756.5999\n",
      "Train Epoch: 10 [0/60000 (0%)]\tLoss: 178.513066\n",
      "Train Epoch: 10 [20000/60000 (33%)]\tLoss: 177.596152\n",
      "Train Epoch: 10 [40000/60000 (67%)]\tLoss: 188.444512\n",
      "====> Epoch: 10 Average loss: 1937.6161\n"
     ]
    }
   ],
   "source": [
    "# training\n",
    "epochs = 10\n",
    "\n",
    "params = [\n",
    "    {'params':E.parameters()},\n",
    "    {'params':D.parameters()},\n",
    "    {'params':O0.parameters()},\n",
    "] + [{'params':o.parameters()} for o in Os] \\\n",
    "  + [{'params':t.parameters()} for t in Ts] + [{'params': g.parameters()} for g in Gs]\n",
    "optimizer = optim.Adam(params, lr=1e-4)\n",
    "\n",
    "train_loss = 0\n",
    "for epoch in range(epochs):\n",
    "    for batch_idx, (data, _) in enumerate(train_loader):\n",
    "        data = Variable(data)\n",
    "        x = data.view(-1,784)\n",
    "        optimizer.zero_grad()\n",
    "        sofar = E(x)\n",
    "        outputs = [O0(sofar)]\n",
    "        samples = [sample(outputs[-1])]\n",
    "        for n in range(len(Ts)):\n",
    "            sofar = Ts[n](sofar)*Gs[n](samples[-1])\n",
    "            outputs.append(Os[n](sofar))\n",
    "            samples.append(sample(outputs[-1]))\n",
    "#         for n in range(len(T1s)):\n",
    "#             soforth = T1s[n](outputs[n])\n",
    "\n",
    "#         recon_x = D(soforth)\n",
    "            \n",
    "        bits = torch.cat(samples, dim=1)\n",
    "        q = prob(outputs)\n",
    "        recon_x = D(bits)\n",
    "        loss = loss_function(recon_x, x, q)\n",
    "        loss.backward()\n",
    "        train_loss += loss.data[0]\n",
    "        optimizer.step()\n",
    "        if batch_idx % 200 == 0:\n",
    "            print('Train Epoch: {} [{}/{} ({:.0f}%)]\\tLoss: {:.6f}'.format(\n",
    "                epoch+1, batch_idx * len(data), len(train_loader.dataset),\n",
    "                100. * batch_idx / len(train_loader),\n",
    "                loss.data[0] / len(data)))\n",
    "\n",
    "    print('====> Epoch: {} Average loss: {:.4f}'.format(\n",
    "          epoch+1, train_loss / len(train_loader.dataset)))"
   ]
  },
  {
   "cell_type": "code",
   "execution_count": 87,
   "metadata": {},
   "outputs": [
    {
     "data": {
      "text/plain": [
       "Variable containing:\n",
       "( 0 ,.,.) = \n",
       "  9.9877e-01  1.2263e-03\n",
       "  7.4618e-01  2.5382e-01\n",
       "  9.2268e-01  7.7323e-02\n",
       "  5.0000e-01  5.0000e-01\n",
       "  5.0000e-01  5.0000e-01\n",
       "\n",
       "( 1 ,.,.) = \n",
       "  2.0285e-03  9.9797e-01\n",
       "  6.8748e-01  3.1252e-01\n",
       "  1.1649e-01  8.8351e-01\n",
       "  5.0000e-01  5.0000e-01\n",
       "  5.0000e-01  5.0000e-01\n",
       "\n",
       "( 2 ,.,.) = \n",
       "  9.9999e-01  8.8939e-06\n",
       "  9.9998e-01  1.5729e-05\n",
       "  1.4069e-03  9.9859e-01\n",
       "  5.0000e-01  5.0000e-01\n",
       "  5.0000e-01  5.0000e-01\n",
       "... \n",
       "\n",
       "(97 ,.,.) = \n",
       "  3.9428e-01  6.0572e-01\n",
       "  4.5401e-05  9.9995e-01\n",
       "  7.7463e-02  9.2254e-01\n",
       "  5.0000e-01  5.0000e-01\n",
       "  5.0000e-01  5.0000e-01\n",
       "\n",
       "(98 ,.,.) = \n",
       "  9.8714e-01  1.2857e-02\n",
       "  6.3543e-01  3.6457e-01\n",
       "  9.2899e-01  7.1006e-02\n",
       "  5.0000e-01  5.0000e-01\n",
       "  5.0000e-01  5.0000e-01\n",
       "\n",
       "(99 ,.,.) = \n",
       "  9.1491e-01  8.5087e-02\n",
       "  5.8413e-02  9.4159e-01\n",
       "  4.6216e-01  5.3784e-01\n",
       "  5.0000e-01  5.0000e-01\n",
       "  5.0000e-01  5.0000e-01\n",
       "[torch.FloatTensor of size 100x5x2]"
      ]
     },
     "execution_count": 87,
     "metadata": {},
     "output_type": "execute_result"
    }
   ],
   "source": [
    "q"
   ]
  },
  {
   "cell_type": "code",
   "execution_count": 88,
   "metadata": {},
   "outputs": [
    {
     "data": {
      "text/plain": [
       "Variable containing:\n",
       "    1     1     1     1     1\n",
       "    0     1     0     0     0\n",
       "    1     1     0     0     0\n",
       "    1     1     1     0     1\n",
       "    1     1     0     0     1\n",
       "    0     1     0     0     0\n",
       "    1     1     0     1     1\n",
       "    1     1     1     0     1\n",
       "    1     1     0     1     0\n",
       "    1     0     1     0     1\n",
       "    1     0     0     1     0\n",
       "    1     1     1     1     0\n",
       "    1     0     1     1     1\n",
       "    0     1     0     0     1\n",
       "    0     0     0     1     1\n",
       "    1     1     0     0     1\n",
       "    0     1     1     0     0\n",
       "    1     0     1     1     1\n",
       "    0     0     1     1     0\n",
       "    0     1     1     0     1\n",
       "    1     1     1     0     0\n",
       "    1     1     0     0     1\n",
       "    1     1     0     0     0\n",
       "    1     1     0     0     0\n",
       "    1     1     0     1     1\n",
       "    1     1     1     0     0\n",
       "    0     0     1     0     1\n",
       "    1     1     0     0     0\n",
       "    0     0     1     0     1\n",
       "    1     1     0     1     1\n",
       "    0     1     0     0     0\n",
       "    1     0     1     0     1\n",
       "    1     1     0     0     1\n",
       "    1     1     0     1     0\n",
       "    1     0     1     1     0\n",
       "    1     1     1     0     1\n",
       "    1     1     0     1     0\n",
       "    1     1     1     1     0\n",
       "    1     1     1     1     1\n",
       "    1     1     0     0     0\n",
       "    1     1     0     0     0\n",
       "    1     1     1     1     1\n",
       "    1     0     1     1     1\n",
       "    1     1     0     0     1\n",
       "    0     0     1     1     1\n",
       "    0     1     1     0     0\n",
       "    1     0     1     0     0\n",
       "    1     0     1     1     0\n",
       "    1     1     0     0     1\n",
       "    1     0     0     1     1\n",
       "    1     1     0     0     0\n",
       "    1     1     1     0     0\n",
       "    1     0     1     1     0\n",
       "    1     1     0     1     1\n",
       "    1     1     1     0     1\n",
       "    1     0     0     1     1\n",
       "    1     0     1     1     0\n",
       "    1     1     0     1     1\n",
       "    1     1     1     0     0\n",
       "    1     1     1     1     0\n",
       "    0     1     0     1     0\n",
       "    1     1     0     0     0\n",
       "    1     1     1     1     0\n",
       "    1     1     0     0     1\n",
       "    1     1     1     1     1\n",
       "    0     1     0     0     1\n",
       "    1     1     1     0     0\n",
       "    1     1     0     1     1\n",
       "    1     1     0     0     0\n",
       "    1     0     1     1     0\n",
       "    1     0     1     1     0\n",
       "    1     1     1     0     0\n",
       "    0     1     0     0     1\n",
       "    0     0     0     0     1\n",
       "    0     0     1     1     1\n",
       "    0     0     0     0     1\n",
       "    1     1     0     1     1\n",
       "    0     1     1     1     1\n",
       "    0     1     1     0     0\n",
       "    1     0     1     0     0\n",
       "    1     1     1     0     1\n",
       "    1     0     0     0     0\n",
       "    1     0     1     1     0\n",
       "    1     0     0     1     1\n",
       "    1     0     0     0     0\n",
       "    1     1     0     0     0\n",
       "    1     0     1     1     0\n",
       "    0     1     0     1     1\n",
       "    0     0     1     0     1\n",
       "    1     1     0     1     0\n",
       "    1     1     0     1     1\n",
       "    1     1     0     0     0\n",
       "    1     0     1     0     0\n",
       "    1     1     0     0     0\n",
       "    1     1     0     0     0\n",
       "    1     0     1     0     1\n",
       "    0     0     1     0     1\n",
       "    1     0     0     1     0\n",
       "    1     0     0     0     1\n",
       "    1     0     0     0     0\n",
       "[torch.FloatTensor of size 100x5]"
      ]
     },
     "execution_count": 88,
     "metadata": {},
     "output_type": "execute_result"
    }
   ],
   "source": [
    "bits"
   ]
  },
  {
   "cell_type": "code",
   "execution_count": 19,
   "metadata": {
    "collapsed": true
   },
   "outputs": [],
   "source": [
    "test_set = dset.MNIST('data', train=False, download=True, transform=data_transforms)"
   ]
  },
  {
   "cell_type": "code",
   "execution_count": 20,
   "metadata": {
    "collapsed": true
   },
   "outputs": [],
   "source": [
    "# a = np.array([[0., 0., 0., 0.]])\n",
    "# w = D.forward(Variable(torch.from_numpy(a).type(torch.FloatTensor)))\n",
    "# plt.imshow(w.view(28,28).data.numpy())"
   ]
  },
  {
   "cell_type": "code",
   "execution_count": 89,
   "metadata": {
    "scrolled": true
   },
   "outputs": [
    {
     "data": {
      "image/png": "[encoded data removed]",
      "text/plain": [
       "<matplotlib.figure.Figure at 0x7fd6bfca4c50>"
      ]
     },
     "metadata": {},
     "output_type": "display_data"
    }
   ],
   "source": [
    "from itertools import product\n",
    "f, axes = plt.subplots(1, 2**N, sharey=True, figsize=(25,1))\n",
    "k = 0\n",
    "for path in product(range(2), repeat=N):\n",
    "    w = D.forward(Variable(torch.Tensor(path).type(torch.FloatTensor)))\n",
    "    ax = axes[k]\n",
    "    ax.set_title(path)\n",
    "    ax.imshow(w.view(28,28).data.numpy())\n",
    "    k += 1"
   ]
  },
  {
   "cell_type": "code",
   "execution_count": null,
   "metadata": {},
   "outputs": [],
   "source": []
  }
 ],
 "metadata": {
  "kernelspec": {
   "display_name": "Python 3",
   "language": "python",
   "name": "python3"
  },
  "language_info": {
   "codemirror_mode": {
    "name": "ipython",
    "version": 3
   },
   "file_extension": ".py",
   "mimetype": "text/x-python",
   "name": "python",
   "nbconvert_exporter": "python",
   "pygments_lexer": "ipython3",
   "version": "3.6.4"
  }
 },
 "nbformat": 4,
 "nbformat_minor": 2
}
