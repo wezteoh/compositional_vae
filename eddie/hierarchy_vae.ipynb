{
 "cells": [
  {
   "cell_type": "code",
   "execution_count": 1,
   "metadata": {
    "collapsed": true
   },
   "outputs": [],
   "source": [
    "import numpy as np\n",
    "import matplotlib.pyplot as plt\n",
    "%matplotlib inline"
   ]
  },
  {
   "cell_type": "code",
   "execution_count": 2,
   "metadata": {
    "collapsed": true
   },
   "outputs": [],
   "source": [
    "%load_ext autoreload\n",
    "%autoreload 2"
   ]
  },
  {
   "cell_type": "code",
   "execution_count": 3,
   "metadata": {
    "collapsed": true
   },
   "outputs": [],
   "source": [
    "from torch import nn, optim\n",
    "from torch.autograd import Variable\n",
    "from torch.nn import functional as F"
   ]
  },
  {
   "cell_type": "code",
   "execution_count": 4,
   "metadata": {
    "collapsed": true
   },
   "outputs": [],
   "source": [
    "import torchvision.datasets as dset\n",
    "import torchvision.transforms as transforms\n",
    "import torch.utils.data"
   ]
  },
  {
   "cell_type": "code",
   "execution_count": 68,
   "metadata": {
    "collapsed": true
   },
   "outputs": [],
   "source": [
    "CUDA = torch.cuda.is_available()\n",
    "SEED = 1\n",
    "torch.manual_seed(SEED)\n",
    "if CUDA:\n",
    "    torch.cuda.manual_seed(SEED)\n",
    "np.random.seed(SEED)"
   ]
  },
  {
   "cell_type": "code",
   "execution_count": 5,
   "metadata": {
    "collapsed": true
   },
   "outputs": [],
   "source": [
    "#transform\n",
    "data_transforms = transforms.Compose([\n",
    "        transforms.ToTensor(),\n",
    "        lambda x: x>0.5,\n",
    "        lambda x: x.float(),\n",
    "    ])"
   ]
  },
  {
   "cell_type": "code",
   "execution_count": 6,
   "metadata": {},
   "outputs": [
    {
     "name": "stdout",
     "output_type": "stream",
     "text": [
      "Downloading http://yann.lecun.com/exdb/mnist/train-images-idx3-ubyte.gz\n",
      "Downloading http://yann.lecun.com/exdb/mnist/train-labels-idx1-ubyte.gz\n",
      "Downloading http://yann.lecun.com/exdb/mnist/t10k-images-idx3-ubyte.gz\n",
      "Downloading http://yann.lecun.com/exdb/mnist/t10k-labels-idx1-ubyte.gz\n",
      "Processing...\n",
      "Done!\n"
     ]
    }
   ],
   "source": [
    "# dataset loading\n",
    "bsize = 100\n",
    "train_loader = torch.utils.data.DataLoader(\n",
    "    dset.MNIST('data', train=True, download=True, transform=data_transforms), batch_size=bsize, shuffle=True)\n",
    "test_loader = torch.utils.data.DataLoader(\n",
    "    dset.MNIST('data', train=False, download=True, transform=data_transforms), batch_size=bsize, shuffle=True)"
   ]
  },
  {
   "cell_type": "code",
   "execution_count": 49,
   "metadata": {
    "collapsed": true
   },
   "outputs": [],
   "source": [
    "# hyperparameters\n",
    "N = 5\n",
    "k = 2\n",
    "tau = 1."
   ]
  },
  {
   "cell_type": "code",
   "execution_count": 24,
   "metadata": {
    "collapsed": true
   },
   "outputs": [],
   "source": [
    "# gumbel-softmax\n",
    "def sample_gumbel(shape, eps=1e-20, out=None):\n",
    "#     U = torch.rand(shape)\n",
    "#     return -Variable(torch.log(-torch.log(U + eps) + eps))\n",
    "    \"\"\"\n",
    "    Sample from Gumbel(0, 1)\n",
    "    based on\n",
    "    https://github.com/ericjang/gumbel-softmax/blob/3c8584924603869e90ca74ac20a6a03d99a91ef9/Categorical%20VAE.ipynb ,\n",
    "    (MIT license)\n",
    "    \"\"\"\n",
    "    U = out.resize_(shape).uniform_() if out is not None else torch.rand(shape)\n",
    "    return - torch.log(eps - torch.log(U + eps))\n",
    "\n",
    "def gumbel_softmax_sample(logits, temperature):\n",
    "    y = logits + Variable(sample_gumbel(logits.size(), out=logits.data.new()))\n",
    "    return F.softmax(y / temperature, dim=-1)\n",
    "\n",
    "def gumbel_softmax(logits, temperature):\n",
    "    \"\"\"\n",
    "    input: [*, n_class]\n",
    "    return: [*, n_class] an one-hot vector\n",
    "    \"\"\"\n",
    "    y = gumbel_softmax_sample(logits, temperature)\n",
    "    shape = y.size()\n",
    "    _, ind = y.max(dim=-1)\n",
    "    y_hard = torch.zeros_like(y).view(-1, shape[-1])\n",
    "    y_hard.scatter_(1, ind.view(-1, 1), 1)\n",
    "    y_hard = y_hard.view(*shape)\n",
    "    return (y_hard - y).detach() + y"
   ]
  },
  {
   "cell_type": "code",
   "execution_count": 9,
   "metadata": {
    "collapsed": true
   },
   "outputs": [],
   "source": [
    "class Encoder(nn.Module):\n",
    "    def __init__(self):\n",
    "        super(Encoder, self).__init__()\n",
    "        self.fc1 = nn.Linear(784, 512)\n",
    "        self.fc2 = nn.Linear(512, 128)\n",
    "        self.relu = nn.ReLU()\n",
    "        \n",
    "    def forward(self, x):\n",
    "        h1 = self.relu(self.fc1(x))\n",
    "        l = self.relu(self.fc2(h1))\n",
    "        return l"
   ]
  },
  {
   "cell_type": "code",
   "execution_count": 10,
   "metadata": {
    "collapsed": true
   },
   "outputs": [],
   "source": [
    "class Tunnel(nn.Module):\n",
    "    def __init__(self):\n",
    "        super(Tunnel, self).__init__()\n",
    "        self.fc1 = nn.Linear(128, 128)\n",
    "        self.relu = nn.ReLU()\n",
    "        \n",
    "    def forward(self, x):\n",
    "        l = self.relu(self.fc1(x))\n",
    "        return l"
   ]
  },
  {
   "cell_type": "code",
   "execution_count": 11,
   "metadata": {
    "collapsed": true
   },
   "outputs": [],
   "source": [
    "class Output(nn.Module):\n",
    "    def __init__(self):\n",
    "        super(Output, self).__init__()\n",
    "        self.fc1 = nn.Linear(128, 2)\n",
    "        self.relu = nn.ReLU()\n",
    "        \n",
    "    def forward(self, x):\n",
    "        h1 = self.relu(self.fc1(x))\n",
    "        l = h1.view(-1,2)\n",
    "        return l"
   ]
  },
  {
   "cell_type": "code",
   "execution_count": 50,
   "metadata": {
    "collapsed": true
   },
   "outputs": [],
   "source": [
    "def prob(outputs):\n",
    "    outputs = [F.softmax(out, dim=-1) for out in outputs]\n",
    "    return torch.cat(outputs, dim=1).view(-1, N, k)\n",
    "\n",
    "def sample(l):\n",
    "    return gumbel_softmax(l, tau)\n",
    "\n",
    "def signal(outputs):\n",
    "    outputs = [sample(out).narrow(1,0,1) for out in outputs]\n",
    "    return torch.cat(outputs, dim=1)"
   ]
  },
  {
   "cell_type": "code",
   "execution_count": 44,
   "metadata": {
    "collapsed": true
   },
   "outputs": [],
   "source": [
    "class Decoder(nn.Module):  \n",
    "    def __init__(self):\n",
    "        super(Decoder, self).__init__()\n",
    "        self.fc1 = nn.Linear(N, 128)\n",
    "        self.fc2 = nn.Linear(128, 256)\n",
    "        self.fc3 = nn.Linear(256, 512)      \n",
    "        self.fc4 = nn.Linear(512, 784)\n",
    "        self.relu = nn.ReLU()\n",
    "        \n",
    "    def forward(self, x):\n",
    "        h1 = self.relu(self.fc1(x))\n",
    "        h2 = self.relu(self.fc2(h1))\n",
    "        h3 = self.relu(self.fc3(h2))\n",
    "        h4 = self.fc4(h3)\n",
    "        o = h4.view(-1,784)\n",
    "        return F.sigmoid(o)"
   ]
  },
  {
   "cell_type": "code",
   "execution_count": 45,
   "metadata": {
    "collapsed": true
   },
   "outputs": [],
   "source": [
    "# objective\n",
    "def loss_function(recon_x, x, q):\n",
    "    BCE = F.binary_cross_entropy(recon_x, x, size_average=False)\n",
    "    \n",
    "    KLD = torch.sum(q*(torch.log(q+1E-20)-np.log(1/k)))\n",
    "\n",
    "    return BCE + KLD"
   ]
  },
  {
   "cell_type": "code",
   "execution_count": 46,
   "metadata": {
    "collapsed": true
   },
   "outputs": [],
   "source": [
    "E = Encoder()\n",
    "D = Decoder()\n",
    "O0 = Output()\n",
    "Os = [Output() for _ in range(N-1)]\n",
    "Ts = [Tunnel() for _ in range(N-1)]\n",
    "\n",
    "if CUDA:\n",
    "    E.cuda()\n",
    "    D.cuda()\n",
    "    O0.cuda()\n",
    "    [o.cuda() for o in Os]\n",
    "    [t.cuda() for t in Ts]"
   ]
  },
  {
   "cell_type": "code",
   "execution_count": 47,
   "metadata": {
    "collapsed": true
   },
   "outputs": [],
   "source": [
    "params = [\n",
    "    {'params':E.parameters()},\n",
    "    {'params':D.parameters()},\n",
    "    {'params':O0.parameters()},\n",
    "] + [{'params':o.parameters()} for o in Os] \\\n",
    "  + [{'params':t.parameters()} for t in Ts]\n",
    "optimizer = optim.Adam(params, lr=1e-4)"
   ]
  },
  {
   "cell_type": "code",
   "execution_count": 51,
   "metadata": {},
   "outputs": [
    {
     "name": "stdout",
     "output_type": "stream",
     "text": [
      "Train Epoch: 1 [0/60000 (0%)]\tLoss: 543.910078\n",
      "Train Epoch: 1 [20000/60000 (33%)]\tLoss: 209.099414\n",
      "Train Epoch: 1 [40000/60000 (67%)]\tLoss: 209.693281\n",
      "====> Epoch: 1 Average loss: 237.1816\n",
      "Train Epoch: 2 [0/60000 (0%)]\tLoss: 200.283242\n",
      "Train Epoch: 2 [20000/60000 (33%)]\tLoss: 205.322070\n",
      "Train Epoch: 2 [40000/60000 (67%)]\tLoss: 198.114492\n",
      "====> Epoch: 2 Average loss: 200.2480\n",
      "Train Epoch: 3 [0/60000 (0%)]\tLoss: 198.987969\n",
      "Train Epoch: 3 [20000/60000 (33%)]\tLoss: 201.291289\n",
      "Train Epoch: 3 [40000/60000 (67%)]\tLoss: 198.424141\n",
      "====> Epoch: 3 Average loss: 199.0987\n",
      "Train Epoch: 4 [0/60000 (0%)]\tLoss: 203.181836\n",
      "Train Epoch: 4 [20000/60000 (33%)]\tLoss: 199.727715\n",
      "Train Epoch: 4 [40000/60000 (67%)]\tLoss: 201.465234\n",
      "====> Epoch: 4 Average loss: 198.9758\n",
      "Train Epoch: 5 [0/60000 (0%)]\tLoss: 199.251230\n",
      "Train Epoch: 5 [20000/60000 (33%)]\tLoss: 202.491113\n",
      "Train Epoch: 5 [40000/60000 (67%)]\tLoss: 198.986699\n",
      "====> Epoch: 5 Average loss: 198.9723\n",
      "Train Epoch: 6 [0/60000 (0%)]\tLoss: 197.083828\n",
      "Train Epoch: 6 [20000/60000 (33%)]\tLoss: 201.429258\n",
      "Train Epoch: 6 [40000/60000 (67%)]\tLoss: 203.290449\n",
      "====> Epoch: 6 Average loss: 198.9393\n",
      "Train Epoch: 7 [0/60000 (0%)]\tLoss: 196.980723\n",
      "Train Epoch: 7 [20000/60000 (33%)]\tLoss: 204.939043\n",
      "Train Epoch: 7 [40000/60000 (67%)]\tLoss: 197.235234\n",
      "====> Epoch: 7 Average loss: 198.9455\n",
      "Train Epoch: 8 [0/60000 (0%)]\tLoss: 195.533105\n",
      "Train Epoch: 8 [20000/60000 (33%)]\tLoss: 200.243379\n",
      "Train Epoch: 8 [40000/60000 (67%)]\tLoss: 205.110234\n",
      "====> Epoch: 8 Average loss: 198.7961\n",
      "Train Epoch: 9 [0/60000 (0%)]\tLoss: 200.046523\n",
      "Train Epoch: 9 [20000/60000 (33%)]\tLoss: 192.890449\n",
      "Train Epoch: 9 [40000/60000 (67%)]\tLoss: 183.560410\n",
      "====> Epoch: 9 Average loss: 193.3265\n",
      "Train Epoch: 10 [0/60000 (0%)]\tLoss: 194.589766\n",
      "Train Epoch: 10 [20000/60000 (33%)]\tLoss: 188.180781\n",
      "Train Epoch: 10 [40000/60000 (67%)]\tLoss: 185.626309\n",
      "====> Epoch: 10 Average loss: 184.5340\n",
      "Train Epoch: 11 [0/60000 (0%)]\tLoss: 183.559512\n",
      "Train Epoch: 11 [20000/60000 (33%)]\tLoss: 180.138359\n",
      "Train Epoch: 11 [40000/60000 (67%)]\tLoss: 172.471055\n",
      "====> Epoch: 11 Average loss: 182.1572\n",
      "Train Epoch: 12 [0/60000 (0%)]\tLoss: 177.735254\n",
      "Train Epoch: 12 [20000/60000 (33%)]\tLoss: 192.732773\n",
      "Train Epoch: 12 [40000/60000 (67%)]\tLoss: 173.467695\n",
      "====> Epoch: 12 Average loss: 181.3169\n",
      "Train Epoch: 13 [0/60000 (0%)]\tLoss: 178.985781\n",
      "Train Epoch: 13 [20000/60000 (33%)]\tLoss: 178.303613\n",
      "Train Epoch: 13 [40000/60000 (67%)]\tLoss: 181.245234\n",
      "====> Epoch: 13 Average loss: 180.7048\n",
      "Train Epoch: 14 [0/60000 (0%)]\tLoss: 179.868301\n",
      "Train Epoch: 14 [20000/60000 (33%)]\tLoss: 182.319707\n",
      "Train Epoch: 14 [40000/60000 (67%)]\tLoss: 182.246563\n",
      "====> Epoch: 14 Average loss: 179.4266\n",
      "Train Epoch: 15 [0/60000 (0%)]\tLoss: 182.626641\n",
      "Train Epoch: 15 [20000/60000 (33%)]\tLoss: 173.349551\n",
      "Train Epoch: 15 [40000/60000 (67%)]\tLoss: 181.275957\n",
      "====> Epoch: 15 Average loss: 177.4046\n",
      "Train Epoch: 16 [0/60000 (0%)]\tLoss: 174.383281\n",
      "Train Epoch: 16 [20000/60000 (33%)]\tLoss: 175.795117\n",
      "Train Epoch: 16 [40000/60000 (67%)]\tLoss: 177.164453\n",
      "====> Epoch: 16 Average loss: 176.5241\n",
      "Train Epoch: 17 [0/60000 (0%)]\tLoss: 173.507793\n",
      "Train Epoch: 17 [20000/60000 (33%)]\tLoss: 183.253613\n",
      "Train Epoch: 17 [40000/60000 (67%)]\tLoss: 184.809199\n",
      "====> Epoch: 17 Average loss: 176.1485\n",
      "Train Epoch: 18 [0/60000 (0%)]\tLoss: 180.852305\n",
      "Train Epoch: 18 [20000/60000 (33%)]\tLoss: 172.360859\n",
      "Train Epoch: 18 [40000/60000 (67%)]\tLoss: 169.650508\n",
      "====> Epoch: 18 Average loss: 176.1649\n",
      "Train Epoch: 19 [0/60000 (0%)]\tLoss: 174.084688\n",
      "Train Epoch: 19 [20000/60000 (33%)]\tLoss: 183.238145\n",
      "Train Epoch: 19 [40000/60000 (67%)]\tLoss: 174.174492\n",
      "====> Epoch: 19 Average loss: 176.1966\n",
      "Train Epoch: 20 [0/60000 (0%)]\tLoss: 183.904941\n",
      "Train Epoch: 20 [20000/60000 (33%)]\tLoss: 179.293672\n",
      "Train Epoch: 20 [40000/60000 (67%)]\tLoss: 171.742969\n",
      "====> Epoch: 20 Average loss: 176.1275\n",
      "Train Epoch: 21 [0/60000 (0%)]\tLoss: 174.293164\n",
      "Train Epoch: 21 [20000/60000 (33%)]\tLoss: 174.476992\n",
      "Train Epoch: 21 [40000/60000 (67%)]\tLoss: 174.342969\n",
      "====> Epoch: 21 Average loss: 176.1172\n",
      "Train Epoch: 22 [0/60000 (0%)]\tLoss: 171.556113\n",
      "Train Epoch: 22 [20000/60000 (33%)]\tLoss: 180.212383\n",
      "Train Epoch: 22 [40000/60000 (67%)]\tLoss: 179.221094\n",
      "====> Epoch: 22 Average loss: 176.1047\n",
      "Train Epoch: 23 [0/60000 (0%)]\tLoss: 164.759707\n",
      "Train Epoch: 23 [20000/60000 (33%)]\tLoss: 175.247324\n",
      "Train Epoch: 23 [40000/60000 (67%)]\tLoss: 169.354590\n",
      "====> Epoch: 23 Average loss: 176.1021\n",
      "Train Epoch: 24 [0/60000 (0%)]\tLoss: 174.374277\n",
      "Train Epoch: 24 [20000/60000 (33%)]\tLoss: 170.371230\n",
      "Train Epoch: 24 [40000/60000 (67%)]\tLoss: 184.103457\n",
      "====> Epoch: 24 Average loss: 176.0865\n",
      "Train Epoch: 25 [0/60000 (0%)]\tLoss: 172.072715\n",
      "Train Epoch: 25 [20000/60000 (33%)]\tLoss: 172.478281\n",
      "Train Epoch: 25 [40000/60000 (67%)]\tLoss: 174.187637\n",
      "====> Epoch: 25 Average loss: 176.0322\n",
      "Train Epoch: 26 [0/60000 (0%)]\tLoss: 177.871934\n",
      "Train Epoch: 26 [20000/60000 (33%)]\tLoss: 185.022617\n",
      "Train Epoch: 26 [40000/60000 (67%)]\tLoss: 173.926035\n",
      "====> Epoch: 26 Average loss: 176.0464\n",
      "Train Epoch: 27 [0/60000 (0%)]\tLoss: 182.068047\n",
      "Train Epoch: 27 [20000/60000 (33%)]\tLoss: 168.526113\n",
      "Train Epoch: 27 [40000/60000 (67%)]\tLoss: 176.660488\n",
      "====> Epoch: 27 Average loss: 176.1203\n",
      "Train Epoch: 28 [0/60000 (0%)]\tLoss: 178.139844\n",
      "Train Epoch: 28 [20000/60000 (33%)]\tLoss: 176.318418\n",
      "Train Epoch: 28 [40000/60000 (67%)]\tLoss: 170.105840\n",
      "====> Epoch: 28 Average loss: 176.0745\n",
      "Train Epoch: 29 [0/60000 (0%)]\tLoss: 176.688574\n",
      "Train Epoch: 29 [20000/60000 (33%)]\tLoss: 180.732715\n",
      "Train Epoch: 29 [40000/60000 (67%)]\tLoss: 174.783437\n",
      "====> Epoch: 29 Average loss: 176.0328\n",
      "Train Epoch: 30 [0/60000 (0%)]\tLoss: 178.397207\n",
      "Train Epoch: 30 [20000/60000 (33%)]\tLoss: 180.034199\n",
      "Train Epoch: 30 [40000/60000 (67%)]\tLoss: 176.276777\n",
      "====> Epoch: 30 Average loss: 176.0480\n"
     ]
    }
   ],
   "source": [
    "# training\n",
    "epochs = 30\n",
    "\n",
    "losses = []\n",
    "for epoch in range(epochs):\n",
    "    train_loss = 0\n",
    "    for batch_idx, (data, _) in enumerate(train_loader):\n",
    "        data = Variable(data)\n",
    "        if CUDA:\n",
    "            data = data.cuda()\n",
    "        x = data.view(-1,784)\n",
    "        optimizer.zero_grad()\n",
    "        sofar = E(x)\n",
    "        outputs = [O0(sofar)]\n",
    "        for n in range(len(Ts)):\n",
    "            sofar = Ts[n](sofar)\n",
    "            outputs.append(Os[n](sofar))\n",
    "        bits = signal(outputs)\n",
    "        q = prob(outputs)\n",
    "        recon_x = D(bits)\n",
    "        loss = loss_function(recon_x, x, q)\n",
    "        loss.backward()\n",
    "        train_loss += loss.data[0]\n",
    "        optimizer.step()\n",
    "        if batch_idx % 200 == 0:\n",
    "            print('Train Epoch: {} [{}/{} ({:.0f}%)]\\tLoss: {:.6f}'.format(\n",
    "                epoch+1, batch_idx * len(data), len(train_loader.dataset),\n",
    "                100. * batch_idx / len(train_loader),\n",
    "                loss.data[0] / len(data)))\n",
    "\n",
    "    _loss = train_loss / len(train_loader.dataset)\n",
    "    print('====> Epoch: {} Average loss: {:.4f}'.format(\n",
    "          epoch+1, _loss))\n",
    "    losses.append(_loss)"
   ]
  },
  {
   "cell_type": "code",
   "execution_count": 62,
   "metadata": {},
   "outputs": [
    {
     "data": {
      "text/plain": [
       "[<matplotlib.lines.Line2D at 0x7f672c636e48>]"
      ]
     },
     "execution_count": 62,
     "metadata": {},
     "output_type": "execute_result"
    },
    {
     "data": {
      "image/png": "[encoded data removed]",
      "text/plain": [
       "<matplotlib.figure.Figure at 0x7f672c48b9e8>"
      ]
     },
     "metadata": {},
     "output_type": "display_data"
    }
   ],
   "source": [
    "plt.plot(losses[-10:])"
   ]
  },
  {
   "cell_type": "code",
   "execution_count": 63,
   "metadata": {},
   "outputs": [
    {
     "data": {
      "text/plain": [
       "Variable containing:\n",
       "( 0 ,.,.) = \n",
       "  9.9992e-01  8.3515e-05\n",
       "  9.9932e-01  6.7685e-04\n",
       "  5.9069e-07  1.0000e+00\n",
       "  2.1739e-08  1.0000e+00\n",
       "  5.0000e-01  5.0000e-01\n",
       "\n",
       "( 1 ,.,.) = \n",
       "  5.0000e-01  5.0000e-01\n",
       "  1.1591e-04  9.9988e-01\n",
       "  9.1471e-01  8.5293e-02\n",
       "  8.5572e-03  9.9144e-01\n",
       "  5.0000e-01  5.0000e-01\n",
       "\n",
       "( 2 ,.,.) = \n",
       "  9.9994e-01  5.5896e-05\n",
       "  3.0838e-01  6.9162e-01\n",
       "  4.9196e-01  5.0804e-01\n",
       "  1.3672e-04  9.9986e-01\n",
       "  5.0000e-01  5.0000e-01\n",
       "... \n",
       "\n",
       "(97 ,.,.) = \n",
       "  9.9981e-01  1.8647e-04\n",
       "  1.5836e-01  8.4164e-01\n",
       "  9.9984e-01  1.6275e-04\n",
       "  8.9437e-01  1.0563e-01\n",
       "  5.0000e-01  5.0000e-01\n",
       "\n",
       "(98 ,.,.) = \n",
       "  9.8201e-01  1.7991e-02\n",
       "  9.9998e-01  1.7041e-05\n",
       "  9.9991e-01  8.6852e-05\n",
       "  1.0000e+00  7.1925e-07\n",
       "  5.0000e-01  5.0000e-01\n",
       "\n",
       "(99 ,.,.) = \n",
       "  5.0000e-01  5.0000e-01\n",
       "  2.7796e-03  9.9722e-01\n",
       "  1.2005e-05  9.9999e-01\n",
       "  2.9357e-01  7.0643e-01\n",
       "  5.0000e-01  5.0000e-01\n",
       "[torch.cuda.FloatTensor of size 100x5x2 (GPU 0)]"
      ]
     },
     "execution_count": 63,
     "metadata": {},
     "output_type": "execute_result"
    }
   ],
   "source": [
    "q"
   ]
  },
  {
   "cell_type": "code",
   "execution_count": 64,
   "metadata": {},
   "outputs": [
    {
     "data": {
      "text/plain": [
       "Variable containing:\n",
       "    1     1     0     0     0\n",
       "    1     0     1     0     0\n",
       "    1     1     1     0     1\n",
       "    1     1     1     1     1\n",
       "    1     1     0     0     1\n",
       "    1     1     0     1     0\n",
       "    0     1     0     0     1\n",
       "    1     0     1     1     0\n",
       "    1     1     1     1     0\n",
       "    1     0     1     0     0\n",
       "    1     0     1     0     0\n",
       "    1     0     0     0     0\n",
       "    1     1     0     1     0\n",
       "    1     0     1     0     1\n",
       "    1     0     0     1     1\n",
       "    0     1     1     1     1\n",
       "    1     1     1     0     1\n",
       "    1     0     0     1     0\n",
       "    0     0     1     1     1\n",
       "    1     1     1     0     1\n",
       "    1     0     0     1     0\n",
       "    0     0     1     1     1\n",
       "    1     0     0     1     0\n",
       "    1     1     1     1     0\n",
       "    0     0     0     1     0\n",
       "    0     1     1     0     0\n",
       "    0     0     1     0     1\n",
       "    0     0     0     1     0\n",
       "    1     1     1     1     0\n",
       "    1     1     0     1     1\n",
       "    1     1     1     0     0\n",
       "    1     0     1     0     0\n",
       "    1     0     0     0     1\n",
       "    1     0     0     0     1\n",
       "    1     0     1     1     0\n",
       "    0     1     0     1     1\n",
       "    0     1     1     1     1\n",
       "    1     1     0     0     1\n",
       "    1     0     0     0     0\n",
       "    1     0     1     0     0\n",
       "    1     1     0     0     0\n",
       "    1     0     1     0     0\n",
       "    1     0     0     1     1\n",
       "    0     1     1     0     0\n",
       "    1     0     1     1     0\n",
       "    1     0     0     1     1\n",
       "    1     0     1     0     0\n",
       "    1     0     1     1     1\n",
       "    1     0     1     0     1\n",
       "    1     1     0     0     1\n",
       "    0     1     1     1     0\n",
       "    1     0     1     1     1\n",
       "    0     1     1     0     0\n",
       "    1     1     0     0     1\n",
       "    0     1     0     1     0\n",
       "    0     0     1     0     0\n",
       "    1     1     1     0     1\n",
       "    1     0     0     1     1\n",
       "    1     0     1     0     0\n",
       "    1     1     1     0     0\n",
       "    0     0     0     1     1\n",
       "    0     0     0     0     0\n",
       "    1     0     1     1     0\n",
       "    1     1     1     1     1\n",
       "    0     0     0     1     1\n",
       "    1     1     1     1     0\n",
       "    0     0     0     0     1\n",
       "    1     1     1     1     0\n",
       "    1     1     0     0     0\n",
       "    1     0     0     1     1\n",
       "    1     0     1     1     1\n",
       "    1     1     1     1     1\n",
       "    0     1     0     0     0\n",
       "    0     1     1     0     0\n",
       "    0     0     1     1     0\n",
       "    1     1     1     1     1\n",
       "    1     1     1     1     1\n",
       "    1     1     0     0     0\n",
       "    1     1     1     1     0\n",
       "    1     1     1     0     0\n",
       "    1     1     1     1     0\n",
       "    0     1     1     1     0\n",
       "    1     1     1     0     1\n",
       "    1     1     1     1     1\n",
       "    0     0     0     1     1\n",
       "    1     0     0     1     0\n",
       "    1     1     0     0     1\n",
       "    1     0     0     0     0\n",
       "    0     0     0     1     1\n",
       "    1     0     0     1     1\n",
       "    1     1     1     1     0\n",
       "    1     0     1     0     0\n",
       "    1     0     0     0     0\n",
       "    0     1     1     0     0\n",
       "    1     0     1     0     1\n",
       "    1     1     0     1     0\n",
       "    0     0     0     1     1\n",
       "    1     0     1     1     0\n",
       "    1     1     1     1     1\n",
       "    1     0     0     0     1\n",
       "[torch.cuda.FloatTensor of size 100x5 (GPU 0)]"
      ]
     },
     "execution_count": 64,
     "metadata": {},
     "output_type": "execute_result"
    }
   ],
   "source": [
    "bits"
   ]
  },
  {
   "cell_type": "code",
   "execution_count": 65,
   "metadata": {
    "collapsed": true
   },
   "outputs": [],
   "source": [
    "test_set = dset.MNIST('data', train=False, download=True, transform=data_transforms)"
   ]
  },
  {
   "cell_type": "code",
   "execution_count": 66,
   "metadata": {
    "collapsed": true
   },
   "outputs": [],
   "source": [
    "# a = np.array([[0., 0., 0., 0.]])\n",
    "# w = D.forward(Variable(torch.from_numpy(a).type(torch.FloatTensor)))\n",
    "# plt.imshow(w.view(28,28).data.numpy())"
   ]
  },
  {
   "cell_type": "code",
   "execution_count": 67,
   "metadata": {
    "scrolled": true
   },
   "outputs": [
    {
     "data": {
      "image/png": "[encoded data removed]",
      "text/plain": [
       "<matplotlib.figure.Figure at 0x7f672c5fc2e8>"
      ]
     },
     "metadata": {},
     "output_type": "display_data"
    }
   ],
   "source": [
    "from itertools import product\n",
    "f, axes = plt.subplots(1, 2**N, sharey=True, figsize=(25,1))\n",
    "_k = 0\n",
    "for path in product(range(2), repeat=N):\n",
    "    data = Variable(torch.Tensor(path).type(torch.FloatTensor))\n",
    "    if CUDA:\n",
    "        data = data.cuda()\n",
    "    w = D.forward(data)\n",
    "    ax = axes[_k]\n",
    "    ax.set_title(path)\n",
    "    ax.imshow(w.view(28,28).cpu().data.numpy())\n",
    "    _k += 1"
   ]
  },
  {
   "cell_type": "code",
   "execution_count": 86,
   "metadata": {},
   "outputs": [
    {
     "name": "stdout",
     "output_type": "stream",
     "text": [
      "Saved to n_5-seed_1.png\n"
     ]
    },
    {
     "data": {
      "image/png": "[encoded data removed]",
      "text/plain": [
       "<matplotlib.figure.Figure at 0x7f672f15a748>"
      ]
     },
     "metadata": {},
     "output_type": "display_data"
    }
   ],
   "source": [
    "from itertools import product\n",
    "PER_ROW = 16\n",
    "N_ROW = int(2**N/PER_ROW)\n",
    "f, axes = plt.subplots(N_ROW, PER_ROW, sharey=True, sharex=True, figsize=(10,0.65*N_ROW))\n",
    "_k = 0\n",
    "for path in product(range(2), repeat=N):\n",
    "    data = Variable(torch.Tensor(path).type(torch.FloatTensor))\n",
    "    if CUDA:\n",
    "        data = data.cuda()\n",
    "    w = D.forward(data)\n",
    "    ax = axes[int(_k/PER_ROW), _k%PER_ROW]\n",
    "    #ax.set_title(path)\n",
    "    ax.imshow(w.view(28,28).cpu().data.numpy())\n",
    "    ax.axis('off')\n",
    "    \n",
    "    _k += 1\n",
    "    if _k % 100 == 0:\n",
    "        print(\"{}/{} ({:.0f}%)\".format(_k, 2**N, 100*_k/(2**N)))\n",
    "_fname = 'n_{}-seed_{}.png'.format(N, SEED)\n",
    "plt.savefig(_fname)\n",
    "print(\"Saved to {}\".format(_fname))"
   ]
  },
  {
   "cell_type": "code",
   "execution_count": null,
   "metadata": {
    "collapsed": true
   },
   "outputs": [],
   "source": []
  }
 ],
 "metadata": {
  "kernelspec": {
   "display_name": "Python 3",
   "language": "python",
   "name": "python3"
  },
  "language_info": {
   "codemirror_mode": {
    "name": "ipython",
    "version": 3
   },
   "file_extension": ".py",
   "mimetype": "text/x-python",
   "name": "python",
   "nbconvert_exporter": "python",
   "pygments_lexer": "ipython3",
   "version": "3.5.2"
  }
 },
 "nbformat": 4,
 "nbformat_minor": 2
}
