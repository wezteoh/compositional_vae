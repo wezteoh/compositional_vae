{
 "cells": [
  {
   "cell_type": "code",
   "execution_count": 1,
   "metadata": {
    "collapsed": true
   },
   "outputs": [],
   "source": [
    "import numpy as np\n",
    "import matplotlib.pyplot as plt\n",
    "%matplotlib inline"
   ]
  },
  {
   "cell_type": "code",
   "execution_count": 2,
   "metadata": {
    "collapsed": true
   },
   "outputs": [],
   "source": [
    "%load_ext autoreload\n",
    "%autoreload 2"
   ]
  },
  {
   "cell_type": "code",
   "execution_count": 3,
   "metadata": {
    "collapsed": true
   },
   "outputs": [],
   "source": [
    "from torch import nn, optim\n",
    "from torch.autograd import Variable\n",
    "from torch.nn import functional as F"
   ]
  },
  {
   "cell_type": "code",
   "execution_count": 4,
   "metadata": {
    "collapsed": true
   },
   "outputs": [],
   "source": [
    "import torchvision.datasets as dset\n",
    "import torchvision.transforms as transforms\n",
    "import torch.utils.data"
   ]
  },
  {
   "cell_type": "code",
   "execution_count": 5,
   "metadata": {
    "collapsed": true
   },
   "outputs": [],
   "source": [
    "#transform\n",
    "data_transforms = transforms.Compose([\n",
    "        transforms.ToTensor(),\n",
    "        lambda x: x>0.5,\n",
    "        lambda x: x.float(),\n",
    "    ])"
   ]
  },
  {
   "cell_type": "code",
   "execution_count": 6,
   "metadata": {},
   "outputs": [],
   "source": [
    "# dataset loading\n",
    "bsize = 100\n",
    "train_loader = torch.utils.data.DataLoader(\n",
    "    dset.MNIST('data', train=True, download=True, transform=data_transforms), batch_size=bsize, shuffle=True)\n",
    "test_loader = torch.utils.data.DataLoader(\n",
    "    dset.MNIST('data', train=False, download=True, transform=data_transforms), batch_size=bsize, shuffle=True)"
   ]
  },
  {
   "cell_type": "code",
   "execution_count": 7,
   "metadata": {
    "collapsed": true
   },
   "outputs": [],
   "source": [
    "# hyperparameters\n",
    "N = 5\n",
    "k = 2\n",
    "tau = 1."
   ]
  },
  {
   "cell_type": "code",
   "execution_count": 8,
   "metadata": {
    "collapsed": true
   },
   "outputs": [],
   "source": [
    "# gumbel-softmax\n",
    "def sample_gumbel(shape, eps=1e-20):\n",
    "    U = torch.rand(shape)\n",
    "    return -Variable(torch.log(-torch.log(U + eps) + eps))\n",
    "\n",
    "def gumbel_softmax_sample(logits, temperature):\n",
    "    y = logits + sample_gumbel(logits.size())\n",
    "    return F.softmax(y / temperature, dim=-1)\n",
    "\n",
    "def gumbel_softmax(logits, temperature):\n",
    "    \"\"\"\n",
    "    input: [*, n_class]\n",
    "    return: [*, n_class] an one-hot vector\n",
    "    \"\"\"\n",
    "    y = gumbel_softmax_sample(logits, temperature)\n",
    "    shape = y.size()\n",
    "    _, ind = y.max(dim=-1)\n",
    "    y_hard = torch.zeros_like(y).view(-1, shape[-1])\n",
    "    y_hard.scatter_(1, ind.view(-1, 1), 1)\n",
    "    y_hard = y_hard.view(*shape)\n",
    "    return (y_hard - y).detach() + y"
   ]
  },
  {
   "cell_type": "code",
   "execution_count": 9,
   "metadata": {
    "collapsed": true
   },
   "outputs": [],
   "source": [
    "class Encoder(nn.Module):\n",
    "    def __init__(self):\n",
    "        super(Encoder, self).__init__()\n",
    "        self.fc1 = nn.Linear(784, 512)\n",
    "        self.fc2 = nn.Linear(512, 128)\n",
    "        self.relu = nn.ReLU()\n",
    "        \n",
    "    def forward(self, x):\n",
    "        h1 = self.relu(self.fc1(x))\n",
    "        l = self.relu(self.fc2(h1))\n",
    "        return l"
   ]
  },
  {
   "cell_type": "code",
   "execution_count": 10,
   "metadata": {
    "collapsed": true
   },
   "outputs": [],
   "source": [
    "class Tunnel(nn.Module):\n",
    "    def __init__(self):\n",
    "        super(Tunnel, self).__init__()\n",
    "        self.fc1 = nn.Linear(128, 128)\n",
    "        self.relu = nn.ReLU()\n",
    "        \n",
    "    def forward(self, x):\n",
    "        l = self.relu(self.fc1(x))\n",
    "        return l"
   ]
  },
  {
   "cell_type": "code",
   "execution_count": 11,
   "metadata": {
    "collapsed": true
   },
   "outputs": [],
   "source": [
    "class Output(nn.Module):\n",
    "    def __init__(self):\n",
    "        super(Output, self).__init__()\n",
    "        self.fc1 = nn.Linear(128, 2)\n",
    "        self.relu = nn.ReLU()\n",
    "        \n",
    "    def forward(self, x):\n",
    "        h1 = self.relu(self.fc1(x))\n",
    "        l = h1.view(-1,2)\n",
    "        return l"
   ]
  },
  {
   "cell_type": "code",
   "execution_count": 12,
   "metadata": {
    "collapsed": true
   },
   "outputs": [],
   "source": [
    "def prob(outputs):\n",
    "    outputs = [F.softmax(out, dim=-1) for out in outputs]\n",
    "    return torch.cat(outputs, dim=1).view(-1, N, k)\n",
    "\n",
    "def sample(l):\n",
    "    return gumbel_softmax(l, tau)\n",
    "\n",
    "def signal(outputs):\n",
    "    outputs = [sample(out).narrow(1,0,1) for out in outputs]\n",
    "    return torch.cat(outputs, dim=1)"
   ]
  },
  {
   "cell_type": "code",
   "execution_count": 13,
   "metadata": {
    "collapsed": true
   },
   "outputs": [],
   "source": [
    "class Decoder(nn.Module):  \n",
    "    def __init__(self):\n",
    "        super(Decoder, self).__init__()\n",
    "        self.fc1 = nn.Linear(N, 128)\n",
    "        self.fc2 = nn.Linear(128, 256)\n",
    "        self.fc3 = nn.Linear(256, 512)      \n",
    "        self.fc4 = nn.Linear(512, 784)\n",
    "        self.relu = nn.ReLU()\n",
    "        \n",
    "    def forward(self, x):\n",
    "        h1 = self.relu(self.fc1(x))\n",
    "        h2 = self.relu(self.fc2(h1))\n",
    "        h3 = self.relu(self.fc3(h2))\n",
    "        h4 = self.fc4(h3)\n",
    "        o = h4.view(-1,784)\n",
    "        return F.sigmoid(o)"
   ]
  },
  {
   "cell_type": "code",
   "execution_count": 14,
   "metadata": {},
   "outputs": [],
   "source": [
    "E = Encoder()\n",
    "D = Decoder()\n",
    "O0 = Output()\n",
    "Os = [Output() for _ in range(N-1)]\n",
    "Ts = [Tunnel() for _ in range(N-1)]"
   ]
  },
  {
   "cell_type": "code",
   "execution_count": 15,
   "metadata": {
    "collapsed": true
   },
   "outputs": [],
   "source": [
    "# objective\n",
    "def loss_function(recon_x, x, q):\n",
    "    BCE = F.binary_cross_entropy(recon_x, x, size_average=False)\n",
    "    \n",
    "    KLD = torch.sum(q*(torch.log(q+1E-20)-np.log(1/k)))\n",
    "\n",
    "    return BCE + KLD"
   ]
  },
  {
   "cell_type": "code",
   "execution_count": 16,
   "metadata": {},
   "outputs": [
    {
     "name": "stdout",
     "output_type": "stream",
     "text": [
      "Train Epoch: 1 [0/60000 (0%)]\tLoss: 542.819766\n",
      "Train Epoch: 1 [20000/60000 (33%)]\tLoss: 206.488242\n",
      "Train Epoch: 1 [40000/60000 (67%)]\tLoss: 199.928691\n",
      "====> Epoch: 1 Average loss: 237.9847\n",
      "Train Epoch: 2 [0/60000 (0%)]\tLoss: 205.689180\n",
      "Train Epoch: 2 [20000/60000 (33%)]\tLoss: 190.525449\n",
      "Train Epoch: 2 [40000/60000 (67%)]\tLoss: 192.103770\n",
      "====> Epoch: 2 Average loss: 436.5382\n",
      "Train Epoch: 3 [0/60000 (0%)]\tLoss: 191.615879\n",
      "Train Epoch: 3 [20000/60000 (33%)]\tLoss: 194.467500\n",
      "Train Epoch: 3 [40000/60000 (67%)]\tLoss: 188.201152\n",
      "====> Epoch: 3 Average loss: 631.5773\n",
      "Train Epoch: 4 [0/60000 (0%)]\tLoss: 191.034824\n",
      "Train Epoch: 4 [20000/60000 (33%)]\tLoss: 193.513789\n",
      "Train Epoch: 4 [40000/60000 (67%)]\tLoss: 196.622773\n",
      "====> Epoch: 4 Average loss: 824.9483\n",
      "Train Epoch: 5 [0/60000 (0%)]\tLoss: 195.796582\n",
      "Train Epoch: 5 [20000/60000 (33%)]\tLoss: 192.901855\n",
      "Train Epoch: 5 [40000/60000 (67%)]\tLoss: 188.724023\n",
      "====> Epoch: 5 Average loss: 1013.8176\n",
      "Train Epoch: 6 [0/60000 (0%)]\tLoss: 189.984883\n",
      "Train Epoch: 6 [20000/60000 (33%)]\tLoss: 185.540410\n",
      "Train Epoch: 6 [40000/60000 (67%)]\tLoss: 181.145410\n",
      "====> Epoch: 6 Average loss: 1200.7201\n",
      "Train Epoch: 7 [0/60000 (0%)]\tLoss: 186.388984\n",
      "Train Epoch: 7 [20000/60000 (33%)]\tLoss: 191.485703\n",
      "Train Epoch: 7 [40000/60000 (67%)]\tLoss: 179.413848\n",
      "====> Epoch: 7 Average loss: 1387.1977\n",
      "Train Epoch: 8 [0/60000 (0%)]\tLoss: 178.997734\n",
      "Train Epoch: 8 [20000/60000 (33%)]\tLoss: 186.941484\n",
      "Train Epoch: 8 [40000/60000 (67%)]\tLoss: 189.081074\n",
      "====> Epoch: 8 Average loss: 1573.5487\n",
      "Train Epoch: 9 [0/60000 (0%)]\tLoss: 186.822910\n",
      "Train Epoch: 9 [20000/60000 (33%)]\tLoss: 188.842871\n",
      "Train Epoch: 9 [40000/60000 (67%)]\tLoss: 177.970605\n",
      "====> Epoch: 9 Average loss: 1759.8951\n",
      "Train Epoch: 10 [0/60000 (0%)]\tLoss: 178.605449\n",
      "Train Epoch: 10 [20000/60000 (33%)]\tLoss: 179.556836\n",
      "Train Epoch: 10 [40000/60000 (67%)]\tLoss: 196.081289\n",
      "====> Epoch: 10 Average loss: 1946.2606\n",
      "Train Epoch: 11 [0/60000 (0%)]\tLoss: 170.101426\n",
      "Train Epoch: 11 [20000/60000 (33%)]\tLoss: 188.317344\n",
      "Train Epoch: 11 [40000/60000 (67%)]\tLoss: 190.343672\n",
      "====> Epoch: 11 Average loss: 2132.5193\n",
      "Train Epoch: 12 [0/60000 (0%)]\tLoss: 186.665410\n",
      "Train Epoch: 12 [20000/60000 (33%)]\tLoss: 183.419902\n",
      "Train Epoch: 12 [40000/60000 (67%)]\tLoss: 175.410215\n",
      "====> Epoch: 12 Average loss: 2318.4923\n",
      "Train Epoch: 13 [0/60000 (0%)]\tLoss: 188.332148\n",
      "Train Epoch: 13 [20000/60000 (33%)]\tLoss: 177.176855\n",
      "Train Epoch: 13 [40000/60000 (67%)]\tLoss: 184.628984\n",
      "====> Epoch: 13 Average loss: 2503.9948\n",
      "Train Epoch: 14 [0/60000 (0%)]\tLoss: 183.917637\n",
      "Train Epoch: 14 [20000/60000 (33%)]\tLoss: 185.443340\n",
      "Train Epoch: 14 [40000/60000 (67%)]\tLoss: 183.783652\n",
      "====> Epoch: 14 Average loss: 2689.5038\n",
      "Train Epoch: 15 [0/60000 (0%)]\tLoss: 184.712285\n",
      "Train Epoch: 15 [20000/60000 (33%)]\tLoss: 177.762988\n",
      "Train Epoch: 15 [40000/60000 (67%)]\tLoss: 184.681133\n",
      "====> Epoch: 15 Average loss: 2875.0691\n"
     ]
    }
   ],
   "source": [
    "# training\n",
    "epochs = 15\n",
    "\n",
    "params = [\n",
    "    {'params':E.parameters()},\n",
    "    {'params':D.parameters()},\n",
    "    {'params':O0.parameters()},\n",
    "] + [{'params':o.parameters()} for o in Os] \\\n",
    "  + [{'params':t.parameters()} for t in Ts]\n",
    "optimizer = optim.Adam(params, lr=1e-4)\n",
    "\n",
    "train_loss = 0\n",
    "for epoch in range(epochs):\n",
    "    for batch_idx, (data, _) in enumerate(train_loader):\n",
    "        data = Variable(data)\n",
    "        x = data.view(-1,784)\n",
    "        optimizer.zero_grad()\n",
    "        sofar = E(x)\n",
    "        outputs = [O0(sofar)]\n",
    "        for n in range(len(Ts)):\n",
    "            sofar = Ts[n](sofar)\n",
    "            outputs.append(Os[n](sofar))\n",
    "        bits = signal(outputs)\n",
    "        q = prob(outputs)\n",
    "        recon_x = D(bits)\n",
    "        loss = loss_function(recon_x, x, q)\n",
    "        loss.backward()\n",
    "        train_loss += loss.data[0]\n",
    "        optimizer.step()\n",
    "        if batch_idx % 200 == 0:\n",
    "            print('Train Epoch: {} [{}/{} ({:.0f}%)]\\tLoss: {:.6f}'.format(\n",
    "                epoch+1, batch_idx * len(data), len(train_loader.dataset),\n",
    "                100. * batch_idx / len(train_loader),\n",
    "                loss.data[0] / len(data)))\n",
    "\n",
    "    print('====> Epoch: {} Average loss: {:.4f}'.format(\n",
    "          epoch+1, train_loss / len(train_loader.dataset)))"
   ]
  },
  {
   "cell_type": "code",
   "execution_count": 17,
   "metadata": {},
   "outputs": [
    {
     "data": {
      "text/plain": [
       "Variable containing:\n",
       "( 0 ,.,.) = \n",
       "  6.3967e-01  3.6033e-01\n",
       "  5.0000e-01  5.0000e-01\n",
       "  5.5461e-01  4.4539e-01\n",
       "  5.0000e-01  5.0000e-01\n",
       "  5.0000e-01  5.0000e-01\n",
       "\n",
       "( 1 ,.,.) = \n",
       "  9.8419e-01  1.5815e-02\n",
       "  5.0000e-01  5.0000e-01\n",
       "  4.1110e-02  9.5889e-01\n",
       "  5.0000e-01  5.0000e-01\n",
       "  5.0000e-01  5.0000e-01\n",
       "\n",
       "( 2 ,.,.) = \n",
       "  7.6576e-01  2.3424e-01\n",
       "  9.9096e-01  9.0422e-03\n",
       "  1.3237e-06  1.0000e+00\n",
       "  5.0000e-01  5.0000e-01\n",
       "  5.0000e-01  5.0000e-01\n",
       "... \n",
       "\n",
       "(97 ,.,.) = \n",
       "  6.3560e-01  3.6440e-01\n",
       "  5.0000e-01  5.0000e-01\n",
       "  9.9993e-01  7.0427e-05\n",
       "  5.0000e-01  5.0000e-01\n",
       "  5.0000e-01  5.0000e-01\n",
       "\n",
       "(98 ,.,.) = \n",
       "  5.1781e-04  9.9948e-01\n",
       "  5.0000e-01  5.0000e-01\n",
       "  9.9825e-01  1.7452e-03\n",
       "  5.0000e-01  5.0000e-01\n",
       "  5.0000e-01  5.0000e-01\n",
       "\n",
       "(99 ,.,.) = \n",
       "  3.0377e-03  9.9696e-01\n",
       "  9.9997e-01  2.7457e-05\n",
       "  8.1792e-01  1.8208e-01\n",
       "  5.0000e-01  5.0000e-01\n",
       "  5.0000e-01  5.0000e-01\n",
       "[torch.FloatTensor of size 100x5x2]"
      ]
     },
     "execution_count": 17,
     "metadata": {},
     "output_type": "execute_result"
    }
   ],
   "source": [
    "q"
   ]
  },
  {
   "cell_type": "code",
   "execution_count": 18,
   "metadata": {},
   "outputs": [
    {
     "data": {
      "text/plain": [
       "Variable containing:\n",
       "    1     1     1     0     1\n",
       "    1     0     0     1     0\n",
       "    0     1     0     1     0\n",
       "    0     0     0     0     0\n",
       "    0     0     1     1     0\n",
       "    0     1     1     1     1\n",
       "    1     1     1     1     0\n",
       "    1     1     0     0     1\n",
       "    0     0     0     1     0\n",
       "    1     1     0     1     0\n",
       "    0     0     1     1     1\n",
       "    1     1     1     1     1\n",
       "    1     1     1     0     0\n",
       "    1     1     0     0     0\n",
       "    0     1     1     1     1\n",
       "    1     1     0     0     0\n",
       "    0     1     0     0     0\n",
       "    0     0     1     0     0\n",
       "    1     1     0     1     1\n",
       "    0     1     1     0     0\n",
       "    1     1     0     1     0\n",
       "    1     1     0     0     0\n",
       "    1     1     0     0     1\n",
       "    1     1     1     0     1\n",
       "    0     1     1     0     0\n",
       "    1     1     1     0     1\n",
       "    1     1     1     1     0\n",
       "    1     1     0     0     1\n",
       "    1     1     0     0     1\n",
       "    1     1     1     1     0\n",
       "    0     1     0     0     0\n",
       "    0     1     0     1     0\n",
       "    1     1     0     0     1\n",
       "    0     1     1     1     0\n",
       "    1     0     1     1     1\n",
       "    0     1     0     1     0\n",
       "    0     1     1     0     0\n",
       "    1     1     1     0     1\n",
       "    0     0     1     1     0\n",
       "    1     0     0     1     1\n",
       "    1     1     1     1     1\n",
       "    1     1     1     1     1\n",
       "    1     1     1     0     1\n",
       "    1     1     0     0     1\n",
       "    1     1     1     0     1\n",
       "    1     1     1     0     1\n",
       "    1     1     0     1     0\n",
       "    1     1     0     0     1\n",
       "    0     1     1     1     0\n",
       "    1     1     0     1     1\n",
       "    1     1     0     0     0\n",
       "    1     0     0     0     1\n",
       "    0     1     0     1     1\n",
       "    1     1     1     1     1\n",
       "    1     1     1     0     1\n",
       "    0     1     1     1     0\n",
       "    0     1     1     1     1\n",
       "    1     1     1     1     0\n",
       "    1     1     0     1     0\n",
       "    1     1     0     1     0\n",
       "    0     1     1     1     0\n",
       "    1     0     0     0     1\n",
       "    1     1     0     1     0\n",
       "    0     0     1     0     1\n",
       "    0     1     1     1     0\n",
       "    0     1     1     1     0\n",
       "    0     1     0     1     0\n",
       "    1     1     1     1     0\n",
       "    0     1     0     1     0\n",
       "    1     0     1     1     0\n",
       "    1     1     1     1     0\n",
       "    1     1     0     0     1\n",
       "    0     0     0     0     0\n",
       "    1     0     0     1     1\n",
       "    0     0     1     0     1\n",
       "    0     1     1     0     1\n",
       "    1     0     1     1     1\n",
       "    1     0     0     1     1\n",
       "    1     1     1     1     0\n",
       "    0     1     1     0     0\n",
       "    1     0     0     0     1\n",
       "    1     1     0     0     1\n",
       "    1     1     0     1     0\n",
       "    1     1     1     1     1\n",
       "    1     1     0     1     1\n",
       "    0     1     1     0     0\n",
       "    0     0     1     0     1\n",
       "    1     1     0     0     1\n",
       "    1     0     0     0     0\n",
       "    1     0     0     0     0\n",
       "    0     1     1     0     1\n",
       "    1     1     0     0     0\n",
       "    0     0     0     1     0\n",
       "    1     1     1     1     0\n",
       "    0     1     0     1     1\n",
       "    0     1     1     1     1\n",
       "    0     0     0     1     1\n",
       "    1     0     1     1     1\n",
       "    0     0     1     1     1\n",
       "    0     1     1     1     0\n",
       "[torch.FloatTensor of size 100x5]"
      ]
     },
     "execution_count": 18,
     "metadata": {},
     "output_type": "execute_result"
    }
   ],
   "source": [
    "bits"
   ]
  },
  {
   "cell_type": "code",
   "execution_count": 19,
   "metadata": {
    "collapsed": true
   },
   "outputs": [],
   "source": [
    "test_set = dset.MNIST('data', train=False, download=True, transform=data_transforms)"
   ]
  },
  {
   "cell_type": "code",
   "execution_count": 20,
   "metadata": {},
   "outputs": [],
   "source": [
    "# a = np.array([[0., 0., 0., 0.]])\n",
    "# w = D.forward(Variable(torch.from_numpy(a).type(torch.FloatTensor)))\n",
    "# plt.imshow(w.view(28,28).data.numpy())"
   ]
  },
  {
   "cell_type": "code",
   "execution_count": 21,
   "metadata": {
    "scrolled": true
   },
   "outputs": [
    {
     "data": {
      "image/png": "[encoded data removed]",
      "text/plain": [
       "<matplotlib.figure.Figure at 0x1119322e8>"
      ]
     },
     "metadata": {},
     "output_type": "display_data"
    }
   ],
   "source": [
    "from itertools import product\n",
    "f, axes = plt.subplots(1, 2**N, sharey=True, figsize=(25,1))\n",
    "k = 0\n",
    "for path in product(range(2), repeat=N):\n",
    "    w = D.forward(Variable(torch.Tensor(path).type(torch.FloatTensor)))\n",
    "    ax = axes[k]\n",
    "    ax.set_title(path)\n",
    "    ax.imshow(w.view(28,28).data.numpy())\n",
    "    k += 1"
   ]
  }
 ],
 "metadata": {
  "kernelspec": {
   "display_name": "Python 3",
   "language": "python",
   "name": "python3"
  },
  "language_info": {
   "codemirror_mode": {
    "name": "ipython",
    "version": 3
   },
   "file_extension": ".py",
   "mimetype": "text/x-python",
   "name": "python",
   "nbconvert_exporter": "python",
   "pygments_lexer": "ipython3",
   "version": "3.6.3"
  }
 },
 "nbformat": 4,
 "nbformat_minor": 2
}
