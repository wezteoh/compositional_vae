{
 "cells": [
  {
   "cell_type": "code",
   "execution_count": 1,
   "metadata": {
    "collapsed": true
   },
   "outputs": [],
   "source": [
    "import numpy as np\n",
    "import matplotlib.pyplot as plt\n",
    "%matplotlib inline"
   ]
  },
  {
   "cell_type": "code",
   "execution_count": 2,
   "metadata": {},
   "outputs": [],
   "source": [
    "%load_ext autoreload\n",
    "%autoreload 2"
   ]
  },
  {
   "cell_type": "code",
   "execution_count": 3,
   "metadata": {
    "collapsed": true
   },
   "outputs": [],
   "source": [
    "from torch import nn, optim\n",
    "from torch.autograd import Variable\n",
    "from torch.nn import functional as F"
   ]
  },
  {
   "cell_type": "code",
   "execution_count": 4,
   "metadata": {
    "collapsed": true
   },
   "outputs": [],
   "source": [
    "import torchvision.datasets as dset\n",
    "import torchvision.transforms as transforms\n",
    "import torch.utils.data"
   ]
  },
  {
   "cell_type": "code",
   "execution_count": 5,
   "metadata": {
    "collapsed": true
   },
   "outputs": [],
   "source": [
    "#transform\n",
    "data_transforms = transforms.Compose([\n",
    "        transforms.ToTensor(),\n",
    "        lambda x: x>0.5,\n",
    "        lambda x: x.float(),\n",
    "    ])"
   ]
  },
  {
   "cell_type": "code",
   "execution_count": 6,
   "metadata": {
    "collapsed": true
   },
   "outputs": [],
   "source": [
    "# dataset loading\n",
    "bsize = 100\n",
    "train_loader = torch.utils.data.DataLoader(\n",
    "    dset.MNIST('data', train=True, download=True, transform=data_transforms), batch_size=bsize, shuffle=True)\n",
    "test_loader = torch.utils.data.DataLoader(\n",
    "    dset.MNIST('data', train=False, download=True, transform=data_transforms), batch_size=bsize, shuffle=True)"
   ]
  },
  {
   "cell_type": "code",
   "execution_count": 7,
   "metadata": {
    "collapsed": true
   },
   "outputs": [],
   "source": [
    "# hyperparameters\n",
    "N = 4\n",
    "k = 2\n",
    "tau = 1."
   ]
  },
  {
   "cell_type": "code",
   "execution_count": 8,
   "metadata": {
    "collapsed": true
   },
   "outputs": [],
   "source": [
    "# gumbel-softmax\n",
    "def sample_gumbel(shape, eps=1e-20):\n",
    "    U = torch.rand(shape)\n",
    "    return -Variable(torch.log(-torch.log(U + eps) + eps))\n",
    "\n",
    "def gumbel_softmax_sample(logits, temperature):\n",
    "    y = logits + sample_gumbel(logits.size())\n",
    "    return F.softmax(y / temperature, dim=-1)\n",
    "\n",
    "def gumbel_softmax(logits, temperature):\n",
    "    \"\"\"\n",
    "    input: [*, n_class]\n",
    "    return: [*, n_class] an one-hot vector\n",
    "    \"\"\"\n",
    "    y = gumbel_softmax_sample(logits, temperature)\n",
    "    shape = y.size()\n",
    "    _, ind = y.max(dim=-1)\n",
    "    y_hard = torch.zeros_like(y).view(-1, shape[-1])\n",
    "    y_hard.scatter_(1, ind.view(-1, 1), 1)\n",
    "    y_hard = y_hard.view(*shape)\n",
    "    return (y_hard - y).detach() + y"
   ]
  },
  {
   "cell_type": "code",
   "execution_count": 9,
   "metadata": {
    "collapsed": true
   },
   "outputs": [],
   "source": [
    "class encoder(nn.Module):\n",
    "    def __init__(self):\n",
    "        super(encoder, self).__init__()\n",
    "        self.fc1 = nn.Linear(784, 512)\n",
    "        self.fc2 = nn.Linear(512, 128)\n",
    "        self.relu = nn.ReLU()\n",
    "        \n",
    "    def forward(self, x):\n",
    "        h1 = self.relu(self.fc1(x))\n",
    "        l = self.relu(self.fc2(h1))\n",
    "        return l"
   ]
  },
  {
   "cell_type": "code",
   "execution_count": 10,
   "metadata": {
    "collapsed": true
   },
   "outputs": [],
   "source": [
    "class tunnel_1(nn.Module):\n",
    "    def __init__(self):\n",
    "        super(tunnel_1, self).__init__()\n",
    "        self.fc1 = nn.Linear(128, 128)\n",
    "        self.relu = nn.ReLU()\n",
    "        \n",
    "    def forward(self, x):\n",
    "        l = self.relu(self.fc1(x))\n",
    "        return l\n",
    "    \n",
    "class tunnel_2(nn.Module):\n",
    "    def __init__(self):\n",
    "        super(tunnel_2, self).__init__()\n",
    "        self.fc1 = nn.Linear(128, 128)\n",
    "        self.relu = nn.ReLU()\n",
    "        \n",
    "    def forward(self, x):\n",
    "        l = self.relu(self.fc1(x))\n",
    "        return l\n",
    "\n",
    "class tunnel_3(nn.Module):\n",
    "    def __init__(self):\n",
    "        super(tunnel_3, self).__init__()\n",
    "        self.fc1 = nn.Linear(128, 128)\n",
    "        self.relu = nn.ReLU()\n",
    "        \n",
    "    def forward(self, x):\n",
    "        l = self.relu(self.fc1(x))\n",
    "        return l"
   ]
  },
  {
   "cell_type": "code",
   "execution_count": 11,
   "metadata": {
    "collapsed": true
   },
   "outputs": [],
   "source": [
    "class output_0(nn.Module):\n",
    "    def __init__(self):\n",
    "        super(output_0, self).__init__()\n",
    "        self.fc1 = nn.Linear(128, 2)\n",
    "        self.relu = nn.ReLU()\n",
    "        \n",
    "    def forward(self, x):\n",
    "        h1 = self.relu(self.fc1(x))\n",
    "        l = h1.view(-1,2)\n",
    "        return l\n",
    "    \n",
    "class output_1(nn.Module):\n",
    "    def __init__(self):\n",
    "        super(output_1, self).__init__()\n",
    "        self.fc1 = nn.Linear(128, 2)\n",
    "        self.relu = nn.ReLU()\n",
    "        \n",
    "    def forward(self, x):\n",
    "        h1 = self.relu(self.fc1(x))\n",
    "        l = h1.view(-1,2)\n",
    "        return l\n",
    "\n",
    "class output_2(nn.Module):\n",
    "    def __init__(self):\n",
    "        super(output_2, self).__init__()\n",
    "        self.fc1 = nn.Linear(128, 2)\n",
    "        self.relu = nn.ReLU()\n",
    "        \n",
    "    def forward(self, x):\n",
    "        h1 = self.relu(self.fc1(x))\n",
    "        l = h1.view(-1,2)\n",
    "        return l\n",
    "    \n",
    "class output_3(nn.Module):\n",
    "    def __init__(self):\n",
    "        super(output_3, self).__init__()\n",
    "        self.fc1 = nn.Linear(128, 2)\n",
    "        self.relu = nn.ReLU()\n",
    "        \n",
    "    def forward(self, x):\n",
    "        h1 = self.relu(self.fc1(x))\n",
    "        l = h1.view(-1,2)\n",
    "        return l"
   ]
  },
  {
   "cell_type": "code",
   "execution_count": 12,
   "metadata": {
    "collapsed": true
   },
   "outputs": [],
   "source": [
    "def prob(l0, l1, l2, l3):\n",
    "    return torch.cat((F.softmax(l0, dim=-1),\n",
    "                      F.softmax(l1, dim=-1),\n",
    "                      F.softmax(l2, dim=-1),\n",
    "                      F.softmax(l3, dim=-1)),dim=1).view(-1, N, k)\n",
    "\n",
    "def sample(l):\n",
    "    return gumbel_softmax(l, tau)\n",
    "\n",
    "def signal(l0, l1, l2, l3):\n",
    "    return torch.cat((sample(l0).narrow(1,0,1),\n",
    "                       sample(l1).narrow(1,0,1),\n",
    "                       sample(l2).narrow(1,0,1),\n",
    "                       sample(l3).narrow(1,0,1)),\n",
    "                      dim=1)\n",
    "    "
   ]
  },
  {
   "cell_type": "code",
   "execution_count": 21,
   "metadata": {
    "collapsed": true
   },
   "outputs": [],
   "source": [
    "class decoder(nn.Module):  \n",
    "    def __init__(self):\n",
    "        super(decoder, self).__init__()\n",
    "        self.fc1 = nn.Linear(4, 128)\n",
    "        self.fc2 = nn.Linear(128, 256)\n",
    "        self.fc3 = nn.Linear(256, 512)      \n",
    "        self.fc4 = nn.Linear(512, 784)\n",
    "        self.relu = nn.ReLU()\n",
    "        \n",
    "    def forward(self, x):\n",
    "        h1 = self.relu(self.fc1(x))\n",
    "        h2 = self.relu(self.fc2(h1))\n",
    "        h3 = self.relu(self.fc3(h2))\n",
    "        h4 = self.fc4(h3)\n",
    "        o = h4.view(-1,784)\n",
    "        return F.sigmoid(o)"
   ]
  },
  {
   "cell_type": "code",
   "execution_count": 22,
   "metadata": {},
   "outputs": [],
   "source": [
    "E = encoder()\n",
    "D = decoder()\n",
    "T1 = tunnel_1()\n",
    "T2 = tunnel_2()\n",
    "T3 = tunnel_3()\n",
    "O0 = output_0()\n",
    "O1 = output_1()\n",
    "O2 = output_2()\n",
    "O3 = output_3()"
   ]
  },
  {
   "cell_type": "code",
   "execution_count": 23,
   "metadata": {
    "collapsed": true
   },
   "outputs": [],
   "source": [
    "# objective\n",
    "def loss_function(recon_x, x, q):\n",
    "    BCE = F.binary_cross_entropy(recon_x, x, size_average=False)\n",
    "    \n",
    "    KLD = torch.sum(q*(torch.log(q+1E-20)-np.log(1/k)))\n",
    "\n",
    "    return BCE + KLD"
   ]
  },
  {
   "cell_type": "code",
   "execution_count": 24,
   "metadata": {},
   "outputs": [
    {
     "name": "stdout",
     "output_type": "stream",
     "text": [
      "Train Epoch: 1 [0/60000 (0%)]\tLoss: 544.364023\n",
      "Train Epoch: 1 [20000/60000 (33%)]\tLoss: 208.185625\n",
      "Train Epoch: 1 [40000/60000 (67%)]\tLoss: 203.416602\n",
      "====> Epoch: 1 Average loss: 236.6819\n",
      "Train Epoch: 2 [0/60000 (0%)]\tLoss: 207.584355\n",
      "Train Epoch: 2 [20000/60000 (33%)]\tLoss: 209.847832\n",
      "Train Epoch: 2 [40000/60000 (67%)]\tLoss: 206.333945\n",
      "====> Epoch: 2 Average loss: 445.0552\n",
      "Train Epoch: 3 [0/60000 (0%)]\tLoss: 206.723184\n",
      "Train Epoch: 3 [20000/60000 (33%)]\tLoss: 210.192793\n",
      "Train Epoch: 3 [40000/60000 (67%)]\tLoss: 208.728711\n",
      "====> Epoch: 3 Average loss: 653.4012\n",
      "Train Epoch: 4 [0/60000 (0%)]\tLoss: 203.685605\n",
      "Train Epoch: 4 [20000/60000 (33%)]\tLoss: 202.862734\n",
      "Train Epoch: 4 [40000/60000 (67%)]\tLoss: 212.304531\n",
      "====> Epoch: 4 Average loss: 861.7376\n",
      "Train Epoch: 5 [0/60000 (0%)]\tLoss: 211.958965\n",
      "Train Epoch: 5 [20000/60000 (33%)]\tLoss: 203.656523\n",
      "Train Epoch: 5 [40000/60000 (67%)]\tLoss: 191.485918\n",
      "====> Epoch: 5 Average loss: 1065.0054\n",
      "Train Epoch: 6 [0/60000 (0%)]\tLoss: 188.225254\n",
      "Train Epoch: 6 [20000/60000 (33%)]\tLoss: 200.716172\n",
      "Train Epoch: 6 [40000/60000 (67%)]\tLoss: 196.220020\n",
      "====> Epoch: 6 Average loss: 1260.6446\n",
      "Train Epoch: 7 [0/60000 (0%)]\tLoss: 197.461484\n",
      "Train Epoch: 7 [20000/60000 (33%)]\tLoss: 197.669414\n",
      "Train Epoch: 7 [40000/60000 (67%)]\tLoss: 200.685469\n",
      "====> Epoch: 7 Average loss: 1455.4483\n",
      "Train Epoch: 8 [0/60000 (0%)]\tLoss: 191.714805\n",
      "Train Epoch: 8 [20000/60000 (33%)]\tLoss: 187.591250\n",
      "Train Epoch: 8 [40000/60000 (67%)]\tLoss: 195.110645\n",
      "====> Epoch: 8 Average loss: 1649.9686\n",
      "Train Epoch: 9 [0/60000 (0%)]\tLoss: 191.124316\n",
      "Train Epoch: 9 [20000/60000 (33%)]\tLoss: 197.118281\n",
      "Train Epoch: 9 [40000/60000 (67%)]\tLoss: 200.558418\n",
      "====> Epoch: 9 Average loss: 1844.3061\n",
      "Train Epoch: 10 [0/60000 (0%)]\tLoss: 197.680117\n",
      "Train Epoch: 10 [20000/60000 (33%)]\tLoss: 186.534844\n",
      "Train Epoch: 10 [40000/60000 (67%)]\tLoss: 191.652500\n",
      "====> Epoch: 10 Average loss: 2038.2560\n",
      "Train Epoch: 11 [0/60000 (0%)]\tLoss: 194.720234\n",
      "Train Epoch: 11 [20000/60000 (33%)]\tLoss: 186.578496\n",
      "Train Epoch: 11 [40000/60000 (67%)]\tLoss: 193.975586\n",
      "====> Epoch: 11 Average loss: 2231.3697\n",
      "Train Epoch: 12 [0/60000 (0%)]\tLoss: 191.264805\n",
      "Train Epoch: 12 [20000/60000 (33%)]\tLoss: 193.925254\n",
      "Train Epoch: 12 [40000/60000 (67%)]\tLoss: 202.967559\n",
      "====> Epoch: 12 Average loss: 2422.6114\n",
      "Train Epoch: 13 [0/60000 (0%)]\tLoss: 185.563652\n",
      "Train Epoch: 13 [20000/60000 (33%)]\tLoss: 185.855059\n",
      "Train Epoch: 13 [40000/60000 (67%)]\tLoss: 189.334160\n",
      "====> Epoch: 13 Average loss: 2613.1152\n",
      "Train Epoch: 14 [0/60000 (0%)]\tLoss: 196.305566\n",
      "Train Epoch: 14 [20000/60000 (33%)]\tLoss: 182.982383\n",
      "Train Epoch: 14 [40000/60000 (67%)]\tLoss: 188.187383\n",
      "====> Epoch: 14 Average loss: 2803.1778\n",
      "Train Epoch: 15 [0/60000 (0%)]\tLoss: 188.643652\n",
      "Train Epoch: 15 [20000/60000 (33%)]\tLoss: 194.453398\n",
      "Train Epoch: 15 [40000/60000 (67%)]\tLoss: 189.153379\n",
      "====> Epoch: 15 Average loss: 2992.9931\n",
      "Train Epoch: 16 [0/60000 (0%)]\tLoss: 184.304609\n",
      "Train Epoch: 16 [20000/60000 (33%)]\tLoss: 190.887480\n",
      "Train Epoch: 16 [40000/60000 (67%)]\tLoss: 193.327441\n",
      "====> Epoch: 16 Average loss: 3182.4974\n",
      "Train Epoch: 17 [0/60000 (0%)]\tLoss: 188.793652\n",
      "Train Epoch: 17 [20000/60000 (33%)]\tLoss: 192.474277\n",
      "Train Epoch: 17 [40000/60000 (67%)]\tLoss: 186.447031\n",
      "====> Epoch: 17 Average loss: 3371.8001\n",
      "Train Epoch: 18 [0/60000 (0%)]\tLoss: 195.791250\n",
      "Train Epoch: 18 [20000/60000 (33%)]\tLoss: 184.471426\n",
      "Train Epoch: 18 [40000/60000 (67%)]\tLoss: 183.668730\n",
      "====> Epoch: 18 Average loss: 3561.0241\n",
      "Train Epoch: 19 [0/60000 (0%)]\tLoss: 189.560137\n",
      "Train Epoch: 19 [20000/60000 (33%)]\tLoss: 186.863262\n",
      "Train Epoch: 19 [40000/60000 (67%)]\tLoss: 188.196836\n",
      "====> Epoch: 19 Average loss: 3750.0438\n",
      "Train Epoch: 20 [0/60000 (0%)]\tLoss: 191.487930\n",
      "Train Epoch: 20 [20000/60000 (33%)]\tLoss: 186.342969\n",
      "Train Epoch: 20 [40000/60000 (67%)]\tLoss: 192.064629\n",
      "====> Epoch: 20 Average loss: 3939.0120\n",
      "Train Epoch: 21 [0/60000 (0%)]\tLoss: 187.814199\n",
      "Train Epoch: 21 [20000/60000 (33%)]\tLoss: 189.685156\n",
      "Train Epoch: 21 [40000/60000 (67%)]\tLoss: 200.225879\n",
      "====> Epoch: 21 Average loss: 4128.0673\n",
      "Train Epoch: 22 [0/60000 (0%)]\tLoss: 198.271641\n",
      "Train Epoch: 22 [20000/60000 (33%)]\tLoss: 181.169238\n"
     ]
    },
    {
     "ename": "KeyboardInterrupt",
     "evalue": "",
     "output_type": "error",
     "traceback": [
      "\u001b[0;31m---------------------------------------------------------------------------\u001b[0m",
      "\u001b[0;31mKeyboardInterrupt\u001b[0m                         Traceback (most recent call last)",
      "\u001b[0;32m<ipython-input-24-d3fabcbdc8aa>\u001b[0m in \u001b[0;36m<module>\u001b[0;34m()\u001b[0m\n\u001b[1;32m     15\u001b[0m \u001b[0mtrain_loss\u001b[0m \u001b[0;34m=\u001b[0m \u001b[0;36m0\u001b[0m\u001b[0;34m\u001b[0m\u001b[0m\n\u001b[1;32m     16\u001b[0m \u001b[0;32mfor\u001b[0m \u001b[0mepoch\u001b[0m \u001b[0;32min\u001b[0m \u001b[0mrange\u001b[0m\u001b[0;34m(\u001b[0m\u001b[0mepochs\u001b[0m\u001b[0;34m)\u001b[0m\u001b[0;34m:\u001b[0m\u001b[0;34m\u001b[0m\u001b[0m\n\u001b[0;32m---> 17\u001b[0;31m     \u001b[0;32mfor\u001b[0m \u001b[0mbatch_idx\u001b[0m\u001b[0;34m,\u001b[0m \u001b[0;34m(\u001b[0m\u001b[0mdata\u001b[0m\u001b[0;34m,\u001b[0m \u001b[0m_\u001b[0m\u001b[0;34m)\u001b[0m \u001b[0;32min\u001b[0m \u001b[0menumerate\u001b[0m\u001b[0;34m(\u001b[0m\u001b[0mtrain_loader\u001b[0m\u001b[0;34m)\u001b[0m\u001b[0;34m:\u001b[0m\u001b[0;34m\u001b[0m\u001b[0m\n\u001b[0m\u001b[1;32m     18\u001b[0m         \u001b[0mdata\u001b[0m \u001b[0;34m=\u001b[0m \u001b[0mVariable\u001b[0m\u001b[0;34m(\u001b[0m\u001b[0mdata\u001b[0m\u001b[0;34m)\u001b[0m\u001b[0;34m\u001b[0m\u001b[0m\n\u001b[1;32m     19\u001b[0m         \u001b[0mx\u001b[0m \u001b[0;34m=\u001b[0m \u001b[0mdata\u001b[0m\u001b[0;34m.\u001b[0m\u001b[0mview\u001b[0m\u001b[0;34m(\u001b[0m\u001b[0;34m-\u001b[0m\u001b[0;36m1\u001b[0m\u001b[0;34m,\u001b[0m\u001b[0;36m784\u001b[0m\u001b[0;34m)\u001b[0m\u001b[0;34m\u001b[0m\u001b[0m\n",
      "\u001b[0;32m~/anaconda3/envs/pytorch/lib/python3.6/site-packages/torch/utils/data/dataloader.py\u001b[0m in \u001b[0;36m__next__\u001b[0;34m(self)\u001b[0m\n\u001b[1;32m    186\u001b[0m         \u001b[0;32mif\u001b[0m \u001b[0mself\u001b[0m\u001b[0;34m.\u001b[0m\u001b[0mnum_workers\u001b[0m \u001b[0;34m==\u001b[0m \u001b[0;36m0\u001b[0m\u001b[0;34m:\u001b[0m  \u001b[0;31m# same-process loading\u001b[0m\u001b[0;34m\u001b[0m\u001b[0m\n\u001b[1;32m    187\u001b[0m             \u001b[0mindices\u001b[0m \u001b[0;34m=\u001b[0m \u001b[0mnext\u001b[0m\u001b[0;34m(\u001b[0m\u001b[0mself\u001b[0m\u001b[0;34m.\u001b[0m\u001b[0msample_iter\u001b[0m\u001b[0;34m)\u001b[0m  \u001b[0;31m# may raise StopIteration\u001b[0m\u001b[0;34m\u001b[0m\u001b[0m\n\u001b[0;32m--> 188\u001b[0;31m             \u001b[0mbatch\u001b[0m \u001b[0;34m=\u001b[0m \u001b[0mself\u001b[0m\u001b[0;34m.\u001b[0m\u001b[0mcollate_fn\u001b[0m\u001b[0;34m(\u001b[0m\u001b[0;34m[\u001b[0m\u001b[0mself\u001b[0m\u001b[0;34m.\u001b[0m\u001b[0mdataset\u001b[0m\u001b[0;34m[\u001b[0m\u001b[0mi\u001b[0m\u001b[0;34m]\u001b[0m \u001b[0;32mfor\u001b[0m \u001b[0mi\u001b[0m \u001b[0;32min\u001b[0m \u001b[0mindices\u001b[0m\u001b[0;34m]\u001b[0m\u001b[0;34m)\u001b[0m\u001b[0;34m\u001b[0m\u001b[0m\n\u001b[0m\u001b[1;32m    189\u001b[0m             \u001b[0;32mif\u001b[0m \u001b[0mself\u001b[0m\u001b[0;34m.\u001b[0m\u001b[0mpin_memory\u001b[0m\u001b[0;34m:\u001b[0m\u001b[0;34m\u001b[0m\u001b[0m\n\u001b[1;32m    190\u001b[0m                 \u001b[0mbatch\u001b[0m \u001b[0;34m=\u001b[0m \u001b[0mpin_memory_batch\u001b[0m\u001b[0;34m(\u001b[0m\u001b[0mbatch\u001b[0m\u001b[0;34m)\u001b[0m\u001b[0;34m\u001b[0m\u001b[0m\n",
      "\u001b[0;32m~/anaconda3/envs/pytorch/lib/python3.6/site-packages/torch/utils/data/dataloader.py\u001b[0m in \u001b[0;36m<listcomp>\u001b[0;34m(.0)\u001b[0m\n\u001b[1;32m    186\u001b[0m         \u001b[0;32mif\u001b[0m \u001b[0mself\u001b[0m\u001b[0;34m.\u001b[0m\u001b[0mnum_workers\u001b[0m \u001b[0;34m==\u001b[0m \u001b[0;36m0\u001b[0m\u001b[0;34m:\u001b[0m  \u001b[0;31m# same-process loading\u001b[0m\u001b[0;34m\u001b[0m\u001b[0m\n\u001b[1;32m    187\u001b[0m             \u001b[0mindices\u001b[0m \u001b[0;34m=\u001b[0m \u001b[0mnext\u001b[0m\u001b[0;34m(\u001b[0m\u001b[0mself\u001b[0m\u001b[0;34m.\u001b[0m\u001b[0msample_iter\u001b[0m\u001b[0;34m)\u001b[0m  \u001b[0;31m# may raise StopIteration\u001b[0m\u001b[0;34m\u001b[0m\u001b[0m\n\u001b[0;32m--> 188\u001b[0;31m             \u001b[0mbatch\u001b[0m \u001b[0;34m=\u001b[0m \u001b[0mself\u001b[0m\u001b[0;34m.\u001b[0m\u001b[0mcollate_fn\u001b[0m\u001b[0;34m(\u001b[0m\u001b[0;34m[\u001b[0m\u001b[0mself\u001b[0m\u001b[0;34m.\u001b[0m\u001b[0mdataset\u001b[0m\u001b[0;34m[\u001b[0m\u001b[0mi\u001b[0m\u001b[0;34m]\u001b[0m \u001b[0;32mfor\u001b[0m \u001b[0mi\u001b[0m \u001b[0;32min\u001b[0m \u001b[0mindices\u001b[0m\u001b[0;34m]\u001b[0m\u001b[0;34m)\u001b[0m\u001b[0;34m\u001b[0m\u001b[0m\n\u001b[0m\u001b[1;32m    189\u001b[0m             \u001b[0;32mif\u001b[0m \u001b[0mself\u001b[0m\u001b[0;34m.\u001b[0m\u001b[0mpin_memory\u001b[0m\u001b[0;34m:\u001b[0m\u001b[0;34m\u001b[0m\u001b[0m\n\u001b[1;32m    190\u001b[0m                 \u001b[0mbatch\u001b[0m \u001b[0;34m=\u001b[0m \u001b[0mpin_memory_batch\u001b[0m\u001b[0;34m(\u001b[0m\u001b[0mbatch\u001b[0m\u001b[0;34m)\u001b[0m\u001b[0;34m\u001b[0m\u001b[0m\n",
      "\u001b[0;32m~/anaconda3/envs/pytorch/lib/python3.6/site-packages/torchvision-0.2.0-py3.6.egg/torchvision/datasets/mnist.py\u001b[0m in \u001b[0;36m__getitem__\u001b[0;34m(self, index)\u001b[0m\n\u001b[1;32m     71\u001b[0m         \u001b[0;31m# doing this so that it is consistent with all other datasets\u001b[0m\u001b[0;34m\u001b[0m\u001b[0;34m\u001b[0m\u001b[0m\n\u001b[1;32m     72\u001b[0m         \u001b[0;31m# to return a PIL Image\u001b[0m\u001b[0;34m\u001b[0m\u001b[0;34m\u001b[0m\u001b[0m\n\u001b[0;32m---> 73\u001b[0;31m         \u001b[0mimg\u001b[0m \u001b[0;34m=\u001b[0m \u001b[0mImage\u001b[0m\u001b[0;34m.\u001b[0m\u001b[0mfromarray\u001b[0m\u001b[0;34m(\u001b[0m\u001b[0mimg\u001b[0m\u001b[0;34m.\u001b[0m\u001b[0mnumpy\u001b[0m\u001b[0;34m(\u001b[0m\u001b[0;34m)\u001b[0m\u001b[0;34m,\u001b[0m \u001b[0mmode\u001b[0m\u001b[0;34m=\u001b[0m\u001b[0;34m'L'\u001b[0m\u001b[0;34m)\u001b[0m\u001b[0;34m\u001b[0m\u001b[0m\n\u001b[0m\u001b[1;32m     74\u001b[0m \u001b[0;34m\u001b[0m\u001b[0m\n\u001b[1;32m     75\u001b[0m         \u001b[0;32mif\u001b[0m \u001b[0mself\u001b[0m\u001b[0;34m.\u001b[0m\u001b[0mtransform\u001b[0m \u001b[0;32mis\u001b[0m \u001b[0;32mnot\u001b[0m \u001b[0;32mNone\u001b[0m\u001b[0;34m:\u001b[0m\u001b[0;34m\u001b[0m\u001b[0m\n",
      "\u001b[0;32m~/anaconda3/envs/pytorch/lib/python3.6/site-packages/PIL/Image.py\u001b[0m in \u001b[0;36mfromarray\u001b[0;34m(obj, mode)\u001b[0m\n\u001b[1;32m   2443\u001b[0m             \u001b[0mobj\u001b[0m \u001b[0;34m=\u001b[0m \u001b[0mobj\u001b[0m\u001b[0;34m.\u001b[0m\u001b[0mtostring\u001b[0m\u001b[0;34m(\u001b[0m\u001b[0;34m)\u001b[0m\u001b[0;34m\u001b[0m\u001b[0m\n\u001b[1;32m   2444\u001b[0m \u001b[0;34m\u001b[0m\u001b[0m\n\u001b[0;32m-> 2445\u001b[0;31m     \u001b[0;32mreturn\u001b[0m \u001b[0mfrombuffer\u001b[0m\u001b[0;34m(\u001b[0m\u001b[0mmode\u001b[0m\u001b[0;34m,\u001b[0m \u001b[0msize\u001b[0m\u001b[0;34m,\u001b[0m \u001b[0mobj\u001b[0m\u001b[0;34m,\u001b[0m \u001b[0;34m\"raw\"\u001b[0m\u001b[0;34m,\u001b[0m \u001b[0mrawmode\u001b[0m\u001b[0;34m,\u001b[0m \u001b[0;36m0\u001b[0m\u001b[0;34m,\u001b[0m \u001b[0;36m1\u001b[0m\u001b[0;34m)\u001b[0m\u001b[0;34m\u001b[0m\u001b[0m\n\u001b[0m\u001b[1;32m   2446\u001b[0m \u001b[0;34m\u001b[0m\u001b[0m\n\u001b[1;32m   2447\u001b[0m \u001b[0;34m\u001b[0m\u001b[0m\n",
      "\u001b[0;32m~/anaconda3/envs/pytorch/lib/python3.6/site-packages/PIL/Image.py\u001b[0m in \u001b[0;36mfrombuffer\u001b[0;34m(mode, size, data, decoder_name, *args)\u001b[0m\n\u001b[1;32m   2389\u001b[0m             \u001b[0margs\u001b[0m \u001b[0;34m=\u001b[0m \u001b[0mmode\u001b[0m\u001b[0;34m,\u001b[0m \u001b[0;36m0\u001b[0m\u001b[0;34m,\u001b[0m \u001b[0;34m-\u001b[0m\u001b[0;36m1\u001b[0m  \u001b[0;31m# may change to (mode, 0, 1) post-1.1.6\u001b[0m\u001b[0;34m\u001b[0m\u001b[0m\n\u001b[1;32m   2390\u001b[0m         \u001b[0;32mif\u001b[0m \u001b[0margs\u001b[0m\u001b[0;34m[\u001b[0m\u001b[0;36m0\u001b[0m\u001b[0;34m]\u001b[0m \u001b[0;32min\u001b[0m \u001b[0m_MAPMODES\u001b[0m\u001b[0;34m:\u001b[0m\u001b[0;34m\u001b[0m\u001b[0m\n\u001b[0;32m-> 2391\u001b[0;31m             \u001b[0mim\u001b[0m \u001b[0;34m=\u001b[0m \u001b[0mnew\u001b[0m\u001b[0;34m(\u001b[0m\u001b[0mmode\u001b[0m\u001b[0;34m,\u001b[0m \u001b[0;34m(\u001b[0m\u001b[0;36m1\u001b[0m\u001b[0;34m,\u001b[0m \u001b[0;36m1\u001b[0m\u001b[0;34m)\u001b[0m\u001b[0;34m)\u001b[0m\u001b[0;34m\u001b[0m\u001b[0m\n\u001b[0m\u001b[1;32m   2392\u001b[0m             im = im._new(\n\u001b[1;32m   2393\u001b[0m                 \u001b[0mcore\u001b[0m\u001b[0;34m.\u001b[0m\u001b[0mmap_buffer\u001b[0m\u001b[0;34m(\u001b[0m\u001b[0mdata\u001b[0m\u001b[0;34m,\u001b[0m \u001b[0msize\u001b[0m\u001b[0;34m,\u001b[0m \u001b[0mdecoder_name\u001b[0m\u001b[0;34m,\u001b[0m \u001b[0;32mNone\u001b[0m\u001b[0;34m,\u001b[0m \u001b[0;36m0\u001b[0m\u001b[0;34m,\u001b[0m \u001b[0margs\u001b[0m\u001b[0;34m)\u001b[0m\u001b[0;34m\u001b[0m\u001b[0m\n",
      "\u001b[0;32m~/anaconda3/envs/pytorch/lib/python3.6/site-packages/PIL/Image.py\u001b[0m in \u001b[0;36mnew\u001b[0;34m(mode, size, color)\u001b[0m\n\u001b[1;32m   2292\u001b[0m         \u001b[0mcolor\u001b[0m \u001b[0;34m=\u001b[0m \u001b[0mImageColor\u001b[0m\u001b[0;34m.\u001b[0m\u001b[0mgetcolor\u001b[0m\u001b[0;34m(\u001b[0m\u001b[0mcolor\u001b[0m\u001b[0;34m,\u001b[0m \u001b[0mmode\u001b[0m\u001b[0;34m)\u001b[0m\u001b[0;34m\u001b[0m\u001b[0m\n\u001b[1;32m   2293\u001b[0m \u001b[0;34m\u001b[0m\u001b[0m\n\u001b[0;32m-> 2294\u001b[0;31m     \u001b[0;32mreturn\u001b[0m \u001b[0mImage\u001b[0m\u001b[0;34m(\u001b[0m\u001b[0;34m)\u001b[0m\u001b[0;34m.\u001b[0m\u001b[0m_new\u001b[0m\u001b[0;34m(\u001b[0m\u001b[0mcore\u001b[0m\u001b[0;34m.\u001b[0m\u001b[0mfill\u001b[0m\u001b[0;34m(\u001b[0m\u001b[0mmode\u001b[0m\u001b[0;34m,\u001b[0m \u001b[0msize\u001b[0m\u001b[0;34m,\u001b[0m \u001b[0mcolor\u001b[0m\u001b[0;34m)\u001b[0m\u001b[0;34m)\u001b[0m\u001b[0;34m\u001b[0m\u001b[0m\n\u001b[0m\u001b[1;32m   2295\u001b[0m \u001b[0;34m\u001b[0m\u001b[0m\n\u001b[1;32m   2296\u001b[0m \u001b[0;34m\u001b[0m\u001b[0m\n",
      "\u001b[0;32m~/anaconda3/envs/pytorch/lib/python3.6/site-packages/PIL/Image.py\u001b[0m in \u001b[0;36m_new\u001b[0;34m(self, im)\u001b[0m\n\u001b[1;32m    538\u001b[0m \u001b[0;34m\u001b[0m\u001b[0m\n\u001b[1;32m    539\u001b[0m     \u001b[0;32mdef\u001b[0m \u001b[0m_new\u001b[0m\u001b[0;34m(\u001b[0m\u001b[0mself\u001b[0m\u001b[0;34m,\u001b[0m \u001b[0mim\u001b[0m\u001b[0;34m)\u001b[0m\u001b[0;34m:\u001b[0m\u001b[0;34m\u001b[0m\u001b[0m\n\u001b[0;32m--> 540\u001b[0;31m         \u001b[0mnew\u001b[0m \u001b[0;34m=\u001b[0m \u001b[0mImage\u001b[0m\u001b[0;34m(\u001b[0m\u001b[0;34m)\u001b[0m\u001b[0;34m\u001b[0m\u001b[0m\n\u001b[0m\u001b[1;32m    541\u001b[0m         \u001b[0mnew\u001b[0m\u001b[0;34m.\u001b[0m\u001b[0mim\u001b[0m \u001b[0;34m=\u001b[0m \u001b[0mim\u001b[0m\u001b[0;34m\u001b[0m\u001b[0m\n\u001b[1;32m    542\u001b[0m         \u001b[0mnew\u001b[0m\u001b[0;34m.\u001b[0m\u001b[0mmode\u001b[0m \u001b[0;34m=\u001b[0m \u001b[0mim\u001b[0m\u001b[0;34m.\u001b[0m\u001b[0mmode\u001b[0m\u001b[0;34m\u001b[0m\u001b[0m\n",
      "\u001b[0;32m~/anaconda3/envs/pytorch/lib/python3.6/site-packages/PIL/Image.py\u001b[0m in \u001b[0;36m__init__\u001b[0;34m(self)\u001b[0m\n\u001b[1;32m    525\u001b[0m         \u001b[0mself\u001b[0m\u001b[0;34m.\u001b[0m\u001b[0mpalette\u001b[0m \u001b[0;34m=\u001b[0m \u001b[0;32mNone\u001b[0m\u001b[0;34m\u001b[0m\u001b[0m\n\u001b[1;32m    526\u001b[0m         \u001b[0mself\u001b[0m\u001b[0;34m.\u001b[0m\u001b[0minfo\u001b[0m \u001b[0;34m=\u001b[0m \u001b[0;34m{\u001b[0m\u001b[0;34m}\u001b[0m\u001b[0;34m\u001b[0m\u001b[0m\n\u001b[0;32m--> 527\u001b[0;31m         \u001b[0mself\u001b[0m\u001b[0;34m.\u001b[0m\u001b[0mcategory\u001b[0m \u001b[0;34m=\u001b[0m \u001b[0mNORMAL\u001b[0m\u001b[0;34m\u001b[0m\u001b[0m\n\u001b[0m\u001b[1;32m    528\u001b[0m         \u001b[0mself\u001b[0m\u001b[0;34m.\u001b[0m\u001b[0mreadonly\u001b[0m \u001b[0;34m=\u001b[0m \u001b[0;36m0\u001b[0m\u001b[0;34m\u001b[0m\u001b[0m\n\u001b[1;32m    529\u001b[0m         \u001b[0mself\u001b[0m\u001b[0;34m.\u001b[0m\u001b[0mpyaccess\u001b[0m \u001b[0;34m=\u001b[0m \u001b[0;32mNone\u001b[0m\u001b[0;34m\u001b[0m\u001b[0m\n",
      "\u001b[0;31mKeyboardInterrupt\u001b[0m: "
     ]
    }
   ],
   "source": [
    "# training\n",
    "epochs = 25\n",
    "optimizer = optim.Adam([\n",
    "                {'params':E.parameters()},\n",
    "                {'params':D.parameters()},\n",
    "                {'params':T1.parameters()},\n",
    "                {'params':T2.parameters()},\n",
    "                {'params':T3.parameters()},\n",
    "                {'params':O0.parameters()},\n",
    "                {'params':O1.parameters()},\n",
    "                {'params':O2.parameters()},\n",
    "                {'params':O3.parameters()},\n",
    "            ], lr=1e-4)\n",
    "\n",
    "train_loss = 0\n",
    "for epoch in range(epochs):\n",
    "    for batch_idx, (data, _) in enumerate(train_loader):\n",
    "        data = Variable(data)\n",
    "        x = data.view(-1,784)\n",
    "        optimizer.zero_grad()\n",
    "        c0 = E.forward(x)\n",
    "        l0 = O0.forward(c0)\n",
    "        c1 = T1.forward(c0)\n",
    "        l1 = O1.forward(c1)\n",
    "        c2 = T2.forward(c1)\n",
    "        l2 = O2.forward(c2)\n",
    "        c3 = T3.forward(c2)\n",
    "        l3 = O3.forward(c3)\n",
    "        bits = signal(l0,l1,l2,l3)\n",
    "        q = prob(l0,l1,l2,l3)\n",
    "        recon_x = D.forward(bits)\n",
    "        loss = loss_function(recon_x, x, q)\n",
    "        loss.backward()\n",
    "        train_loss += loss.data[0]\n",
    "        optimizer.step()\n",
    "        if batch_idx % 200 == 0:\n",
    "            print('Train Epoch: {} [{}/{} ({:.0f}%)]\\tLoss: {:.6f}'.format(\n",
    "                epoch+1, batch_idx * len(data), len(train_loader.dataset),\n",
    "                100. * batch_idx / len(train_loader),\n",
    "                loss.data[0] / len(data)))\n",
    "            \n",
    "\n",
    "    print('====> Epoch: {} Average loss: {:.4f}'.format(\n",
    "          epoch+1, train_loss / len(train_loader.dataset)))\n",
    "\n",
    "    \n"
   ]
  },
  {
   "cell_type": "code",
   "execution_count": 25,
   "metadata": {},
   "outputs": [
    {
     "data": {
      "text/plain": [
       "Variable containing:\n",
       "( 0 ,.,.) = \n",
       "  9.9973e-01  2.6704e-04\n",
       "  1.0000e+00  9.7597e-08\n",
       "  1.0000e+00  2.5432e-09\n",
       "  5.0000e-01  5.0000e-01\n",
       "\n",
       "( 1 ,.,.) = \n",
       "  5.5439e-01  4.4561e-01\n",
       "  1.0000e+00  9.3353e-09\n",
       "  1.0000e+00  2.3040e-10\n",
       "  5.0000e-01  5.0000e-01\n",
       "\n",
       "( 2 ,.,.) = \n",
       "  9.9967e-01  3.3092e-04\n",
       "  1.0000e+00  1.2955e-06\n",
       "  1.0000e+00  4.6848e-08\n",
       "  5.0000e-01  5.0000e-01\n",
       "\n",
       "( 3 ,.,.) = \n",
       "  9.9998e-01  1.6192e-05\n",
       "  5.0000e-01  5.0000e-01\n",
       "  5.0000e-01  5.0000e-01\n",
       "  5.0000e-01  5.0000e-01\n",
       "\n",
       "( 4 ,.,.) = \n",
       "  7.3737e-04  9.9926e-01\n",
       "  5.0000e-01  5.0000e-01\n",
       "  6.3896e-01  3.6104e-01\n",
       "  5.1400e-11  1.0000e+00\n",
       "\n",
       "( 5 ,.,.) = \n",
       "  1.5823e-04  9.9984e-01\n",
       "  9.9910e-01  8.9627e-04\n",
       "  9.9578e-01  4.2178e-03\n",
       "  5.0000e-01  5.0000e-01\n",
       "\n",
       "( 6 ,.,.) = \n",
       "  9.9999e-01  5.1097e-06\n",
       "  1.0000e+00  3.5373e-09\n",
       "  1.0000e+00  6.6211e-11\n",
       "  5.0000e-01  5.0000e-01\n",
       "\n",
       "( 7 ,.,.) = \n",
       "  9.9969e-01  3.1486e-04\n",
       "  9.9997e-01  3.2194e-05\n",
       "  1.0000e+00  4.7103e-06\n",
       "  5.0000e-01  5.0000e-01\n",
       "\n",
       "( 8 ,.,.) = \n",
       "  3.5798e-03  9.9642e-01\n",
       "  5.0000e-01  5.0000e-01\n",
       "  5.0000e-01  5.0000e-01\n",
       "  1.8587e-01  8.1413e-01\n",
       "\n",
       "( 9 ,.,.) = \n",
       "  9.9999e-01  6.2397e-06\n",
       "  1.0000e+00  6.6411e-10\n",
       "  1.0000e+00  7.4040e-12\n",
       "  5.0000e-01  5.0000e-01\n",
       "\n",
       "(10 ,.,.) = \n",
       "  7.0873e-01  2.9127e-01\n",
       "  5.0000e-01  5.0000e-01\n",
       "  5.0000e-01  5.0000e-01\n",
       "  5.0000e-01  5.0000e-01\n",
       "\n",
       "(11 ,.,.) = \n",
       "  6.1961e-01  3.8039e-01\n",
       "  1.0000e+00  1.2459e-07\n",
       "  1.0000e+00  3.3584e-09\n",
       "  5.0000e-01  5.0000e-01\n",
       "\n",
       "(12 ,.,.) = \n",
       "  8.0849e-07  1.0000e+00\n",
       "  5.0000e-01  5.0000e-01\n",
       "  5.0000e-01  5.0000e-01\n",
       "  1.5597e-07  1.0000e+00\n",
       "\n",
       "(13 ,.,.) = \n",
       "  4.1532e-02  9.5847e-01\n",
       "  9.9013e-01  9.8724e-03\n",
       "  9.9713e-01  2.8681e-03\n",
       "  1.9645e-02  9.8036e-01\n",
       "\n",
       "(14 ,.,.) = \n",
       "  8.8227e-01  1.1773e-01\n",
       "  9.0377e-01  9.6231e-02\n",
       "  8.5234e-01  1.4766e-01\n",
       "  4.7730e-01  5.2270e-01\n",
       "\n",
       "(15 ,.,.) = \n",
       "  1.0000e+00  4.6033e-06\n",
       "  5.0000e-01  5.0000e-01\n",
       "  5.0000e-01  5.0000e-01\n",
       "  5.0000e-01  5.0000e-01\n",
       "\n",
       "(16 ,.,.) = \n",
       "  1.0000e+00  5.1072e-08\n",
       "  5.0000e-01  5.0000e-01\n",
       "  5.0000e-01  5.0000e-01\n",
       "  4.9352e-05  9.9995e-01\n",
       "\n",
       "(17 ,.,.) = \n",
       "  1.0000e+00  4.8799e-06\n",
       "  5.0000e-01  5.0000e-01\n",
       "  5.0000e-01  5.0000e-01\n",
       "  3.0141e-02  9.6986e-01\n",
       "\n",
       "(18 ,.,.) = \n",
       "  1.4766e-02  9.8523e-01\n",
       "  5.3248e-01  4.6752e-01\n",
       "  8.7744e-01  1.2256e-01\n",
       "  1.6711e-10  1.0000e+00\n",
       "\n",
       "(19 ,.,.) = \n",
       "  9.9991e-01  8.9844e-05\n",
       "  5.0000e-01  5.0000e-01\n",
       "  5.0000e-01  5.0000e-01\n",
       "  5.0000e-01  5.0000e-01\n",
       "\n",
       "(20 ,.,.) = \n",
       "  7.6764e-01  2.3236e-01\n",
       "  5.0000e-01  5.0000e-01\n",
       "  5.0000e-01  5.0000e-01\n",
       "  5.0000e-01  5.0000e-01\n",
       "\n",
       "(21 ,.,.) = \n",
       "  1.9746e-02  9.8025e-01\n",
       "  5.0000e-01  5.0000e-01\n",
       "  5.0000e-01  5.0000e-01\n",
       "  5.0000e-01  5.0000e-01\n",
       "\n",
       "(22 ,.,.) = \n",
       "  3.5237e-01  6.4763e-01\n",
       "  9.9635e-01  3.6497e-03\n",
       "  9.9831e-01  1.6918e-03\n",
       "  5.0000e-01  5.0000e-01\n",
       "\n",
       "(23 ,.,.) = \n",
       "  8.7716e-01  1.2284e-01\n",
       "  9.0457e-01  9.5430e-02\n",
       "  9.8464e-01  1.5365e-02\n",
       "  3.6645e-06  1.0000e+00\n",
       "\n",
       "(24 ,.,.) = \n",
       "  2.3344e-01  7.6656e-01\n",
       "  5.8349e-01  4.1651e-01\n",
       "  5.0000e-01  5.0000e-01\n",
       "  5.0000e-01  5.0000e-01\n",
       "\n",
       "(25 ,.,.) = \n",
       "  9.9991e-01  8.5345e-05\n",
       "  5.0000e-01  5.0000e-01\n",
       "  5.0000e-01  5.0000e-01\n",
       "  4.5927e-08  1.0000e+00\n",
       "\n",
       "(26 ,.,.) = \n",
       "  1.6319e-03  9.9837e-01\n",
       "  9.9859e-01  1.4147e-03\n",
       "  9.9962e-01  3.8009e-04\n",
       "  1.3973e-02  9.8603e-01\n",
       "\n",
       "(27 ,.,.) = \n",
       "  4.7356e-01  5.2644e-01\n",
       "  5.0000e-01  5.0000e-01\n",
       "  5.0000e-01  5.0000e-01\n",
       "  2.5412e-07  1.0000e+00\n",
       "\n",
       "(28 ,.,.) = \n",
       "  7.3833e-01  2.6167e-01\n",
       "  9.9997e-01  3.4566e-05\n",
       "  9.9999e-01  5.2211e-06\n",
       "  5.0000e-01  5.0000e-01\n",
       "\n",
       "(29 ,.,.) = \n",
       "  8.4338e-01  1.5662e-01\n",
       "  9.9671e-01  3.2871e-03\n",
       "  9.9985e-01  1.4525e-04\n",
       "  1.3788e-04  9.9986e-01\n",
       "\n",
       "(30 ,.,.) = \n",
       "  7.8173e-01  2.1827e-01\n",
       "  1.0000e+00  2.6743e-06\n",
       "  1.0000e+00  2.1839e-07\n",
       "  5.0000e-01  5.0000e-01\n",
       "\n",
       "(31 ,.,.) = \n",
       "  7.4980e-01  2.5020e-01\n",
       "  9.9963e-01  3.6995e-04\n",
       "  9.9999e-01  5.3973e-06\n",
       "  1.2516e-06  1.0000e+00\n",
       "\n",
       "(32 ,.,.) = \n",
       "  6.9779e-04  9.9930e-01\n",
       "  5.8550e-01  4.1450e-01\n",
       "  7.6656e-01  2.3344e-01\n",
       "  3.1145e-09  1.0000e+00\n",
       "\n",
       "(33 ,.,.) = \n",
       "  6.7084e-03  9.9329e-01\n",
       "  5.0000e-01  5.0000e-01\n",
       "  5.0000e-01  5.0000e-01\n",
       "  5.0000e-01  5.0000e-01\n",
       "\n",
       "(34 ,.,.) = \n",
       "  5.1665e-01  4.8335e-01\n",
       "  9.8511e-01  1.4890e-02\n",
       "  9.5133e-01  4.8667e-02\n",
       "  5.0000e-01  5.0000e-01\n",
       "\n",
       "(35 ,.,.) = \n",
       "  9.5590e-04  9.9904e-01\n",
       "  9.9865e-01  1.3542e-03\n",
       "  9.6211e-01  3.7894e-02\n",
       "  5.0000e-01  5.0000e-01\n",
       "\n",
       "(36 ,.,.) = \n",
       "  1.0000e+00  4.9320e-06\n",
       "  1.0000e+00  4.0943e-10\n",
       "  1.0000e+00  3.7471e-12\n",
       "  5.0000e-01  5.0000e-01\n",
       "\n",
       "(37 ,.,.) = \n",
       "  7.0786e-01  2.9214e-01\n",
       "  5.2026e-01  4.7974e-01\n",
       "  5.0000e-01  5.0000e-01\n",
       "  5.0000e-01  5.0000e-01\n",
       "\n",
       "(38 ,.,.) = \n",
       "  1.2247e-02  9.8775e-01\n",
       "  1.0000e+00  2.2208e-06\n",
       "  1.0000e+00  4.5059e-07\n",
       "  5.0000e-01  5.0000e-01\n",
       "\n",
       "(39 ,.,.) = \n",
       "  1.7665e-01  8.2335e-01\n",
       "  1.0000e+00  2.8053e-08\n",
       "  1.0000e+00  9.6071e-10\n",
       "  5.0000e-01  5.0000e-01\n",
       "\n",
       "(40 ,.,.) = \n",
       "  9.7492e-06  9.9999e-01\n",
       "  5.0000e-01  5.0000e-01\n",
       "  5.0000e-01  5.0000e-01\n",
       "  4.2860e-06  1.0000e+00\n",
       "\n",
       "(41 ,.,.) = \n",
       "  6.4171e-01  3.5829e-01\n",
       "  5.0000e-01  5.0000e-01\n",
       "  5.0000e-01  5.0000e-01\n",
       "  5.9829e-07  1.0000e+00\n",
       "\n",
       "(42 ,.,.) = \n",
       "  9.9727e-01  2.7277e-03\n",
       "  1.0000e+00  2.4503e-09\n",
       "  1.0000e+00  3.9171e-11\n",
       "  5.0000e-01  5.0000e-01\n",
       "\n",
       "(43 ,.,.) = \n",
       "  9.9998e-01  1.5829e-05\n",
       "  5.0000e-01  5.0000e-01\n",
       "  5.0000e-01  5.0000e-01\n",
       "  5.0000e-01  5.0000e-01\n",
       "\n",
       "(44 ,.,.) = \n",
       "  5.2902e-01  4.7098e-01\n",
       "  9.2654e-01  7.3457e-02\n",
       "  9.9337e-01  6.6340e-03\n",
       "  4.5941e-06  1.0000e+00\n",
       "\n",
       "(45 ,.,.) = \n",
       "  1.2534e-01  8.7466e-01\n",
       "  9.9726e-01  2.7440e-03\n",
       "  9.8628e-01  1.3719e-02\n",
       "  5.0000e-01  5.0000e-01\n",
       "\n",
       "(46 ,.,.) = \n",
       "  9.9972e-01  2.7674e-04\n",
       "  5.0000e-01  5.0000e-01\n",
       "  5.0000e-01  5.0000e-01\n",
       "  5.0000e-01  5.0000e-01\n",
       "\n",
       "(47 ,.,.) = \n",
       "  9.5304e-01  4.6959e-02\n",
       "  5.0000e-01  5.0000e-01\n",
       "  5.5570e-01  4.4430e-01\n",
       "  7.0659e-08  1.0000e+00\n",
       "\n",
       "(48 ,.,.) = \n",
       "  9.9993e-01  7.3435e-05\n",
       "  5.0000e-01  5.0000e-01\n",
       "  5.0000e-01  5.0000e-01\n",
       "  9.0626e-02  9.0937e-01\n",
       "\n",
       "(49 ,.,.) = \n",
       "  1.8376e-02  9.8162e-01\n",
       "  9.9999e-01  8.9474e-06\n",
       "  1.0000e+00  1.9196e-06\n",
       "  5.0000e-01  5.0000e-01\n",
       "\n",
       "(50 ,.,.) = \n",
       "  1.0000e+00  1.2415e-07\n",
       "  5.0000e-01  5.0000e-01\n",
       "  5.0000e-01  5.0000e-01\n",
       "  5.0000e-01  5.0000e-01\n",
       "\n",
       "(51 ,.,.) = \n",
       "  8.4296e-01  1.5704e-01\n",
       "  8.9366e-01  1.0634e-01\n",
       "  8.1412e-01  1.8588e-01\n",
       "  5.0000e-01  5.0000e-01\n",
       "\n",
       "(52 ,.,.) = \n",
       "  5.4001e-01  4.5999e-01\n",
       "  9.9494e-01  5.0557e-03\n",
       "  9.9053e-01  9.4679e-03\n",
       "  5.0000e-01  5.0000e-01\n",
       "\n",
       "(53 ,.,.) = \n",
       "  4.3783e-01  5.6217e-01\n",
       "  1.0000e+00  6.8631e-07\n",
       "  1.0000e+00  4.3430e-08\n",
       "  5.0000e-01  5.0000e-01\n",
       "\n",
       "(54 ,.,.) = \n",
       "  6.8870e-04  9.9931e-01\n",
       "  7.2986e-01  2.7014e-01\n",
       "  5.0000e-01  5.0000e-01\n",
       "  5.0000e-01  5.0000e-01\n",
       "\n",
       "(55 ,.,.) = \n",
       "  8.5249e-01  1.4751e-01\n",
       "  5.9090e-01  4.0910e-01\n",
       "  6.3120e-01  3.6880e-01\n",
       "  3.6388e-01  6.3612e-01\n",
       "\n",
       "(56 ,.,.) = \n",
       "  9.9999e-01  1.4914e-05\n",
       "  5.0000e-01  5.0000e-01\n",
       "  5.7274e-01  4.2726e-01\n",
       "  7.8355e-02  9.2164e-01\n",
       "\n",
       "(57 ,.,.) = \n",
       "  7.3069e-02  9.2693e-01\n",
       "  1.0000e+00  1.9106e-06\n",
       "  1.0000e+00  1.2169e-07\n",
       "  5.0000e-01  5.0000e-01\n",
       "\n",
       "(58 ,.,.) = \n",
       "  9.6267e-01  3.7327e-02\n",
       "  1.0000e+00  2.0281e-06\n",
       "  1.0000e+00  1.4258e-07\n",
       "  5.0000e-01  5.0000e-01\n",
       "\n",
       "(59 ,.,.) = \n",
       "  9.5576e-07  1.0000e+00\n",
       "  5.0000e-01  5.0000e-01\n",
       "  5.0000e-01  5.0000e-01\n",
       "  1.6970e-12  1.0000e+00\n",
       "\n",
       "(60 ,.,.) = \n",
       "  4.1436e-01  5.8564e-01\n",
       "  9.8284e-01  1.7159e-02\n",
       "  9.9895e-01  1.0515e-03\n",
       "  9.0170e-06  9.9999e-01\n",
       "\n",
       "(61 ,.,.) = \n",
       "  9.4955e-01  5.0454e-02\n",
       "  5.0000e-01  5.0000e-01\n",
       "  5.0000e-01  5.0000e-01\n",
       "  1.6180e-04  9.9984e-01\n",
       "\n",
       "(62 ,.,.) = \n",
       "  1.0000e+00  4.3678e-06\n",
       "  1.0000e+00  4.8913e-09\n",
       "  1.0000e+00  1.1364e-10\n",
       "  5.0000e-01  5.0000e-01\n",
       "\n",
       "(63 ,.,.) = \n",
       "  9.9988e-01  1.1543e-04\n",
       "  5.0000e-01  5.0000e-01\n",
       "  5.0000e-01  5.0000e-01\n",
       "  5.0000e-01  5.0000e-01\n",
       "\n",
       "(64 ,.,.) = \n",
       "  9.1740e-01  8.2604e-02\n",
       "  5.0000e-01  5.0000e-01\n",
       "  5.1252e-01  4.8748e-01\n",
       "  2.0396e-05  9.9998e-01\n",
       "\n",
       "(65 ,.,.) = \n",
       "  1.0000e+00  2.5076e-08\n",
       "  5.0000e-01  5.0000e-01\n",
       "  5.0000e-01  5.0000e-01\n",
       "  1.9474e-05  9.9998e-01\n",
       "\n",
       "(66 ,.,.) = \n",
       "  9.9981e-01  1.8534e-04\n",
       "  5.0000e-01  5.0000e-01\n",
       "  5.0000e-01  5.0000e-01\n",
       "  5.0000e-01  5.0000e-01\n",
       "\n",
       "(67 ,.,.) = \n",
       "  1.0000e+00  4.6233e-07\n",
       "  5.0000e-01  5.0000e-01\n",
       "  5.0000e-01  5.0000e-01\n",
       "  5.0000e-01  5.0000e-01\n",
       "\n",
       "(68 ,.,.) = \n",
       "  9.9741e-01  2.5930e-03\n",
       "  9.6282e-01  3.7181e-02\n",
       "  9.0519e-01  9.4811e-02\n",
       "  5.0000e-01  5.0000e-01\n",
       "\n",
       "(69 ,.,.) = \n",
       "  9.9887e-01  1.1306e-03\n",
       "  5.0000e-01  5.0000e-01\n",
       "  5.0000e-01  5.0000e-01\n",
       "  5.8175e-10  1.0000e+00\n",
       "\n",
       "(70 ,.,.) = \n",
       "  9.9999e-01  1.0502e-05\n",
       "  5.0000e-01  5.0000e-01\n",
       "  5.0000e-01  5.0000e-01\n",
       "  5.0000e-01  5.0000e-01\n",
       "\n",
       "(71 ,.,.) = \n",
       "  5.3017e-01  4.6983e-01\n",
       "  5.0000e-01  5.0000e-01\n",
       "  5.0000e-01  5.0000e-01\n",
       "  5.0000e-01  5.0000e-01\n",
       "\n",
       "(72 ,.,.) = \n",
       "  5.7337e-01  4.2663e-01\n",
       "  9.7583e-01  2.4172e-02\n",
       "  9.9960e-01  4.0101e-04\n",
       "  1.6089e-10  1.0000e+00\n",
       "\n",
       "(73 ,.,.) = \n",
       "  1.0000e+00  1.9723e-07\n",
       "  6.2344e-01  3.7656e-01\n",
       "  5.0000e-01  5.0000e-01\n",
       "  5.0000e-01  5.0000e-01\n",
       "\n",
       "(74 ,.,.) = \n",
       "  9.9882e-01  1.1800e-03\n",
       "  9.4362e-01  5.6379e-02\n",
       "  9.4187e-01  5.8130e-02\n",
       "  4.2945e-02  9.5706e-01\n",
       "\n",
       "(75 ,.,.) = \n",
       "  9.5526e-01  4.4744e-02\n",
       "  5.0000e-01  5.0000e-01\n",
       "  5.5003e-01  4.4997e-01\n",
       "  2.3257e-08  1.0000e+00\n",
       "\n",
       "(76 ,.,.) = \n",
       "  9.9974e-01  2.6440e-04\n",
       "  5.0000e-01  5.0000e-01\n",
       "  5.0000e-01  5.0000e-01\n",
       "  5.0000e-01  5.0000e-01\n",
       "\n",
       "(77 ,.,.) = \n",
       "  1.5393e-05  9.9998e-01\n",
       "  5.0000e-01  5.0000e-01\n",
       "  5.0000e-01  5.0000e-01\n",
       "  2.8757e-01  7.1243e-01\n",
       "\n",
       "(78 ,.,.) = \n",
       "  9.9999e-01  9.4234e-06\n",
       "  9.1465e-01  8.5348e-02\n",
       "  9.7697e-01  2.3031e-02\n",
       "  5.4637e-04  9.9945e-01\n",
       "\n",
       "(79 ,.,.) = \n",
       "  3.8972e-02  9.6103e-01\n",
       "  9.9999e-01  5.9764e-06\n",
       "  1.0000e+00  2.6607e-06\n",
       "  5.0000e-01  5.0000e-01\n",
       "\n",
       "(80 ,.,.) = \n",
       "  1.1770e-03  9.9882e-01\n",
       "  9.9869e-01  1.3060e-03\n",
       "  9.9877e-01  1.2329e-03\n",
       "  4.9905e-01  5.0095e-01\n",
       "\n",
       "(81 ,.,.) = \n",
       "  1.0000e+00  1.6305e-06\n",
       "  5.0000e-01  5.0000e-01\n",
       "  5.0000e-01  5.0000e-01\n",
       "  5.0000e-01  5.0000e-01\n",
       "\n",
       "(82 ,.,.) = \n",
       "  1.0320e-02  9.8968e-01\n",
       "  9.9939e-01  6.1419e-04\n",
       "  9.9983e-01  1.6913e-04\n",
       "  4.7418e-01  5.2582e-01\n",
       "\n",
       "(83 ,.,.) = \n",
       "  1.0000e+00  5.9159e-07\n",
       "  1.0000e+00  1.7973e-06\n",
       "  1.0000e+00  4.7753e-07\n",
       "  5.0000e-01  5.0000e-01\n",
       "\n",
       "(84 ,.,.) = \n",
       "  4.0372e-01  5.9628e-01\n",
       "  1.0000e+00  3.6092e-07\n",
       "  1.0000e+00  2.0071e-08\n",
       "  5.0000e-01  5.0000e-01\n",
       "\n",
       "(85 ,.,.) = \n",
       "  4.5011e-07  1.0000e+00\n",
       "  5.0000e-01  5.0000e-01\n",
       "  5.0000e-01  5.0000e-01\n",
       "  6.1135e-11  1.0000e+00\n",
       "\n",
       "(86 ,.,.) = \n",
       "  9.9497e-01  5.0280e-03\n",
       "  1.0000e+00  1.3996e-08\n",
       "  1.0000e+00  2.5865e-10\n",
       "  5.0000e-01  5.0000e-01\n",
       "\n",
       "(87 ,.,.) = \n",
       "  7.7694e-01  2.2306e-01\n",
       "  9.9960e-01  3.9745e-04\n",
       "  1.0000e+00  4.1173e-06\n",
       "  1.8998e-07  1.0000e+00\n",
       "\n",
       "(88 ,.,.) = \n",
       "  1.1510e-04  9.9988e-01\n",
       "  9.9899e-01  1.0118e-03\n",
       "  9.9290e-01  7.0982e-03\n",
       "  5.0000e-01  5.0000e-01\n",
       "\n",
       "(89 ,.,.) = \n",
       "  5.5954e-01  4.4046e-01\n",
       "  6.6757e-01  3.3243e-01\n",
       "  5.0000e-01  5.0000e-01\n",
       "  5.0000e-01  5.0000e-01\n",
       "\n",
       "(90 ,.,.) = \n",
       "  1.4297e-07  1.0000e+00\n",
       "  9.9762e-01  2.3756e-03\n",
       "  8.5749e-01  1.4251e-01\n",
       "  5.0000e-01  5.0000e-01\n",
       "\n",
       "(91 ,.,.) = \n",
       "  1.0840e-05  9.9999e-01\n",
       "  9.9961e-01  3.9448e-04\n",
       "  9.9971e-01  2.8855e-04\n",
       "  1.3003e-02  9.8700e-01\n",
       "\n",
       "(92 ,.,.) = \n",
       "  1.0000e+00  9.1023e-07\n",
       "  5.0000e-01  5.0000e-01\n",
       "  5.0000e-01  5.0000e-01\n",
       "  5.9048e-10  1.0000e+00\n",
       "\n",
       "(93 ,.,.) = \n",
       "  5.8655e-01  4.1345e-01\n",
       "  9.9968e-01  3.2083e-04\n",
       "  9.9999e-01  5.6309e-06\n",
       "  3.7938e-06  1.0000e+00\n",
       "\n",
       "(94 ,.,.) = \n",
       "  1.0000e+00  4.1723e-07\n",
       "  5.0000e-01  5.0000e-01\n",
       "  5.0000e-01  5.0000e-01\n",
       "  5.0000e-01  5.0000e-01\n",
       "\n",
       "(95 ,.,.) = \n",
       "  9.7217e-01  2.7835e-02\n",
       "  1.0000e+00  4.8815e-06\n",
       "  1.0000e+00  3.0212e-07\n",
       "  5.0000e-01  5.0000e-01\n",
       "\n",
       "(96 ,.,.) = \n",
       "  9.9947e-01  5.2752e-04\n",
       "  1.0000e+00  3.1767e-08\n",
       "  1.0000e+00  5.4935e-10\n",
       "  5.0000e-01  5.0000e-01\n",
       "\n",
       "(97 ,.,.) = \n",
       "  2.5120e-01  7.4880e-01\n",
       "  9.9956e-01  4.3668e-04\n",
       "  9.9997e-01  3.3870e-05\n",
       "  3.3442e-01  6.6558e-01\n",
       "\n",
       "(98 ,.,.) = \n",
       "  3.2444e-07  1.0000e+00\n",
       "  5.0000e-01  5.0000e-01\n",
       "  5.0000e-01  5.0000e-01\n",
       "  8.7410e-17  1.0000e+00\n",
       "\n",
       "(99 ,.,.) = \n",
       "  1.7601e-05  9.9998e-01\n",
       "  5.0000e-01  5.0000e-01\n",
       "  5.0000e-01  5.0000e-01\n",
       "  1.5309e-13  1.0000e+00\n",
       "[torch.FloatTensor of size 100x4x2]"
      ]
     },
     "execution_count": 25,
     "metadata": {},
     "output_type": "execute_result"
    }
   ],
   "source": [
    "q"
   ]
  },
  {
   "cell_type": "code",
   "execution_count": 26,
   "metadata": {},
   "outputs": [
    {
     "data": {
      "text/plain": [
       "Variable containing:\n",
       "    1     1     1     0\n",
       "    0     1     1     0\n",
       "    1     1     1     1\n",
       "    1     1     0     0\n",
       "    0     0     1     0\n",
       "    0     1     1     0\n",
       "    1     1     1     0\n",
       "    1     1     1     0\n",
       "    0     1     0     0\n",
       "    1     1     1     0\n",
       "    1     1     0     0\n",
       "    1     1     1     0\n",
       "    0     1     1     0\n",
       "    0     1     1     0\n",
       "    1     1     0     0\n",
       "    1     0     0     1\n",
       "    1     1     0     0\n",
       "    1     1     1     1\n",
       "    0     1     1     0\n",
       "    1     1     0     1\n",
       "    1     1     1     1\n",
       "    0     0     0     1\n",
       "    1     1     1     1\n",
       "    1     1     1     0\n",
       "    0     1     1     0\n",
       "    1     1     1     0\n",
       "    0     1     1     0\n",
       "    1     0     0     0\n",
       "    1     1     1     0\n",
       "    1     1     1     0\n",
       "    1     1     1     1\n",
       "    0     1     1     0\n",
       "    0     1     1     0\n",
       "    0     0     0     1\n",
       "    0     1     1     0\n",
       "    0     1     1     0\n",
       "    1     1     1     1\n",
       "    1     0     1     0\n",
       "    0     1     1     1\n",
       "    0     1     1     1\n",
       "    0     1     1     0\n",
       "    1     1     0     0\n",
       "    1     1     1     0\n",
       "    1     0     0     0\n",
       "    1     1     1     0\n",
       "    0     1     1     1\n",
       "    1     1     0     1\n",
       "    1     1     1     0\n",
       "    1     1     0     0\n",
       "    0     1     1     1\n",
       "    1     1     1     0\n",
       "    1     1     1     1\n",
       "    0     1     1     1\n",
       "    0     1     1     1\n",
       "    0     1     0     0\n",
       "    1     1     1     0\n",
       "    1     1     1     0\n",
       "    0     1     1     1\n",
       "    1     1     1     0\n",
       "    0     0     0     0\n",
       "    0     1     1     0\n",
       "    1     1     1     0\n",
       "    1     1     1     0\n",
       "    1     0     0     0\n",
       "    1     0     1     0\n",
       "    1     1     0     0\n",
       "    1     1     0     1\n",
       "    1     0     0     1\n",
       "    1     1     1     1\n",
       "    1     1     0     0\n",
       "    1     1     0     0\n",
       "    1     0     0     0\n",
       "    1     1     1     0\n",
       "    1     1     0     1\n",
       "    1     1     1     0\n",
       "    1     0     1     0\n",
       "    1     1     1     1\n",
       "    0     0     0     0\n",
       "    1     1     1     0\n",
       "    0     1     1     1\n",
       "    0     1     1     0\n",
       "    1     1     1     0\n",
       "    0     1     1     1\n",
       "    1     1     1     1\n",
       "    1     1     1     0\n",
       "    0     0     1     0\n",
       "    1     1     1     1\n",
       "    0     1     1     0\n",
       "    0     1     1     1\n",
       "    0     1     1     0\n",
       "    0     1     1     0\n",
       "    0     1     1     0\n",
       "    1     1     0     0\n",
       "    0     1     1     0\n",
       "    1     1     1     1\n",
       "    1     1     1     0\n",
       "    1     1     1     0\n",
       "    0     1     1     0\n",
       "    0     1     0     0\n",
       "    0     1     1     0\n",
       "[torch.FloatTensor of size 100x4]"
      ]
     },
     "execution_count": 26,
     "metadata": {},
     "output_type": "execute_result"
    }
   ],
   "source": [
    "bits"
   ]
  },
  {
   "cell_type": "code",
   "execution_count": 27,
   "metadata": {
    "collapsed": true
   },
   "outputs": [],
   "source": [
    "test_set = dset.MNIST('data', train=False, download=True, transform=data_transforms)"
   ]
  },
  {
   "cell_type": "code",
   "execution_count": 47,
   "metadata": {},
   "outputs": [
    {
     "data": {
      "text/plain": [
       "<matplotlib.image.AxesImage at 0x7f4686819d30>"
      ]
     },
     "execution_count": 47,
     "metadata": {},
     "output_type": "execute_result"
    },
    {
     "data": {
      "image/png": "[encoded data removed]",
      "text/plain": [
       "<matplotlib.figure.Figure at 0x7f46868cabe0>"
      ]
     },
     "metadata": {},
     "output_type": "display_data"
    }
   ],
   "source": [
    "a = np.array([[0., 0., 0., 0.]])\n",
    "w = D.forward(Variable(torch.from_numpy(a).type(torch.FloatTensor)))\n",
    "plt.imshow(w.view(28,28).data.numpy())"
   ]
  },
  {
   "cell_type": "code",
   "execution_count": 29,
   "metadata": {},
   "outputs": [
    {
     "data": {
      "text/plain": [
       "<matplotlib.image.AxesImage at 0x7f46965529b0>"
      ]
     },
     "execution_count": 29,
     "metadata": {},
     "output_type": "execute_result"
    },
    {
     "data": {
      "image/png": "[encoded data removed]",
      "text/plain": [
       "<matplotlib.figure.Figure at 0x7f469660e780>"
      ]
     },
     "metadata": {},
     "output_type": "display_data"
    }
   ],
   "source": [
    "a = np.array([[0., 0., 0., 1.]])\n",
    "w = D.forward(Variable(torch.from_numpy(a).type(torch.FloatTensor)))\n",
    "plt.imshow(w.view(28,28).data.numpy())"
   ]
  },
  {
   "cell_type": "code",
   "execution_count": 59,
   "metadata": {},
   "outputs": [
    {
     "data": {
      "text/plain": [
       "<matplotlib.image.AxesImage at 0x7f46864025c0>"
      ]
     },
     "execution_count": 59,
     "metadata": {},
     "output_type": "execute_result"
    },
    {
     "data": {
      "image/png": "[encoded data removed]",
      "text/plain": [
       "<matplotlib.figure.Figure at 0x7f468647b710>"
      ]
     },
     "metadata": {},
     "output_type": "display_data"
    }
   ],
   "source": [
    "a = np.array([[1., 1., 0., 0.]])\n",
    "w = D.forward(Variable(torch.from_numpy(a).type(torch.FloatTensor)))\n",
    "plt.imshow(w.view(28,28).data.numpy())"
   ]
  },
  {
   "cell_type": "code",
   "execution_count": 63,
   "metadata": {},
   "outputs": [
    {
     "data": {
      "text/plain": [
       "<matplotlib.image.AxesImage at 0x7f468626fda0>"
      ]
     },
     "execution_count": 63,
     "metadata": {},
     "output_type": "execute_result"
    },
    {
     "data": {
      "image/png": "[encoded data removed]",
      "text/plain": [
       "<matplotlib.figure.Figure at 0x7f46862f0278>"
      ]
     },
     "metadata": {},
     "output_type": "display_data"
    }
   ],
   "source": [
    "a = np.array([[1., 1., 1., 1.]])\n",
    "w = D.forward(Variable(torch.from_numpy(a).type(torch.FloatTensor)))\n",
    "plt.imshow(w.view(28,28).data.numpy())"
   ]
  },
  {
   "cell_type": "code",
   "execution_count": null,
   "metadata": {
    "collapsed": true
   },
   "outputs": [],
   "source": []
  },
  {
   "cell_type": "code",
   "execution_count": 31,
   "metadata": {},
   "outputs": [
    {
     "data": {
      "text/plain": [
       "<matplotlib.image.AxesImage at 0x7f46964975c0>"
      ]
     },
     "execution_count": 31,
     "metadata": {},
     "output_type": "execute_result"
    },
    {
     "data": {
      "image/png": "[encoded data removed]",
      "text/plain": [
       "<matplotlib.figure.Figure at 0x7f4696515160>"
      ]
     },
     "metadata": {},
     "output_type": "display_data"
    }
   ],
   "source": [
    "a = np.array([[0., 0., 1., 1.]])\n",
    "w = D.forward(Variable(torch.from_numpy(a).type(torch.FloatTensor)))\n",
    "plt.imshow(w.view(28,28).data.numpy())"
   ]
  },
  {
   "cell_type": "code",
   "execution_count": 69,
   "metadata": {
    "scrolled": false
   },
   "outputs": [
    {
     "data": {
      "image/png": "[encoded data removed]",
      "text/plain": [
       "<matplotlib.figure.Figure at 0x7f4685e15048>"
      ]
     },
     "metadata": {},
     "output_type": "display_data"
    },
    {
     "data": {
      "image/png": "[encoded data removed]",
      "text/plain": [
       "<matplotlib.figure.Figure at 0x7f4685f255c0>"
      ]
     },
     "metadata": {},
     "output_type": "display_data"
    },
    {
     "data": {
      "image/png": "[encoded data removed]",
      "text/plain": [
       "<matplotlib.figure.Figure at 0x7f4686042668>"
      ]
     },
     "metadata": {},
     "output_type": "display_data"
    },
    {
     "data": {
      "image/png": "[encoded data removed]",
      "text/plain": [
       "<matplotlib.figure.Figure at 0x7f4685d56a20>"
      ]
     },
     "metadata": {},
     "output_type": "display_data"
    },
    {
     "data": {
      "image/png": "[encoded data removed]",
      "text/plain": [
       "<matplotlib.figure.Figure at 0x7f4685e4f048>"
      ]
     },
     "metadata": {},
     "output_type": "display_data"
    },
    {
     "data": {
      "image/png": "[encoded data removed]",
      "text/plain": [
       "<matplotlib.figure.Figure at 0x7f46860eb5f8>"
      ]
     },
     "metadata": {},
     "output_type": "display_data"
    },
    {
     "data": {
      "image/png": "[encoded data removed]",
      "text/plain": [
       "<matplotlib.figure.Figure at 0x7f468616b518>"
      ]
     },
     "metadata": {},
     "output_type": "display_data"
    },
    {
     "data": {
      "image/png": "[encoded data removed]",
      "text/plain": [
       "<matplotlib.figure.Figure at 0x7f46861d65c0>"
      ]
     },
     "metadata": {},
     "output_type": "display_data"
    },
    {
     "data": {
      "image/png": "[encoded data removed]",
      "text/plain": [
       "<matplotlib.figure.Figure at 0x7f4685e135f8>"
      ]
     },
     "metadata": {},
     "output_type": "display_data"
    },
    {
     "data": {
      "image/png": "[encoded data removed]",
      "text/plain": [
       "<matplotlib.figure.Figure at 0x7f46861ca630>"
      ]
     },
     "metadata": {},
     "output_type": "display_data"
    },
    {
     "data": {
      "image/png": "[encoded data removed]",
      "text/plain": [
       "<matplotlib.figure.Figure at 0x7f4685d96ba8>"
      ]
     },
     "metadata": {},
     "output_type": "display_data"
    },
    {
     "data": {
      "image/png": "[encoded data removed]",
      "text/plain": [
       "<matplotlib.figure.Figure at 0x7f4685f4f5f8>"
      ]
     },
     "metadata": {},
     "output_type": "display_data"
    },
    {
     "data": {
      "image/png": "[encoded data removed]",
      "text/plain": [
       "<matplotlib.figure.Figure at 0x7f4685e61f98>"
      ]
     },
     "metadata": {},
     "output_type": "display_data"
    },
    {
     "data": {
      "image/png": "[encoded data removed]",
      "text/plain": [
       "<matplotlib.figure.Figure at 0x7f46860760f0>"
      ]
     },
     "metadata": {},
     "output_type": "display_data"
    },
    {
     "data": {
      "image/png": "[encoded data removed]",
      "text/plain": [
       "<matplotlib.figure.Figure at 0x7f46860089b0>"
      ]
     },
     "metadata": {},
     "output_type": "display_data"
    },
    {
     "data": {
      "image/png": "[encoded data removed]",
      "text/plain": [
       "<matplotlib.figure.Figure at 0x7f4685fd63c8>"
      ]
     },
     "metadata": {},
     "output_type": "display_data"
    }
   ],
   "source": [
    "#plt.figure()\n",
    "k = 1\n",
    "for i1 in range(2):\n",
    "    for i2 in range(2):\n",
    "        for i3 in range(2):\n",
    "            for i4 in range(2):\n",
    "                a = np.array([[float(i1), float(i2), float(i3), float(i4)]])\n",
    "                w = D.forward(Variable(torch.from_numpy(a).type(torch.FloatTensor)))\n",
    "                #plt.subplot(1, 16, k)\n",
    "                plt.title(a)\n",
    "                plt.imshow(w.view(28,28).data.numpy())\n",
    "                k += 1\n",
    "                plt.show()\n"
   ]
  },
  {
   "cell_type": "code",
   "execution_count": null,
   "metadata": {
    "collapsed": true
   },
   "outputs": [],
   "source": [
    "    for i in range(len(actor_code)):\n",
    "        one_hot = np.zeros(len(actor_code))\n",
    "        one_hot[i] = 1\n",
    "        plt.subplot(1, 11, i+2)\n",
    "        plt.axis('off')\n",
    "        plt.title(actor_code[i] + '\\n' + str(probabilities[i]), fontsize=14)\n",
    "        saliency = guided_backprop(graph, image, one_hot, sess)\n",
    "        saliency_diff = true_saliency - saliency\n",
    "        saliency_diff = (saliency_diff * (saliency_diff>0))\n",
    "        scaling_adjustment = 1E-20\n",
    "        saliency_diff = saliency_diff/(np.max(saliency_diff)+scaling_adjustment)\n",
    "        plt.imshow(saliency_diff)"
   ]
  }
 ],
 "metadata": {
  "kernelspec": {
   "display_name": "Python [conda env:pytorch]",
   "language": "python",
   "name": "conda-env-pytorch-py"
  },
  "language_info": {
   "codemirror_mode": {
    "name": "ipython",
    "version": 3
   },
   "file_extension": ".py",
   "mimetype": "text/x-python",
   "name": "python",
   "nbconvert_exporter": "python",
   "pygments_lexer": "ipython3",
   "version": "3.6.4"
  }
 },
 "nbformat": 4,
 "nbformat_minor": 2
}
