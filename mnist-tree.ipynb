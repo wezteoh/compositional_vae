{
 "cells": [
  {
   "cell_type": "code",
   "execution_count": 1,
   "metadata": {
    "collapsed": true
   },
   "outputs": [],
   "source": [
    "%matplotlib inline\n",
    "\n",
    "import matplotlib\n",
    "import numpy as np\n",
    "import matplotlib.pyplot as plt"
   ]
  },
  {
   "cell_type": "code",
   "execution_count": 2,
   "metadata": {
    "collapsed": true
   },
   "outputs": [],
   "source": [
    "import argparse\n",
    "import torch\n",
    "import torch.utils.data\n",
    "from torch import nn, optim\n",
    "from torch.autograd import Variable\n",
    "from torch.nn import functional as F\n",
    "from torchvision import datasets, transforms\n",
    "from torchvision.utils import save_image"
   ]
  },
  {
   "cell_type": "code",
   "execution_count": 3,
   "metadata": {
    "collapsed": true
   },
   "outputs": [],
   "source": [
    "args = type('', (), {})() # Google \"creating an empty object in Python\"\n",
    "args.cuda = torch.cuda.is_available()\n",
    "args.batch_size = 128\n",
    "args.epochs = 5\n",
    "args.seed = 1\n",
    "args.log_interval = 50 # how many batches to wait before logging training status"
   ]
  },
  {
   "cell_type": "code",
   "execution_count": 4,
   "metadata": {
    "collapsed": true
   },
   "outputs": [],
   "source": [
    "torch.manual_seed(args.seed)\n",
    "if args.cuda:\n",
    "    torch.cuda.manual_seed(args.seed)"
   ]
  },
  {
   "cell_type": "code",
   "execution_count": 5,
   "metadata": {
    "collapsed": true
   },
   "outputs": [],
   "source": [
    "kwargs = {'num_workers': 1, 'pin_memory': True} if args.cuda else {}\n",
    "train_loader = torch.utils.data.DataLoader(\n",
    "    datasets.MNIST('./data', train=True, download=True,\n",
    "                   transform=transforms.ToTensor()),\n",
    "    batch_size=args.batch_size, shuffle=True, **kwargs)\n",
    "test_loader = torch.utils.data.DataLoader(\n",
    "    datasets.MNIST('./data', train=False, transform=transforms.ToTensor()),\n",
    "    batch_size=args.batch_size, shuffle=False, **kwargs)"
   ]
  },
  {
   "cell_type": "code",
   "execution_count": 6,
   "metadata": {},
   "outputs": [
    {
     "data": {
      "image/png": "[encoded data removed]",
      "text/plain": [
       "<matplotlib.figure.Figure at 0x1080b5cc0>"
      ]
     },
     "metadata": {},
     "output_type": "display_data"
    }
   ],
   "source": [
    "def get_test_img(ind=0):\n",
    "    batch_idx, (data, ys) = next(enumerate(test_loader))\n",
    "    test_img = Variable(data[ind:ind+1])\n",
    "    return test_img\n",
    "\n",
    "def show_test_img(ind=0):\n",
    "    plt.imshow(get_test_img(ind).view(28,28).data)\n",
    "    \n",
    "def show_img(img):\n",
    "    plt.imshow(img.view(28,28).data)\n",
    "    \n",
    "show_test_img()"
   ]
  },
  {
   "cell_type": "code",
   "execution_count": 7,
   "metadata": {
    "collapsed": true
   },
   "outputs": [],
   "source": [
    "img = get_test_img()\n",
    "H = img.shape[-2]\n",
    "W = img.shape[-1]"
   ]
  },
  {
   "cell_type": "code",
   "execution_count": 170,
   "metadata": {},
   "outputs": [],
   "source": [
    "##### Loop version\n",
    "# from itertools import product\n",
    "    \n",
    "# class Tree(nn.Module):\n",
    "#     def __init__(self):\n",
    "#         super(Tree, self).__init__()\n",
    "#         self.HEIGHT = 3 # IN-BETWEEN height\n",
    "#         layer_sizes = [32, 64, 128, 784] # Last element is always H*W\n",
    "#         _ts = [None] # Putting it here to make indexing easier\n",
    "#         for layer in range(self.HEIGHT):\n",
    "#             layer_size = layer_sizes[layer]\n",
    "#             layer_size_next = layer_sizes[layer+1]\n",
    "#             for _ in range(2**(layer+1)):\n",
    "#                 _ts.append(nn.Linear(layer_size, layer_size_next))\n",
    "#         self.transforms = nn.ModuleList(_ts)\n",
    "        \n",
    "#         #self.relu = nn.ReLU() # TODO use ReLU\n",
    "#         self.sigmoid = nn.Sigmoid()\n",
    "\n",
    "#     def forward(self, noise):\n",
    "#         acc = []\n",
    "#         for path in product([0,1], repeat=self.HEIGHT):\n",
    "#             node = 0 # root\n",
    "#             sofar = noise #self.sigmoid(self.transforms[node](noise))\n",
    "#             for p in path:\n",
    "#                 node = node*2 + 1 + p\n",
    "#                 sofar = self.sigmoid(self.transforms[node](sofar))\n",
    "#             acc.append(sofar)\n",
    "#         return acc\n",
    "    \n",
    "# model = Tree()"
   ]
  },
  {
   "cell_type": "code",
   "execution_count": 186,
   "metadata": {},
   "outputs": [],
   "source": [
    "#### List version (probably better on GPU)\n",
    "from itertools import product\n",
    "    \n",
    "class Tree(nn.Module):\n",
    "    def __init__(self):\n",
    "        super(Tree, self).__init__()\n",
    "        \n",
    "        self.HEIGHT = 3 # IN-BETWEEN height\n",
    "        \n",
    "        # Transforms\n",
    "        layer_sizes = [32, 64, 128, 784] # Last element is always H*W\n",
    "        _ts = [None] # Putting it here to make indexing easier\n",
    "        for layer in range(self.HEIGHT):\n",
    "            layer_size = layer_sizes[layer]\n",
    "            layer_size_next = layer_sizes[layer+1]\n",
    "            for _ in range(2**(layer+1)):\n",
    "                _ts.append(nn.Linear(layer_size, layer_size_next))\n",
    "        #self.transforms = nn.ModuleList(_ts)\n",
    "        \n",
    "        #relu = nn.ReLU() # TODO try use ReLU\n",
    "        sigmoid = nn.Sigmoid()\n",
    "        \n",
    "        _path_networks = []\n",
    "        for path in product([0,1], repeat=self.HEIGHT):\n",
    "            _seq = []\n",
    "            node = 0 # root\n",
    "            for p in path:\n",
    "                node = node*2 + 1 + p\n",
    "                _seq.append(_ts[node])\n",
    "                _seq.append(sigmoid)\n",
    "            _path_networks.append(nn.Sequential(*_seq))\n",
    "        self.path_networks = nn.ModuleList(_path_networks)\n",
    "\n",
    "    def forward(self, noise):\n",
    "        return [net(noise) for net in self.path_networks]\n",
    "    \n",
    "model = Tree()"
   ]
  },
  {
   "cell_type": "markdown",
   "metadata": {},
   "source": [
    "debug:"
   ]
  },
  {
   "cell_type": "code",
   "execution_count": 187,
   "metadata": {},
   "outputs": [
    {
     "data": {
      "text/plain": [
       "torch.Size([1, 1, 32])"
      ]
     },
     "execution_count": 187,
     "metadata": {},
     "output_type": "execute_result"
    }
   ],
   "source": [
    "target = img.view(img.shape[0], img.shape[1], 28*28)\n",
    "noise = torch.zeros(target.shape[0], target.shape[1], 32)\n",
    "noise = Variable(noise)\n",
    "noise.shape"
   ]
  },
  {
   "cell_type": "code",
   "execution_count": 188,
   "metadata": {},
   "outputs": [],
   "source": [
    "output = model(noise)"
   ]
  },
  {
   "cell_type": "code",
   "execution_count": 189,
   "metadata": {},
   "outputs": [
    {
     "data": {
      "text/plain": [
       "torch.Size([1, 1, 784])"
      ]
     },
     "execution_count": 189,
     "metadata": {},
     "output_type": "execute_result"
    }
   ],
   "source": [
    "output[0].shape"
   ]
  },
  {
   "cell_type": "code",
   "execution_count": 190,
   "metadata": {},
   "outputs": [
    {
     "data": {
      "text/plain": [
       "Variable containing:\n",
       " 5.6343\n",
       "[torch.FloatTensor of size 1]"
      ]
     },
     "execution_count": 190,
     "metadata": {},
     "output_type": "execute_result"
    }
   ],
   "source": [
    "losses = [F.binary_cross_entropy(out, target, size_average=True) for out in output]\n",
    "loss = torch.stack(losses).sum()\n",
    "loss"
   ]
  },
  {
   "cell_type": "markdown",
   "metadata": {},
   "source": [
    "---"
   ]
  },
  {
   "cell_type": "code",
   "execution_count": 195,
   "metadata": {
    "collapsed": true
   },
   "outputs": [],
   "source": [
    "model = Tree()\n",
    "optimizer = optim.Adam(model.parameters(), lr=1e-3)"
   ]
  },
  {
   "cell_type": "code",
   "execution_count": 196,
   "metadata": {
    "scrolled": false
   },
   "outputs": [
    {
     "name": "stdout",
     "output_type": "stream",
     "text": [
      "Train Epoch: 0 [0/60000 (0%)]\tLoss: 5.613353\n",
      "Train Epoch: 0 [6400/60000 (11%)]\tLoss: 2.236676\n",
      "Train Epoch: 0 [12800/60000 (21%)]\tLoss: 2.164144\n",
      "Train Epoch: 0 [19200/60000 (32%)]\tLoss: 2.088080\n",
      "Train Epoch: 0 [25600/60000 (43%)]\tLoss: 2.132589\n",
      "Train Epoch: 0 [32000/60000 (53%)]\tLoss: 2.145200\n",
      "Train Epoch: 0 [38400/60000 (64%)]\tLoss: 2.084360\n",
      "Train Epoch: 0 [44800/60000 (75%)]\tLoss: 2.090288\n",
      "Train Epoch: 0 [51200/60000 (85%)]\tLoss: 2.072750\n",
      "Train Epoch: 0 [57600/60000 (96%)]\tLoss: 2.143508\n",
      "CPU times: user 42 s, sys: 1.43 s, total: 43.4 s\n",
      "Wall time: 36.3 s\n"
     ]
    }
   ],
   "source": [
    "%%time\n",
    "\n",
    "def train(epoch):\n",
    "    model.train()\n",
    "    for batch_idx, (data, ys) in enumerate(train_loader):\n",
    "        target = data.view(data.shape[0], data.shape[1], 28*28)\n",
    "        #noise = torch.zeros(target.shape[0], target.shape[1], 32)\n",
    "        noise = torch.randn(target.shape[0], target.shape[1], 32)\n",
    "\n",
    "        noise = Variable(noise)\n",
    "        target = Variable(target)\n",
    "        if args.cuda:\n",
    "            noise = noise.cuda()\n",
    "            target = target.cuda()\n",
    "        \n",
    "        optimizer.zero_grad()\n",
    "        \n",
    "        output = model(noise)\n",
    "        losses = [F.binary_cross_entropy(out, target, size_average=True) for out in output]\n",
    "        loss = torch.stack(losses).sum()\n",
    "        \n",
    "        loss.backward()\n",
    "        optimizer.step()\n",
    "        \n",
    "        if batch_idx % args.log_interval == 0:\n",
    "            print('Train Epoch: {} [{}/{} ({:.0f}%)]\\tLoss: {:.6f}'.format(\n",
    "                epoch, batch_idx * len(data), len(train_loader.dataset),\n",
    "                100. * batch_idx / len(train_loader), loss.data[0]))\n",
    "            \n",
    "for epoch in range(1):\n",
    "    train(epoch)"
   ]
  },
  {
   "cell_type": "markdown",
   "metadata": {},
   "source": [
    "---"
   ]
  },
  {
   "cell_type": "code",
   "execution_count": 199,
   "metadata": {
    "scrolled": false
   },
   "outputs": [
    {
     "data": {
      "image/png": "[encoded data removed]",
      "text/plain": [
       "<matplotlib.figure.Figure at 0x1227fc978>"
      ]
     },
     "metadata": {},
     "output_type": "display_data"
    },
    {
     "data": {
      "image/png": "[encoded data removed]",
      "text/plain": [
       "<matplotlib.figure.Figure at 0x10d319c18>"
      ]
     },
     "metadata": {},
     "output_type": "display_data"
    },
    {
     "data": {
      "image/png": "[encoded data removed]",
      "text/plain": [
       "<matplotlib.figure.Figure at 0x10e05df60>"
      ]
     },
     "metadata": {},
     "output_type": "display_data"
    },
    {
     "data": {
      "image/png": "[encoded data removed]",
      "text/plain": [
       "<matplotlib.figure.Figure at 0x10d3f27f0>"
      ]
     },
     "metadata": {},
     "output_type": "display_data"
    },
    {
     "data": {
      "image/png": "[encoded data removed]",
      "text/plain": [
       "<matplotlib.figure.Figure at 0x111782cf8>"
      ]
     },
     "metadata": {},
     "output_type": "display_data"
    },
    {
     "data": {
      "image/png": "[encoded data removed]",
      "text/plain": [
       "<matplotlib.figure.Figure at 0x125295518>"
      ]
     },
     "metadata": {},
     "output_type": "display_data"
    },
    {
     "data": {
      "image/png": "[encoded data removed]",
      "text/plain": [
       "<matplotlib.figure.Figure at 0x10df65ac8>"
      ]
     },
     "metadata": {},
     "output_type": "display_data"
    },
    {
     "data": {
      "image/png": "[encoded data removed]",
      "text/plain": [
       "<matplotlib.figure.Figure at 0x112317b00>"
      ]
     },
     "metadata": {},
     "output_type": "display_data"
    }
   ],
   "source": [
    "target = img.view(img.shape[0], img.shape[1], 28*28)\n",
    "#noise = torch.zeros(target.shape[0], target.shape[1], 32)\n",
    "noise = torch.randn(target.shape[0], target.shape[1], 32)\n",
    "noise = Variable(noise)\n",
    "output = model(noise)\n",
    "for out in output:\n",
    "    out = out.cpu().data.view(28, 28)\n",
    "    plt.imshow(out)\n",
    "    plt.show()"
   ]
  },
  {
   "cell_type": "code",
   "execution_count": null,
   "metadata": {
    "collapsed": true
   },
   "outputs": [],
   "source": []
  }
 ],
 "metadata": {
  "kernelspec": {
   "display_name": "Python 3",
   "language": "python",
   "name": "python3"
  },
  "language_info": {
   "codemirror_mode": {
    "name": "ipython",
    "version": 3
   },
   "file_extension": ".py",
   "mimetype": "text/x-python",
   "name": "python",
   "nbconvert_exporter": "python",
   "pygments_lexer": "ipython3",
   "version": "3.6.3"
  }
 },
 "nbformat": 4,
 "nbformat_minor": 2
}
