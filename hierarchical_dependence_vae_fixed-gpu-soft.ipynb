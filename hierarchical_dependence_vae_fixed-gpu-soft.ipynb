{
 "cells": [
  {
   "cell_type": "code",
   "execution_count": 1,
   "metadata": {
    "collapsed": true
   },
   "outputs": [],
   "source": [
    "import numpy as np\n",
    "import matplotlib.pyplot as plt\n",
    "%matplotlib inline"
   ]
  },
  {
   "cell_type": "code",
   "execution_count": 2,
   "metadata": {
    "collapsed": true
   },
   "outputs": [],
   "source": [
    "%load_ext autoreload\n",
    "%autoreload 2"
   ]
  },
  {
   "cell_type": "code",
   "execution_count": 3,
   "metadata": {
    "collapsed": true
   },
   "outputs": [],
   "source": [
    "from torch import nn, optim\n",
    "from torch.autograd import Variable\n",
    "from torch.nn import functional as F"
   ]
  },
  {
   "cell_type": "code",
   "execution_count": 4,
   "metadata": {
    "collapsed": true
   },
   "outputs": [],
   "source": [
    "import torchvision.datasets as dset\n",
    "import torchvision.transforms as transforms\n",
    "import torch.utils.data"
   ]
  },
  {
   "cell_type": "code",
   "execution_count": 5,
   "metadata": {
    "collapsed": true
   },
   "outputs": [],
   "source": [
    "CUDA = torch.cuda.is_available()"
   ]
  },
  {
   "cell_type": "code",
   "execution_count": 6,
   "metadata": {
    "collapsed": true
   },
   "outputs": [],
   "source": [
    "#transform\n",
    "data_transforms = transforms.Compose([\n",
    "        transforms.ToTensor(),\n",
    "        lambda x: x>0.5,\n",
    "        lambda x: x.float(),\n",
    "    ])"
   ]
  },
  {
   "cell_type": "code",
   "execution_count": 7,
   "metadata": {
    "collapsed": true
   },
   "outputs": [],
   "source": [
    "# dataset loading\n",
    "bsize = 100\n",
    "train_loader = torch.utils.data.DataLoader(\n",
    "    dset.MNIST('data', train=True, download=True, transform=data_transforms), batch_size=bsize, shuffle=True)\n",
    "test_loader = torch.utils.data.DataLoader(\n",
    "    dset.MNIST('data', train=False, download=True, transform=data_transforms), batch_size=bsize, shuffle=True)"
   ]
  },
  {
   "cell_type": "code",
   "execution_count": 8,
   "metadata": {
    "collapsed": true
   },
   "outputs": [],
   "source": [
    "# hyperparameters\n",
    "N = 5\n",
    "k = 2\n",
    "tau = 1."
   ]
  },
  {
   "cell_type": "code",
   "execution_count": 9,
   "metadata": {
    "collapsed": true
   },
   "outputs": [],
   "source": [
    "# TODO: UPDATE TO BINARY GUMBEL (REFER TO L0-REG PAPER)\n",
    "# gumbel-softmax\n",
    "def sample_gumbel(shape, eps=1e-20):\n",
    "    U = torch.rand(shape)\n",
    "    v = Variable(torch.log(-torch.log(U + eps) + eps))\n",
    "    if CUDA:\n",
    "        v = v.cuda()\n",
    "    return -v\n",
    "\n",
    "def gumbel_softmax_sample(logits, temperature):\n",
    "    y = logits + sample_gumbel(logits.size())\n",
    "    return F.softmax(y / temperature, dim=-1)\n",
    "\n",
    "def gumbel_softmax(logits, temperature, hard=False):\n",
    "    \"\"\"\n",
    "    input: [*, n_class]\n",
    "    return: [*, n_class] an one-hot vector\n",
    "    \"\"\"\n",
    "    y = gumbel_softmax_sample(logits, temperature)\n",
    "    if hard:\n",
    "        shape = y.size()\n",
    "        _, ind = y.max(dim=-1)\n",
    "        y_hard = torch.zeros_like(y).view(-1, shape[-1])\n",
    "        y_hard.scatter_(1, ind.view(-1, 1), 1)\n",
    "        y_hard = y_hard.view(*shape)\n",
    "        return (y_hard - y).detach() + y\n",
    "    else:\n",
    "        return y"
   ]
  },
  {
   "cell_type": "code",
   "execution_count": 10,
   "metadata": {
    "collapsed": true
   },
   "outputs": [],
   "source": [
    "class Encoder(nn.Module):\n",
    "    def __init__(self):\n",
    "        super(Encoder, self).__init__()\n",
    "        self.fc1 = nn.Linear(784, 512)\n",
    "        self.fc2 = nn.Linear(512, 128)\n",
    "        self.relu = nn.ReLU()\n",
    "        \n",
    "    def forward(self, x):\n",
    "        h1 = self.relu(self.fc1(x))\n",
    "        l = self.relu(self.fc2(h1))\n",
    "        return l"
   ]
  },
  {
   "cell_type": "code",
   "execution_count": 11,
   "metadata": {
    "collapsed": true
   },
   "outputs": [],
   "source": [
    "class Tunnel(nn.Module):\n",
    "    def __init__(self):\n",
    "        super(Tunnel, self).__init__()\n",
    "        self.fc1 = nn.Linear(128, 128)\n",
    "        self.relu = nn.ReLU()\n",
    "        \n",
    "    def forward(self, x):\n",
    "        l = self.relu(self.fc1(x))\n",
    "        return l"
   ]
  },
  {
   "cell_type": "code",
   "execution_count": 12,
   "metadata": {
    "collapsed": true
   },
   "outputs": [],
   "source": [
    "class Output(nn.Module):\n",
    "    def __init__(self):\n",
    "        super(Output, self).__init__()\n",
    "        self.fc1 = nn.Linear(128, 2)\n",
    "        self.relu = nn.ReLU()\n",
    "        \n",
    "    def forward(self, x):\n",
    "        h1 = self.relu(self.fc1(x))\n",
    "        l = h1.view(-1,2)\n",
    "        return l"
   ]
  },
  {
   "cell_type": "code",
   "execution_count": 13,
   "metadata": {
    "collapsed": true
   },
   "outputs": [],
   "source": [
    "class Gate(nn.Module):\n",
    "    def __init__(self):\n",
    "        super(Gate, self).__init__()\n",
    "        self.fc1 = nn.Linear(1, 128)\n",
    "        \n",
    "    def forward(self, x):\n",
    "        return F.sigmoid(self.fc1(x))"
   ]
  },
  {
   "cell_type": "code",
   "execution_count": 14,
   "metadata": {
    "collapsed": true
   },
   "outputs": [],
   "source": [
    "def prob(outputs):\n",
    "    outputs = [F.softmax(out, dim=-1) for out in outputs]\n",
    "    return torch.cat(outputs, dim=1).view(-1, N, k)\n",
    "\n",
    "def sample(l):\n",
    "    gs = gumbel_softmax(l, tau)\n",
    "    return gs.narrow(1,0,1)\n",
    "\n",
    "# def signal(outputs):\n",
    "#     outputs = [sample(out).narrow(1,0,1) for out in outputs]\n",
    "#     return torch.cat(outputs, dim=1)\n",
    "    "
   ]
  },
  {
   "cell_type": "code",
   "execution_count": 15,
   "metadata": {
    "collapsed": true
   },
   "outputs": [],
   "source": [
    "class Decoder(nn.Module):  \n",
    "    def __init__(self):\n",
    "        super(Decoder, self).__init__()\n",
    "        self.fc1 = nn.Linear(N, 128)\n",
    "        self.fc2 = nn.Linear(128, 256)\n",
    "        self.fc3 = nn.Linear(256, 512)      \n",
    "        self.fc4 = nn.Linear(512, 784)\n",
    "        self.relu = nn.ReLU()\n",
    "        \n",
    "    def forward(self, x):\n",
    "        h1 = self.relu(self.fc1(x))\n",
    "        h2 = self.relu(self.fc2(h1))\n",
    "        h3 = self.relu(self.fc3(h2))\n",
    "        h4 = self.fc4(h3)\n",
    "        o = h4.view(-1,784)\n",
    "        return F.sigmoid(o)"
   ]
  },
  {
   "cell_type": "code",
   "execution_count": 16,
   "metadata": {
    "collapsed": true
   },
   "outputs": [],
   "source": [
    "E = Encoder()\n",
    "D = Decoder()\n",
    "O0 = Output()\n",
    "Os = [Output() for _ in range(N-1)]\n",
    "Ts = [Tunnel() for _ in range(N-1)]\n",
    "T1s = [Tunnel() for _ in range(N-1)]\n",
    "Gs = [Gate() for _ in range(N-1)]"
   ]
  },
  {
   "cell_type": "code",
   "execution_count": 17,
   "metadata": {
    "collapsed": true
   },
   "outputs": [],
   "source": [
    "if CUDA:\n",
    "    E.cuda()\n",
    "    D.cuda()\n",
    "    O0.cuda()\n",
    "    [e.cuda() for e in Os]\n",
    "    [e.cuda() for e in Ts]\n",
    "    [e.cuda() for e in T1s]\n",
    "    [e.cuda() for e in Gs]"
   ]
  },
  {
   "cell_type": "code",
   "execution_count": 18,
   "metadata": {
    "collapsed": true
   },
   "outputs": [],
   "source": [
    "import os\n",
    "os.system('mkdir -p checkpoint_soft')\n",
    "PATH = 'checkpoint_soft/hd_vae'\n",
    "def save_model():\n",
    "    torch.save(E.state_dict(), \"{}_E\".format(PATH))\n",
    "    torch.save(D.state_dict(), \"{}_D\".format(PATH))\n",
    "    torch.save(O0.state_dict(), \"{}_O0\".format(PATH))\n",
    "    \n",
    "    def save_list(models, name):\n",
    "        for i in range(len(models)):\n",
    "            torch.save(models[i].state_dict(), \"{}_{}_{}\".format(PATH, name, i))\n",
    "    \n",
    "    save_list(Os, 'Os')\n",
    "    save_list(Ts, 'Ts')\n",
    "    save_list(T1s, 'T1s')\n",
    "    save_list(Gs, 'Gs')\n",
    "    \n",
    "#save_model()"
   ]
  },
  {
   "cell_type": "code",
   "execution_count": 19,
   "metadata": {
    "collapsed": true
   },
   "outputs": [],
   "source": [
    "from itertools import product\n",
    "    \n",
    "log_two_pow_n = Variable(torch.Tensor([2**N]).log(), requires_grad=False)\n",
    "if CUDA:\n",
    "    log_two_pow_n = log_two_pow_n.cuda()\n",
    "\n",
    "def get_dependent_prior_loss(x):\n",
    "    acc = Variable(torch.zeros(2**N))\n",
    "    if CUDA:\n",
    "        acc = acc.cuda()\n",
    "    acc_i = 0\n",
    "    for _path in product(range(2), repeat=N):\n",
    "        path = Variable(torch.Tensor(_path), requires_grad=False)\n",
    "        if CUDA:\n",
    "            path = path.cuda()\n",
    "        sofar = E(x)\n",
    "        outputs = [O0(sofar)]\n",
    "\n",
    "        for n in range(len(Ts)):\n",
    "            sofar = Ts[n](sofar)*Gs[n](path[n]) # Kind of doing \"teacher forcing\"\n",
    "            outputs.append(Os[n](sofar))\n",
    "\n",
    "        q = prob(outputs)\n",
    "\n",
    "        _idx = path.data\n",
    "        select_mat = Variable(torch.stack([1-_idx, _idx]).t(), requires_grad=False)\n",
    "        if CUDA:\n",
    "            select_mat = select_mat.cuda()\n",
    "        select_mat = select_mat.expand(torch.Size([x.shape[0]]) + select_mat.shape)\n",
    "        probs = q.mul(select_mat).sum(-1) # shape (batch x N)\n",
    "        log_q = (probs+1e-20).log().sum(-1) # shape (batch)\n",
    "        kl_term = log_q.exp().mul(log_two_pow_n + log_q) # shape (batch)\n",
    "        kl_term = kl_term.mean() # shape (1) - take sum over minibatch\n",
    "\n",
    "        acc[acc_i] = kl_term\n",
    "        acc_i += 1\n",
    "\n",
    "    return acc.sum()"
   ]
  },
  {
   "cell_type": "code",
   "execution_count": 20,
   "metadata": {},
   "outputs": [
    {
     "data": {
      "text/plain": [
       "Variable containing:\n",
       "1.00000e-04 *\n",
       "  6.9696\n",
       "[torch.cuda.FloatTensor of size 1 (GPU 0)]"
      ]
     },
     "execution_count": 20,
     "metadata": {},
     "output_type": "execute_result"
    }
   ],
   "source": [
    "# TESTING\n",
    "# Hacky! Getting a data point.\n",
    "for batch_idx, (data, _) in enumerate(train_loader):\n",
    "    data = Variable(data)\n",
    "    if CUDA:\n",
    "        data = data.cuda()\n",
    "    x = data.view(-1,784)\n",
    "    x = x[0:4]\n",
    "    break\n",
    "    \n",
    "get_dependent_prior_loss(x)"
   ]
  },
  {
   "cell_type": "code",
   "execution_count": 21,
   "metadata": {},
   "outputs": [
    {
     "data": {
      "text/plain": [
       "Variable containing:\n",
       "    0     0     0  ...      0     0     0\n",
       "    0     0     0  ...      0     0     0\n",
       "    0     0     0  ...      0     0     0\n",
       "    0     0     0  ...      0     0     0\n",
       "[torch.cuda.FloatTensor of size 4x784 (GPU 0)]"
      ]
     },
     "execution_count": 21,
     "metadata": {},
     "output_type": "execute_result"
    }
   ],
   "source": [
    "x"
   ]
  },
  {
   "cell_type": "code",
   "execution_count": 22,
   "metadata": {
    "collapsed": true
   },
   "outputs": [],
   "source": [
    "# TODO\n",
    "# objective\n",
    "def loss_function(recon_x, x, q):\n",
    "    BCE = F.binary_cross_entropy(recon_x, x, size_average=False)/bsize # TODO eddie: changed from size_average=False\n",
    "    # Assuming independent latent\n",
    "#     KLD = torch.sum(q*(torch.log(q+1E-20)-np.log(1/k)))\n",
    "\n",
    "    # Assuming dependent latent\n",
    "    KLD = get_dependent_prior_loss(x)\n",
    "    return BCE, KLD"
   ]
  },
  {
   "cell_type": "code",
   "execution_count": 23,
   "metadata": {
    "collapsed": true
   },
   "outputs": [],
   "source": [
    "params = [\n",
    "    {'params':E.parameters()},\n",
    "    {'params':D.parameters()},\n",
    "    {'params':O0.parameters()},\n",
    "] + [{'params':o.parameters()} for o in Os] \\\n",
    "  + [{'params':t.parameters()} for t in Ts] + [{'params': g.parameters()} for g in Gs]\n",
    "optimizer = optim.Adam(params, lr=1e-4)"
   ]
  },
  {
   "cell_type": "code",
   "execution_count": 24,
   "metadata": {
    "collapsed": true
   },
   "outputs": [],
   "source": [
    "best_loss_sofar = 9999"
   ]
  },
  {
   "cell_type": "code",
   "execution_count": 25,
   "metadata": {
    "collapsed": true
   },
   "outputs": [],
   "source": [
    "def train(epoch):\n",
    "    global best_loss_sofar\n",
    "    train_bce_loss = 0\n",
    "    train_kld_loss = 0\n",
    "    for batch_idx, (data, _) in enumerate(train_loader):\n",
    "        data = Variable(data)\n",
    "        if CUDA:\n",
    "            data = data.cuda()\n",
    "        x = data.view(-1,784)\n",
    "        optimizer.zero_grad()\n",
    "        sofar = E(x)\n",
    "        outputs = [O0(sofar)]\n",
    "        samples = [sample(outputs[-1])]\n",
    "        for n in range(len(Ts)):\n",
    "            sofar = Ts[n](sofar)*Gs[n](samples[-1])\n",
    "            outputs.append(Os[n](sofar))\n",
    "            samples.append(sample(outputs[-1]))\n",
    "        bits = torch.cat(samples, dim=1)\n",
    "        q = prob(outputs)\n",
    "        recon_x = D(bits)\n",
    "        BCE, KLD = loss_function(recon_x, x, q)\n",
    "        loss = BCE + KLD\n",
    "        loss.backward()\n",
    "        optimizer.step()\n",
    "        \n",
    "        train_bce_loss += BCE.data[0]\n",
    "        train_kld_loss += KLD.data[0]\n",
    "        \n",
    "#         if batch_idx % 200 == 0:\n",
    "#             print('Train Epoch: {} [{}/{} ({:.0f}%)]\\tBCE loss: {:.6f}\\tKLD loss: {:.6f}'.format(\n",
    "#                 epoch+1, batch_idx * len(data), len(train_loader.dataset),\n",
    "#                 100. * batch_idx / len(train_loader),\n",
    "#                 BCE.data[0] / len(data),\n",
    "#                 KLD.data[0] / len(data)))\n",
    "            \n",
    "    avg_bce_loss = train_bce_loss / len(train_loader.dataset)\n",
    "    avg_kld_loss = train_kld_loss / len(train_loader.dataset)\n",
    "    avg_loss = avg_bce_loss + avg_kld_loss\n",
    "    print('====> Epoch: {} Average BCE loss: {:.4f}, Average KLD loss: {:.4f}, Total: {:.4f}'.format(\n",
    "          epoch+1, avg_bce_loss, avg_kld_loss, avg_loss))\n",
    "    \n",
    "    if avg_loss < best_loss_sofar:\n",
    "        print(\"Loss {} is better than previous best {}, saving model\".format(avg_loss, best_loss_sofar))\n",
    "        save_model()\n",
    "        best_loss_sofar = avg_loss\n",
    "        \n",
    "    return q, bits # for debugging"
   ]
  },
  {
   "cell_type": "code",
   "execution_count": 26,
   "metadata": {},
   "outputs": [
    {
     "name": "stdout",
     "output_type": "stream",
     "text": [
      "====> Epoch: 1 Average BCE loss: 2.3704, Average KLD loss: 0.0127, Total: 2.3831\n",
      "Loss 2.3831258862551175 is better than previous best 9999, saving model\n",
      "====> Epoch: 2 Average BCE loss: 1.9775, Average KLD loss: 0.0162, Total: 1.9937\n",
      "Loss 1.9937368068496386 is better than previous best 2.3831258862551175, saving model\n",
      "====> Epoch: 3 Average BCE loss: 1.9370, Average KLD loss: 0.0143, Total: 1.9513\n",
      "Loss 1.9513368823270003 is better than previous best 1.9937368068496386, saving model\n",
      "====> Epoch: 4 Average BCE loss: 1.9332, Average KLD loss: 0.0140, Total: 1.9472\n",
      "Loss 1.9471824773510298 is better than previous best 1.9513368823270003, saving model\n",
      "====> Epoch: 5 Average BCE loss: 1.9312, Average KLD loss: 0.0140, Total: 1.9452\n",
      "Loss 1.9452260203739007 is better than previous best 1.9471824773510298, saving model\n",
      "====> Epoch: 6 Average BCE loss: 1.9286, Average KLD loss: 0.0140, Total: 1.9426\n",
      "Loss 1.942617157147328 is better than previous best 1.9452260203739007, saving model\n",
      "====> Epoch: 7 Average BCE loss: 1.9260, Average KLD loss: 0.0140, Total: 1.9400\n",
      "Loss 1.939962124323845 is better than previous best 1.942617157147328, saving model\n",
      "====> Epoch: 8 Average BCE loss: 1.9238, Average KLD loss: 0.0140, Total: 1.9378\n",
      "Loss 1.9377828555246195 is better than previous best 1.939962124323845, saving model\n",
      "====> Epoch: 9 Average BCE loss: 1.9209, Average KLD loss: 0.0139, Total: 1.9348\n",
      "Loss 1.934809775886933 is better than previous best 1.9377828555246195, saving model\n",
      "====> Epoch: 10 Average BCE loss: 1.9182, Average KLD loss: 0.0139, Total: 1.9322\n",
      "Loss 1.932150125535329 is better than previous best 1.934809775886933, saving model\n",
      "====> Epoch: 11 Average BCE loss: 1.9156, Average KLD loss: 0.0139, Total: 1.9295\n",
      "Loss 1.9295335479636986 is better than previous best 1.932150125535329, saving model\n",
      "====> Epoch: 12 Average BCE loss: 1.9127, Average KLD loss: 0.0139, Total: 1.9266\n",
      "Loss 1.9265975550333658 is better than previous best 1.9295335479636986, saving model\n",
      "====> Epoch: 13 Average BCE loss: 1.9102, Average KLD loss: 0.0139, Total: 1.9242\n",
      "Loss 1.924157469890515 is better than previous best 1.9265975550333658, saving model\n",
      "====> Epoch: 14 Average BCE loss: 1.9069, Average KLD loss: 0.0139, Total: 1.9209\n",
      "Loss 1.9208767297943432 is better than previous best 1.924157469890515, saving model\n",
      "====> Epoch: 15 Average BCE loss: 1.9047, Average KLD loss: 0.0139, Total: 1.9186\n",
      "Loss 1.9185931398550669 is better than previous best 1.9208767297943432, saving model\n",
      "====> Epoch: 16 Average BCE loss: 1.9020, Average KLD loss: 0.0139, Total: 1.9159\n",
      "Loss 1.9158686989168328 is better than previous best 1.9185931398550669, saving model\n",
      "====> Epoch: 17 Average BCE loss: 1.8991, Average KLD loss: 0.0139, Total: 1.9130\n",
      "Loss 1.9130287669261297 is better than previous best 1.9158686989168328, saving model\n",
      "====> Epoch: 18 Average BCE loss: 1.8966, Average KLD loss: 0.0139, Total: 1.9105\n",
      "Loss 1.910520569841067 is better than previous best 1.9130287669261297, saving model\n",
      "====> Epoch: 19 Average BCE loss: 1.8935, Average KLD loss: 0.0139, Total: 1.9074\n",
      "Loss 1.907407344754537 is better than previous best 1.910520569841067, saving model\n",
      "====> Epoch: 20 Average BCE loss: 1.8906, Average KLD loss: 0.0139, Total: 1.9045\n",
      "Loss 1.9045341230928898 is better than previous best 1.907407344754537, saving model\n",
      "CPU times: user 14min 33s, sys: 2.75 s, total: 14min 36s\n",
      "Wall time: 14min 36s\n"
     ]
    }
   ],
   "source": [
    "%%time\n",
    "for epoch in range(20):\n",
    "    q, bits = train(epoch)"
   ]
  },
  {
   "cell_type": "code",
   "execution_count": 32,
   "metadata": {},
   "outputs": [
    {
     "name": "stdout",
     "output_type": "stream",
     "text": [
      "====> Epoch: 21 Average BCE loss: 1.8872, Average KLD loss: 0.0139, Total: 1.9011\n",
      "Loss 1.901144043767452 is better than previous best 1.9045341230928898, saving model\n",
      "====> Epoch: 22 Average BCE loss: 1.8844, Average KLD loss: 0.0139, Total: 1.8983\n",
      "Loss 1.898307335279385 is better than previous best 1.901144043767452, saving model\n",
      "====> Epoch: 23 Average BCE loss: 1.8812, Average KLD loss: 0.0139, Total: 1.8951\n",
      "Loss 1.8950898248414199 is better than previous best 1.898307335279385, saving model\n",
      "====> Epoch: 24 Average BCE loss: 1.8787, Average KLD loss: 0.0139, Total: 1.8926\n",
      "Loss 1.8925768343607585 is better than previous best 1.8950898248414199, saving model\n",
      "====> Epoch: 25 Average BCE loss: 1.8767, Average KLD loss: 0.0139, Total: 1.8906\n",
      "Loss 1.890572736154 is better than previous best 1.8925768343607585, saving model\n",
      "====> Epoch: 26 Average BCE loss: 1.8739, Average KLD loss: 0.0139, Total: 1.8878\n",
      "Loss 1.8878310186286766 is better than previous best 1.890572736154, saving model\n",
      "====> Epoch: 27 Average BCE loss: 1.8713, Average KLD loss: 0.0140, Total: 1.8852\n",
      "Loss 1.8852457720915476 is better than previous best 1.8878310186286766, saving model\n",
      "====> Epoch: 28 Average BCE loss: 1.8697, Average KLD loss: 0.0139, Total: 1.8836\n",
      "Loss 1.8836416160186131 is better than previous best 1.8852457720915476, saving model\n",
      "====> Epoch: 29 Average BCE loss: 1.8672, Average KLD loss: 0.0140, Total: 1.8812\n",
      "Loss 1.8811508487284183 is better than previous best 1.8836416160186131, saving model\n",
      "====> Epoch: 30 Average BCE loss: 1.8656, Average KLD loss: 0.0139, Total: 1.8795\n",
      "Loss 1.879507421563069 is better than previous best 1.8811508487284183, saving model\n",
      "====> Epoch: 31 Average BCE loss: 1.8638, Average KLD loss: 0.0140, Total: 1.8778\n",
      "Loss 1.8777515829622744 is better than previous best 1.879507421563069, saving model\n",
      "====> Epoch: 32 Average BCE loss: 1.8626, Average KLD loss: 0.0140, Total: 1.8766\n",
      "Loss 1.8766237809816995 is better than previous best 1.8777515829622744, saving model\n",
      "====> Epoch: 33 Average BCE loss: 1.8609, Average KLD loss: 0.0140, Total: 1.8749\n",
      "Loss 1.8748869984706242 is better than previous best 1.8766237809816995, saving model\n",
      "====> Epoch: 34 Average BCE loss: 1.8600, Average KLD loss: 0.0140, Total: 1.8740\n",
      "Loss 1.873977334235112 is better than previous best 1.8748869984706242, saving model\n",
      "====> Epoch: 35 Average BCE loss: 1.8575, Average KLD loss: 0.0139, Total: 1.8715\n",
      "Loss 1.8714619414031504 is better than previous best 1.873977334235112, saving model\n",
      "====> Epoch: 36 Average BCE loss: 1.8581, Average KLD loss: 0.0139, Total: 1.8721\n",
      "====> Epoch: 37 Average BCE loss: 1.8566, Average KLD loss: 0.0139, Total: 1.8705\n",
      "Loss 1.870539220805963 is better than previous best 1.8714619414031504, saving model\n",
      "====> Epoch: 38 Average BCE loss: 1.8541, Average KLD loss: 0.0139, Total: 1.8681\n",
      "Loss 1.8680522907396158 is better than previous best 1.870539220805963, saving model\n",
      "====> Epoch: 39 Average BCE loss: 1.8519, Average KLD loss: 0.0140, Total: 1.8659\n",
      "Loss 1.8658787333031497 is better than previous best 1.8680522907396158, saving model\n",
      "====> Epoch: 40 Average BCE loss: 1.8513, Average KLD loss: 0.0140, Total: 1.8653\n",
      "Loss 1.8652785395463307 is better than previous best 1.8658787333031497, saving model\n",
      "CPU times: user 14min 35s, sys: 2.56 s, total: 14min 37s\n",
      "Wall time: 14min 37s\n"
     ]
    }
   ],
   "source": [
    "%%time\n",
    "for epoch in range(20,40):\n",
    "    q, bits = train(epoch)"
   ]
  },
  {
   "cell_type": "code",
   "execution_count": 36,
   "metadata": {},
   "outputs": [
    {
     "name": "stdout",
     "output_type": "stream",
     "text": [
      "====> Epoch: 41 Average BCE loss: 1.8502, Average KLD loss: 0.0139, Total: 1.8641\n",
      "Loss 1.8640969894647599 is better than previous best 1.8652785395463307, saving model\n",
      "====> Epoch: 42 Average BCE loss: 1.8494, Average KLD loss: 0.0139, Total: 1.8634\n",
      "Loss 1.8633516766428948 is better than previous best 1.8640969894647599, saving model\n",
      "====> Epoch: 43 Average BCE loss: 1.8482, Average KLD loss: 0.0140, Total: 1.8622\n",
      "Loss 1.8621606835941473 is better than previous best 1.8633516766428948, saving model\n",
      "====> Epoch: 44 Average BCE loss: 1.8479, Average KLD loss: 0.0139, Total: 1.8618\n",
      "Loss 1.8618241078535716 is better than previous best 1.8621606835941473, saving model\n",
      "====> Epoch: 45 Average BCE loss: 1.8456, Average KLD loss: 0.0140, Total: 1.8595\n",
      "Loss 1.8595488862752914 is better than previous best 1.8618241078535716, saving model\n",
      "====> Epoch: 46 Average BCE loss: 1.8453, Average KLD loss: 0.0139, Total: 1.8592\n",
      "Loss 1.8592168095787365 is better than previous best 1.8595488862752914, saving model\n",
      "====> Epoch: 47 Average BCE loss: 1.8452, Average KLD loss: 0.0139, Total: 1.8592\n",
      "Loss 1.8591621024608613 is better than previous best 1.8592168095787365, saving model\n",
      "====> Epoch: 48 Average BCE loss: 1.8465, Average KLD loss: 0.0139, Total: 1.8604\n",
      "====> Epoch: 49 Average BCE loss: 1.8447, Average KLD loss: 0.0139, Total: 1.8586\n",
      "Loss 1.858602436329921 is better than previous best 1.8591621024608613, saving model\n",
      "====> Epoch: 50 Average BCE loss: 1.8426, Average KLD loss: 0.0139, Total: 1.8565\n",
      "Loss 1.8565310551762582 is better than previous best 1.858602436329921, saving model\n",
      "====> Epoch: 51 Average BCE loss: 1.8408, Average KLD loss: 0.0140, Total: 1.8547\n",
      "Loss 1.8547202570239703 is better than previous best 1.8565310551762582, saving model\n",
      "====> Epoch: 52 Average BCE loss: 1.8409, Average KLD loss: 0.0139, Total: 1.8548\n",
      "====> Epoch: 53 Average BCE loss: 1.8404, Average KLD loss: 0.0140, Total: 1.8544\n",
      "Loss 1.854354310508569 is better than previous best 1.8547202570239703, saving model\n",
      "====> Epoch: 54 Average BCE loss: 1.8387, Average KLD loss: 0.0139, Total: 1.8527\n",
      "Loss 1.8526650147259236 is better than previous best 1.854354310508569, saving model\n",
      "====> Epoch: 55 Average BCE loss: 1.8383, Average KLD loss: 0.0139, Total: 1.8522\n",
      "Loss 1.8522499249279498 is better than previous best 1.8526650147259236, saving model\n",
      "====> Epoch: 56 Average BCE loss: 1.8362, Average KLD loss: 0.0140, Total: 1.8501\n",
      "Loss 1.850142770266533 is better than previous best 1.8522499249279498, saving model\n",
      "====> Epoch: 57 Average BCE loss: 1.8371, Average KLD loss: 0.0139, Total: 1.8510\n",
      "====> Epoch: 58 Average BCE loss: 1.8360, Average KLD loss: 0.0139, Total: 1.8500\n",
      "Loss 1.8499522630711396 is better than previous best 1.850142770266533, saving model\n",
      "====> Epoch: 59 Average BCE loss: 1.8359, Average KLD loss: 0.0139, Total: 1.8498\n",
      "Loss 1.849814250757297 is better than previous best 1.8499522630711396, saving model\n",
      "====> Epoch: 60 Average BCE loss: 1.8347, Average KLD loss: 0.0139, Total: 1.8486\n",
      "Loss 1.8486060991267363 is better than previous best 1.849814250757297, saving model\n",
      "CPU times: user 14min 57s, sys: 2.88 s, total: 15min\n",
      "Wall time: 15min\n"
     ]
    }
   ],
   "source": [
    "%%time\n",
    "for epoch in range(40,60):\n",
    "    q, bits = train(epoch)"
   ]
  },
  {
   "cell_type": "code",
   "execution_count": 40,
   "metadata": {},
   "outputs": [
    {
     "name": "stdout",
     "output_type": "stream",
     "text": [
      "====> Epoch: 61 Average BCE loss: 1.8348, Average KLD loss: 0.0139, Total: 1.8487\n",
      "====> Epoch: 62 Average BCE loss: 1.8340, Average KLD loss: 0.0139, Total: 1.8480\n",
      "Loss 1.847971200199922 is better than previous best 1.8486060991267363, saving model\n",
      "====> Epoch: 63 Average BCE loss: 1.8336, Average KLD loss: 0.0139, Total: 1.8475\n",
      "Loss 1.8475190769116083 is better than previous best 1.847971200199922, saving model\n",
      "====> Epoch: 64 Average BCE loss: 1.8322, Average KLD loss: 0.0139, Total: 1.8462\n",
      "Loss 1.8461508153994879 is better than previous best 1.8475190769116083, saving model\n",
      "====> Epoch: 65 Average BCE loss: 1.8323, Average KLD loss: 0.0139, Total: 1.8462\n",
      "====> Epoch: 66 Average BCE loss: 1.8327, Average KLD loss: 0.0140, Total: 1.8467\n",
      "====> Epoch: 67 Average BCE loss: 1.8312, Average KLD loss: 0.0139, Total: 1.8451\n",
      "Loss 1.8450963131725788 is better than previous best 1.8461508153994879, saving model\n",
      "====> Epoch: 68 Average BCE loss: 1.8305, Average KLD loss: 0.0139, Total: 1.8444\n",
      "Loss 1.844406007840236 is better than previous best 1.8450963131725788, saving model\n",
      "====> Epoch: 69 Average BCE loss: 1.8311, Average KLD loss: 0.0139, Total: 1.8451\n",
      "====> Epoch: 70 Average BCE loss: 1.8308, Average KLD loss: 0.0140, Total: 1.8448\n",
      "====> Epoch: 71 Average BCE loss: 1.8305, Average KLD loss: 0.0139, Total: 1.8444\n",
      "Loss 1.8443968695700168 is better than previous best 1.844406007840236, saving model\n",
      "====> Epoch: 72 Average BCE loss: 1.8299, Average KLD loss: 0.0139, Total: 1.8438\n",
      "Loss 1.8438249622225762 is better than previous best 1.8443968695700168, saving model\n",
      "====> Epoch: 73 Average BCE loss: 1.8281, Average KLD loss: 0.0139, Total: 1.8420\n",
      "Loss 1.8419912458340326 is better than previous best 1.8438249622225762, saving model\n",
      "====> Epoch: 74 Average BCE loss: 1.8284, Average KLD loss: 0.0139, Total: 1.8424\n",
      "====> Epoch: 75 Average BCE loss: 1.8284, Average KLD loss: 0.0139, Total: 1.8423\n",
      "====> Epoch: 76 Average BCE loss: 1.8280, Average KLD loss: 0.0139, Total: 1.8420\n",
      "Loss 1.841967049954335 is better than previous best 1.8419912458340326, saving model\n",
      "====> Epoch: 77 Average BCE loss: 1.8317, Average KLD loss: 0.0139, Total: 1.8456\n",
      "====> Epoch: 78 Average BCE loss: 1.8290, Average KLD loss: 0.0139, Total: 1.8430\n",
      "====> Epoch: 79 Average BCE loss: 1.8318, Average KLD loss: 0.0139, Total: 1.8457\n",
      "====> Epoch: 80 Average BCE loss: 1.8273, Average KLD loss: 0.0139, Total: 1.8412\n",
      "Loss 1.8412388478239377 is better than previous best 1.841967049954335, saving model\n",
      "====> Epoch: 81 Average BCE loss: 1.8259, Average KLD loss: 0.0139, Total: 1.8399\n",
      "Loss 1.839883938274781 is better than previous best 1.8412388478239377, saving model\n",
      "====> Epoch: 82 Average BCE loss: 1.8277, Average KLD loss: 0.0140, Total: 1.8417\n",
      "====> Epoch: 83 Average BCE loss: 1.8264, Average KLD loss: 0.0139, Total: 1.8403\n",
      "====> Epoch: 84 Average BCE loss: 1.8255, Average KLD loss: 0.0139, Total: 1.8394\n",
      "Loss 1.8394235682606697 is better than previous best 1.839883938274781, saving model\n",
      "====> Epoch: 85 Average BCE loss: 1.8253, Average KLD loss: 0.0139, Total: 1.8392\n",
      "Loss 1.8392435490687689 is better than previous best 1.8394235682606697, saving model\n",
      "====> Epoch: 86 Average BCE loss: 1.8261, Average KLD loss: 0.0139, Total: 1.8400\n",
      "====> Epoch: 87 Average BCE loss: 1.8247, Average KLD loss: 0.0139, Total: 1.8386\n",
      "Loss 1.8386275586664678 is better than previous best 1.8392435490687689, saving model\n",
      "====> Epoch: 88 Average BCE loss: 1.8222, Average KLD loss: 0.0139, Total: 1.8362\n",
      "Loss 1.8361608015974362 is better than previous best 1.8386275586664678, saving model\n",
      "====> Epoch: 89 Average BCE loss: 1.8227, Average KLD loss: 0.0139, Total: 1.8366\n",
      "====> Epoch: 90 Average BCE loss: 1.8225, Average KLD loss: 0.0139, Total: 1.8365\n",
      "====> Epoch: 91 Average BCE loss: 1.8263, Average KLD loss: 0.0139, Total: 1.8402\n",
      "====> Epoch: 92 Average BCE loss: 1.8235, Average KLD loss: 0.0139, Total: 1.8374\n",
      "====> Epoch: 93 Average BCE loss: 1.8233, Average KLD loss: 0.0139, Total: 1.8372\n",
      "====> Epoch: 94 Average BCE loss: 1.8225, Average KLD loss: 0.0139, Total: 1.8364\n",
      "====> Epoch: 95 Average BCE loss: 1.8225, Average KLD loss: 0.0139, Total: 1.8365\n",
      "====> Epoch: 96 Average BCE loss: 1.8230, Average KLD loss: 0.0139, Total: 1.8369\n",
      "====> Epoch: 97 Average BCE loss: 1.8250, Average KLD loss: 0.0139, Total: 1.8389\n",
      "====> Epoch: 98 Average BCE loss: 1.8247, Average KLD loss: 0.0139, Total: 1.8386\n",
      "====> Epoch: 99 Average BCE loss: 1.8231, Average KLD loss: 0.0139, Total: 1.8371\n",
      "====> Epoch: 100 Average BCE loss: 1.8255, Average KLD loss: 0.0139, Total: 1.8394\n",
      "CPU times: user 28min 51s, sys: 5.48 s, total: 28min 56s\n",
      "Wall time: 28min 55s\n"
     ]
    }
   ],
   "source": [
    "%%time\n",
    "for epoch in range(60,100):\n",
    "    q, bits = train(epoch)"
   ]
  },
  {
   "cell_type": "code",
   "execution_count": 41,
   "metadata": {},
   "outputs": [
    {
     "data": {
      "text/plain": [
       "Variable containing:\n",
       "( 0 ,.,.) = \n",
       "  1.0000  0.0000\n",
       "  1.0000  0.0000\n",
       "  0.5000  0.5000\n",
       "  0.0253  0.9747\n",
       "  0.5000  0.5000\n",
       "\n",
       "( 1 ,.,.) = \n",
       "  1.0000  0.0000\n",
       "  1.0000  0.0000\n",
       "  0.5000  0.5000\n",
       "  0.0011  0.9989\n",
       "  0.5000  0.5000\n",
       "\n",
       "( 2 ,.,.) = \n",
       "  1.0000  0.0000\n",
       "  1.0000  0.0000\n",
       "  0.5000  0.5000\n",
       "  0.7484  0.2516\n",
       "  0.5000  0.5000\n",
       "... \n",
       "\n",
       "(97 ,.,.) = \n",
       "  1.0000  0.0000\n",
       "  1.0000  0.0000\n",
       "  0.5000  0.5000\n",
       "  0.0000  1.0000\n",
       "  0.5000  0.5000\n",
       "\n",
       "(98 ,.,.) = \n",
       "  1.0000  0.0000\n",
       "  1.0000  0.0000\n",
       "  0.5000  0.5000\n",
       "  0.6448  0.3552\n",
       "  0.5000  0.5000\n",
       "\n",
       "(99 ,.,.) = \n",
       "  1.0000  0.0000\n",
       "  1.0000  0.0000\n",
       "  0.5000  0.5000\n",
       "  0.0003  0.9997\n",
       "  0.5000  0.5000\n",
       "[torch.cuda.FloatTensor of size 100x5x2 (GPU 0)]"
      ]
     },
     "execution_count": 41,
     "metadata": {},
     "output_type": "execute_result"
    }
   ],
   "source": [
    "q"
   ]
  },
  {
   "cell_type": "code",
   "execution_count": 42,
   "metadata": {},
   "outputs": [
    {
     "data": {
      "text/plain": [
       "Variable containing:\n",
       " 1.0000e+00  1.0000e+00  4.9830e-01  2.1830e-02  5.6833e-01\n",
       " 1.0000e+00  1.0000e+00  1.6922e-01  8.1597e-04  4.9227e-01\n",
       " 1.0000e+00  1.0000e+00  9.5309e-01  9.4371e-01  8.3041e-01\n",
       " 1.0000e+00  1.0000e+00  6.6713e-01  5.5026e-02  6.4431e-01\n",
       " 1.0000e+00  1.0000e+00  6.9525e-01  9.9756e-01  5.0073e-01\n",
       " 1.0000e+00  1.0000e+00  3.5496e-01  1.0000e+00  8.7959e-01\n",
       " 1.0000e+00  1.0000e+00  8.5790e-01  1.5517e-04  2.1823e-01\n",
       " 1.0000e+00  1.0000e+00  4.9886e-01  3.8417e-06  2.0043e-01\n",
       " 1.0000e+00  1.0000e+00  3.9946e-01  9.9722e-08  4.4015e-01\n",
       " 1.0000e+00  1.0000e+00  4.7581e-01  5.2378e-01  5.9424e-01\n",
       " 1.0000e+00  1.0000e+00  8.1944e-01  6.7078e-03  5.9366e-01\n",
       " 1.0000e+00  1.0000e+00  1.0908e-01  1.0000e+00  9.3979e-01\n",
       " 1.0000e+00  1.0000e+00  5.8044e-01  2.9256e-03  1.1270e-01\n",
       " 1.0000e+00  1.0000e+00  1.2815e-01  1.2995e-02  6.1338e-01\n",
       " 1.0000e+00  1.0000e+00  4.1772e-01  5.3594e-08  9.5370e-01\n",
       " 1.0000e+00  1.0000e+00  4.7955e-01  8.6107e-01  7.0016e-02\n",
       " 1.0000e+00  1.0000e+00  4.8253e-01  9.9896e-01  2.3644e-01\n",
       " 1.0000e+00  1.0000e+00  8.4670e-01  2.6407e-10  8.6284e-01\n",
       " 1.0000e+00  1.0000e+00  5.2819e-02  9.8960e-01  4.9392e-01\n",
       " 1.0000e+00  1.0000e+00  2.6499e-01  6.3282e-04  9.8901e-01\n",
       " 1.0000e+00  1.0000e+00  9.9006e-01  2.5536e-07  6.5643e-01\n",
       " 1.0000e+00  1.0000e+00  5.9508e-01  7.7409e-01  5.9950e-01\n",
       " 1.0000e+00  1.0000e+00  8.4054e-01  3.4807e-01  8.0262e-01\n",
       " 1.0000e+00  1.0000e+00  9.6587e-02  1.0000e+00  9.9161e-01\n",
       " 1.0000e+00  1.0000e+00  4.3116e-02  1.0000e+00  1.7714e-01\n",
       " 1.0000e+00  1.0000e+00  2.7398e-01  8.3049e-01  6.1573e-01\n",
       " 1.0000e+00  1.0000e+00  6.8199e-01  5.5724e-07  1.2035e-01\n",
       " 1.0000e+00  1.0000e+00  4.9514e-01  5.8711e-01  3.6461e-01\n",
       " 1.0000e+00  1.0000e+00  2.5487e-02  1.2217e-06  7.1557e-01\n",
       " 1.0000e+00  1.0000e+00  6.9178e-01  1.7039e-01  8.1038e-01\n",
       " 1.0000e+00  1.0000e+00  8.0634e-01  9.4978e-01  8.7252e-01\n",
       " 1.0000e+00  1.0000e+00  1.8431e-01  9.9812e-01  4.1814e-01\n",
       " 1.0000e+00  1.0000e+00  8.7292e-01  6.4406e-02  7.9270e-01\n",
       " 1.0000e+00  1.0000e+00  2.9083e-01  3.7662e-04  5.7953e-01\n",
       " 1.0000e+00  1.0000e+00  6.2697e-01  1.4264e-07  5.7239e-01\n",
       " 1.0000e+00  1.0000e+00  2.2473e-01  1.0000e+00  4.5515e-01\n",
       " 1.0000e+00  1.0000e+00  1.3857e-01  3.4396e-01  2.8922e-01\n",
       " 1.0000e+00  1.0000e+00  4.0117e-01  9.7517e-01  1.7940e-01\n",
       " 1.0000e+00  1.0000e+00  9.6590e-01  4.2582e-01  7.7187e-01\n",
       " 1.0000e+00  1.0000e+00  8.9781e-01  1.6142e-13  4.2726e-01\n",
       " 1.0000e+00  1.0000e+00  1.9564e-01  9.9331e-01  5.1332e-01\n",
       " 1.0000e+00  1.0000e+00  7.0414e-01  4.3393e-07  3.4682e-01\n",
       " 1.0000e+00  1.0000e+00  9.4765e-02  4.4536e-10  9.8503e-01\n",
       " 1.0000e+00  1.0000e+00  4.3619e-01  2.1698e-06  4.9904e-01\n",
       " 1.0000e+00  1.0000e+00  7.6449e-02  1.0000e+00  9.4107e-01\n",
       " 1.0000e+00  1.0000e+00  2.0391e-01  1.0000e+00  6.8922e-01\n",
       " 1.0000e+00  1.0000e+00  4.7433e-03  6.2141e-06  4.7253e-01\n",
       " 1.0000e+00  1.0000e+00  6.7279e-01  3.4239e-04  8.9290e-01\n",
       " 1.0000e+00  1.0000e+00  1.5344e-01  3.6236e-06  2.2415e-02\n",
       " 1.0000e+00  1.0000e+00  2.8855e-01  7.7511e-04  6.1645e-01\n",
       " 1.0000e+00  1.0000e+00  9.5751e-01  1.7374e-13  1.2840e-01\n",
       " 1.0000e+00  1.0000e+00  6.9601e-02  8.7837e-03  9.7458e-01\n",
       " 1.0000e+00  1.0000e+00  4.5602e-01  9.7186e-01  2.1221e-01\n",
       " 1.0000e+00  1.0000e+00  4.0306e-02  9.3259e-03  6.5224e-01\n",
       " 1.0000e+00  1.0000e+00  5.0681e-01  2.5712e-02  4.9234e-01\n",
       " 1.0000e+00  1.0000e+00  7.9167e-01  1.1924e-02  6.4460e-01\n",
       " 1.0000e+00  1.0000e+00  6.3004e-01  1.1461e-02  1.0403e-01\n",
       " 1.0000e+00  1.0000e+00  8.5063e-01  4.6542e-09  5.5492e-01\n",
       " 1.0000e+00  1.0000e+00  4.0805e-01  4.8886e-07  4.7195e-01\n",
       " 1.0000e+00  1.0000e+00  5.4513e-01  4.2578e-03  7.0472e-01\n",
       " 1.0000e+00  1.0000e+00  1.2988e-01  3.4807e-01  7.0948e-01\n",
       " 1.0000e+00  1.0000e+00  2.4642e-01  9.0538e-01  3.4789e-01\n",
       " 1.0000e+00  1.0000e+00  1.4343e-01  8.8269e-12  4.5265e-01\n",
       " 1.0000e+00  1.0000e+00  5.4759e-01  6.3152e-13  1.9461e-01\n",
       " 1.0000e+00  1.0000e+00  9.0652e-01  1.3159e-02  4.4373e-01\n",
       " 1.0000e+00  1.0000e+00  5.4876e-01  2.5408e-01  9.3272e-01\n",
       " 1.0000e+00  1.0000e+00  8.4513e-01  1.0787e-10  5.1344e-01\n",
       " 1.0000e+00  1.0000e+00  8.8194e-01  1.9609e-12  5.8466e-01\n",
       " 1.0000e+00  1.0000e+00  3.4058e-01  2.8717e-01  6.9869e-01\n",
       " 1.0000e+00  1.0000e+00  7.6135e-01  1.4506e-03  1.5340e-01\n",
       " 1.0000e+00  1.0000e+00  1.7197e-01  2.7214e-05  3.3647e-01\n",
       " 1.0000e+00  1.0000e+00  7.3644e-01  1.0000e+00  9.4079e-01\n",
       " 1.0000e+00  1.0000e+00  1.2735e-02  2.4450e-01  3.0573e-01\n",
       " 1.0000e+00  1.0000e+00  6.7717e-01  2.6155e-01  5.1254e-01\n",
       " 1.0000e+00  1.0000e+00  3.9874e-01  3.3888e-06  8.6424e-01\n",
       " 1.0000e+00  1.0000e+00  2.1642e-01  9.9993e-01  3.6188e-01\n",
       " 1.0000e+00  1.0000e+00  8.6264e-01  7.1717e-02  1.9420e-01\n",
       " 1.0000e+00  1.0000e+00  6.7394e-01  2.1543e-01  4.2071e-01\n",
       " 1.0000e+00  1.0000e+00  5.6640e-01  1.2173e-02  2.8146e-02\n",
       " 1.0000e+00  1.0000e+00  7.9859e-01  2.6774e-06  2.5597e-01\n",
       " 1.0000e+00  1.0000e+00  6.0508e-01  9.3112e-01  9.9497e-01\n",
       " 1.0000e+00  9.9999e-01  3.5292e-01  9.4565e-01  6.7167e-01\n",
       " 1.0000e+00  1.0000e+00  2.9927e-01  5.3614e-02  6.6929e-01\n",
       " 1.0000e+00  1.0000e+00  7.7262e-01  1.0000e+00  6.1806e-02\n",
       " 1.0000e+00  1.0000e+00  6.1200e-01  1.0000e+00  9.0787e-01\n",
       " 1.0000e+00  1.0000e+00  5.8718e-02  1.9573e-03  5.3509e-01\n",
       " 1.0000e+00  1.0000e+00  8.6875e-01  7.2392e-01  6.9080e-01\n",
       " 1.0000e+00  1.0000e+00  2.6264e-01  1.0000e+00  3.1635e-01\n",
       " 1.0000e+00  1.0000e+00  4.5016e-01  9.6791e-01  5.8567e-01\n",
       " 1.0000e+00  1.0000e+00  5.2652e-01  9.1505e-01  5.4267e-01\n",
       " 1.0000e+00  1.0000e+00  1.8340e-01  1.2741e-04  1.5569e-01\n",
       " 1.0000e+00  1.0000e+00  8.8794e-01  9.7745e-01  7.0552e-01\n",
       " 1.0000e+00  1.0000e+00  1.4960e-01  6.7420e-01  6.4145e-02\n",
       " 1.0000e+00  1.0000e+00  2.7176e-01  2.0405e-01  2.5600e-02\n",
       " 1.0000e+00  1.0000e+00  8.1530e-01  1.1617e-07  7.9678e-01\n",
       " 1.0000e+00  1.0000e+00  5.5120e-01  9.8740e-01  4.0672e-02\n",
       " 1.0000e+00  1.0000e+00  4.6781e-01  1.0000e+00  5.2037e-01\n",
       " 1.0000e+00  1.0000e+00  5.1132e-01  3.3553e-06  3.4725e-01\n",
       " 1.0000e+00  1.0000e+00  8.6250e-01  7.2203e-01  4.3445e-01\n",
       " 1.0000e+00  1.0000e+00  6.4281e-01  8.1197e-04  5.0560e-01\n",
       "[torch.cuda.FloatTensor of size 100x5 (GPU 0)]"
      ]
     },
     "execution_count": 42,
     "metadata": {},
     "output_type": "execute_result"
    }
   ],
   "source": [
    "bits"
   ]
  },
  {
   "cell_type": "code",
   "execution_count": 43,
   "metadata": {
    "collapsed": true
   },
   "outputs": [],
   "source": [
    "#test_set = dset.MNIST('data', train=False, download=True, transform=data_transforms)"
   ]
  },
  {
   "cell_type": "code",
   "execution_count": 44,
   "metadata": {
    "collapsed": true
   },
   "outputs": [],
   "source": [
    "# a = np.array([[0., 0., 0., 0.]])\n",
    "# w = D.forward(Variable(torch.from_numpy(a).type(torch.FloatTensor)))\n",
    "# plt.imshow(w.view(28,28).data.numpy())"
   ]
  },
  {
   "cell_type": "code",
   "execution_count": 45,
   "metadata": {
    "scrolled": true
   },
   "outputs": [
    {
     "data": {
      "image/png": "[encoded data removed]",
      "text/plain": [
       "<matplotlib.figure.Figure at 0x7fb0245b91d0>"
      ]
     },
     "metadata": {},
     "output_type": "display_data"
    }
   ],
   "source": [
    "from itertools import product\n",
    "f, axes = plt.subplots(1, 2**N, sharey=True, figsize=(25,1))\n",
    "kk = 0\n",
    "for path in product(range(2), repeat=N):\n",
    "    v = Variable(torch.Tensor(path).type(torch.FloatTensor))\n",
    "    if CUDA:\n",
    "        v = v.cuda()\n",
    "    w = D.forward(v)\n",
    "    ax = axes[kk]\n",
    "    ax.set_title(path)\n",
    "    ax.imshow(w.view(28,28).cpu().data.numpy())\n",
    "    kk += 1"
   ]
  },
  {
   "cell_type": "code",
   "execution_count": null,
   "metadata": {
    "collapsed": true
   },
   "outputs": [],
   "source": []
  }
 ],
 "metadata": {
  "kernelspec": {
   "display_name": "Python 3",
   "language": "python",
   "name": "python3"
  },
  "language_info": {
   "codemirror_mode": {
    "name": "ipython",
    "version": 3
   },
   "file_extension": ".py",
   "mimetype": "text/x-python",
   "name": "python",
   "nbconvert_exporter": "python",
   "pygments_lexer": "ipython3",
   "version": "3.5.2"
  }
 },
 "nbformat": 4,
 "nbformat_minor": 2
}
